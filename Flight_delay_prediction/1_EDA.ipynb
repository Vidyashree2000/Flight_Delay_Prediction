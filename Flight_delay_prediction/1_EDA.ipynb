{
 "cells": [
  {
   "cell_type": "markdown",
   "id": "b7fabb11",
   "metadata": {},
   "source": [
    "# Flight delay prediction"
   ]
  },
  {
   "cell_type": "markdown",
   "id": "924eb142",
   "metadata": {},
   "source": [
    "--> Analyzing data and handling missing values.\n",
    "--> Getting delay of flight"
   ]
  },
  {
   "cell_type": "code",
   "execution_count": null,
   "id": "c644a41f",
   "metadata": {},
   "outputs": [],
   "source": [
    "import numpy as np\n",
    "import pandas as pd\n",
    "import seaborn as sns\n",
    "import matplotlib.pyplot as plt\n",
    "from scipy.stats import norm"
   ]
  },
  {
   "cell_type": "code",
   "execution_count": null,
   "id": "44ee4efc",
   "metadata": {},
   "outputs": [],
   "source": [
    "fin_train=pd.read_csv('merged_2004onindex.csv')"
   ]
  },
  {
   "cell_type": "code",
   "execution_count": 55,
   "id": "ded098cf",
   "metadata": {},
   "outputs": [
    {
     "data": {
      "text/html": [
       "<div>\n",
       "<style scoped>\n",
       "    .dataframe tbody tr th:only-of-type {\n",
       "        vertical-align: middle;\n",
       "    }\n",
       "\n",
       "    .dataframe tbody tr th {\n",
       "        vertical-align: top;\n",
       "    }\n",
       "\n",
       "    .dataframe thead th {\n",
       "        text-align: right;\n",
       "    }\n",
       "</style>\n",
       "<table border=\"1\" class=\"dataframe\">\n",
       "  <thead>\n",
       "    <tr style=\"text-align: right;\">\n",
       "      <th></th>\n",
       "      <th>Unnamed: 0</th>\n",
       "      <th>FlightNumber</th>\n",
       "      <th>Year</th>\n",
       "      <th>Month</th>\n",
       "      <th>DayofMonth</th>\n",
       "      <th>DayOfWeek</th>\n",
       "      <th>ScheduledDepTime</th>\n",
       "      <th>ScheduledArrTime</th>\n",
       "      <th>ScheduledTravelTime</th>\n",
       "      <th>Origin</th>\n",
       "      <th>...</th>\n",
       "      <th>Time</th>\n",
       "      <th>SkyConditions</th>\n",
       "      <th>Visibility</th>\n",
       "      <th>DBT</th>\n",
       "      <th>RelativeHumidityPercent</th>\n",
       "      <th>WindSpeed</th>\n",
       "      <th>WindDirection</th>\n",
       "      <th>WindGustValue</th>\n",
       "      <th>StationPressure</th>\n",
       "      <th>HourlyPrecip</th>\n",
       "    </tr>\n",
       "  </thead>\n",
       "  <tbody>\n",
       "    <tr>\n",
       "      <th>0</th>\n",
       "      <td>0</td>\n",
       "      <td>BOS_CLE_29089</td>\n",
       "      <td>2004</td>\n",
       "      <td>9</td>\n",
       "      <td>20</td>\n",
       "      <td>1</td>\n",
       "      <td>1000</td>\n",
       "      <td>1154</td>\n",
       "      <td>114</td>\n",
       "      <td>BOS</td>\n",
       "      <td>...</td>\n",
       "      <td>1350</td>\n",
       "      <td>FEW075 BKN090</td>\n",
       "      <td>10SM</td>\n",
       "      <td>32.0</td>\n",
       "      <td>40.0</td>\n",
       "      <td>15.0</td>\n",
       "      <td>160</td>\n",
       "      <td>0.0</td>\n",
       "      <td>30.05</td>\n",
       "      <td>0.0</td>\n",
       "    </tr>\n",
       "    <tr>\n",
       "      <th>1</th>\n",
       "      <td>1</td>\n",
       "      <td>CLE_ATL_44346</td>\n",
       "      <td>2004</td>\n",
       "      <td>11</td>\n",
       "      <td>19</td>\n",
       "      <td>5</td>\n",
       "      <td>1440</td>\n",
       "      <td>1634</td>\n",
       "      <td>114</td>\n",
       "      <td>CLE</td>\n",
       "      <td>...</td>\n",
       "      <td>1910</td>\n",
       "      <td>BKN028 OVC033</td>\n",
       "      <td>10SM</td>\n",
       "      <td>21.0</td>\n",
       "      <td>74.0</td>\n",
       "      <td>5.0</td>\n",
       "      <td>VRB</td>\n",
       "      <td>0.0</td>\n",
       "      <td>30.06</td>\n",
       "      <td>0.0</td>\n",
       "    </tr>\n",
       "    <tr>\n",
       "      <th>2</th>\n",
       "      <td>2</td>\n",
       "      <td>SNA_LAS_44378</td>\n",
       "      <td>2004</td>\n",
       "      <td>5</td>\n",
       "      <td>4</td>\n",
       "      <td>2</td>\n",
       "      <td>1800</td>\n",
       "      <td>1902</td>\n",
       "      <td>62</td>\n",
       "      <td>SNA</td>\n",
       "      <td>...</td>\n",
       "      <td>2010</td>\n",
       "      <td>FEW025 OVC032</td>\n",
       "      <td>9SM</td>\n",
       "      <td>25.0</td>\n",
       "      <td>75.0</td>\n",
       "      <td>4.0</td>\n",
       "      <td>VRB</td>\n",
       "      <td>0.0</td>\n",
       "      <td>30.06</td>\n",
       "      <td>0.0</td>\n",
       "    </tr>\n",
       "    <tr>\n",
       "      <th>3</th>\n",
       "      <td>3</td>\n",
       "      <td>CLT_TPA_51502</td>\n",
       "      <td>2004</td>\n",
       "      <td>7</td>\n",
       "      <td>6</td>\n",
       "      <td>2</td>\n",
       "      <td>1400</td>\n",
       "      <td>1533</td>\n",
       "      <td>93</td>\n",
       "      <td>CLT</td>\n",
       "      <td>...</td>\n",
       "      <td>1010</td>\n",
       "      <td>SCT015 BKN020 OVC028</td>\n",
       "      <td>4SM</td>\n",
       "      <td>25.0</td>\n",
       "      <td>92.0</td>\n",
       "      <td>0.0</td>\n",
       "      <td>000</td>\n",
       "      <td>0.0</td>\n",
       "      <td>29.98</td>\n",
       "      <td>0.0</td>\n",
       "    </tr>\n",
       "    <tr>\n",
       "      <th>4</th>\n",
       "      <td>4</td>\n",
       "      <td>MSP_ORD_44884</td>\n",
       "      <td>2004</td>\n",
       "      <td>9</td>\n",
       "      <td>23</td>\n",
       "      <td>4</td>\n",
       "      <td>830</td>\n",
       "      <td>946</td>\n",
       "      <td>76</td>\n",
       "      <td>MSP</td>\n",
       "      <td>...</td>\n",
       "      <td>1050</td>\n",
       "      <td>BKN013 OVC021</td>\n",
       "      <td>1.75SM</td>\n",
       "      <td>27.0</td>\n",
       "      <td>85.0</td>\n",
       "      <td>0.0</td>\n",
       "      <td>000</td>\n",
       "      <td>0.0</td>\n",
       "      <td>29.99</td>\n",
       "      <td>0.0</td>\n",
       "    </tr>\n",
       "  </tbody>\n",
       "</table>\n",
       "<p>5 rows × 34 columns</p>\n",
       "</div>"
      ],
      "text/plain": [
       "   Unnamed: 0   FlightNumber  Year  Month  DayofMonth  DayOfWeek  \\\n",
       "0           0  BOS_CLE_29089  2004      9          20          1   \n",
       "1           1  CLE_ATL_44346  2004     11          19          5   \n",
       "2           2  SNA_LAS_44378  2004      5           4          2   \n",
       "3           3  CLT_TPA_51502  2004      7           6          2   \n",
       "4           4  MSP_ORD_44884  2004      9          23          4   \n",
       "\n",
       "   ScheduledDepTime  ScheduledArrTime  ScheduledTravelTime Origin  ...  Time  \\\n",
       "0              1000              1154                  114    BOS  ...  1350   \n",
       "1              1440              1634                  114    CLE  ...  1910   \n",
       "2              1800              1902                   62    SNA  ...  2010   \n",
       "3              1400              1533                   93    CLT  ...  1010   \n",
       "4               830               946                   76    MSP  ...  1050   \n",
       "\n",
       "          SkyConditions Visibility   DBT  RelativeHumidityPercent WindSpeed  \\\n",
       "0         FEW075 BKN090       10SM  32.0                     40.0      15.0   \n",
       "1         BKN028 OVC033       10SM  21.0                     74.0       5.0   \n",
       "2         FEW025 OVC032        9SM  25.0                     75.0       4.0   \n",
       "3  SCT015 BKN020 OVC028        4SM  25.0                     92.0       0.0   \n",
       "4         BKN013 OVC021     1.75SM  27.0                     85.0       0.0   \n",
       "\n",
       "   WindDirection  WindGustValue  StationPressure  HourlyPrecip  \n",
       "0            160            0.0            30.05           0.0  \n",
       "1            VRB            0.0            30.06           0.0  \n",
       "2            VRB            0.0            30.06           0.0  \n",
       "3            000            0.0            29.98           0.0  \n",
       "4            000            0.0            29.99           0.0  \n",
       "\n",
       "[5 rows x 34 columns]"
      ]
     },
     "execution_count": 55,
     "metadata": {},
     "output_type": "execute_result"
    }
   ],
   "source": [
    "fin_train.head()"
   ]
  },
  {
   "cell_type": "code",
   "execution_count": 56,
   "id": "ba7c2707",
   "metadata": {},
   "outputs": [
    {
     "data": {
      "text/plain": [
       "(7861, 34)"
      ]
     },
     "execution_count": 56,
     "metadata": {},
     "output_type": "execute_result"
    }
   ],
   "source": [
    "fin_train.shape"
   ]
  },
  {
   "cell_type": "code",
   "execution_count": 57,
   "id": "77b52ee1",
   "metadata": {},
   "outputs": [
    {
     "data": {
      "text/plain": [
       "Unnamed: 0                  0\n",
       "FlightNumber                0\n",
       "Year                        0\n",
       "Month                       0\n",
       "DayofMonth                  0\n",
       "DayOfWeek                   0\n",
       "ScheduledDepTime            0\n",
       "ScheduledArrTime            0\n",
       "ScheduledTravelTime         0\n",
       "Origin                      0\n",
       "Destination                 0\n",
       "Distance                    0\n",
       "ActualArrivalTimeStamp      0\n",
       "YearMonthDay_x              0\n",
       "WeatherStationID            0\n",
       "AirportID                   0\n",
       "GroundHeight                0\n",
       "StationHeight               0\n",
       "BarometerHeight             0\n",
       "Latitude                    0\n",
       "Longitude                   0\n",
       "TimeZone                    0\n",
       "Unnamed: 0.1                0\n",
       "YearMonthDay_y              0\n",
       "Time                        0\n",
       "SkyConditions               9\n",
       "Visibility                 73\n",
       "DBT                        47\n",
       "RelativeHumidityPercent    47\n",
       "WindSpeed                   3\n",
       "WindDirection               3\n",
       "WindGustValue               3\n",
       "StationPressure             0\n",
       "HourlyPrecip               13\n",
       "dtype: int64"
      ]
     },
     "execution_count": 57,
     "metadata": {},
     "output_type": "execute_result"
    }
   ],
   "source": [
    "fin_train.isnull().sum()"
   ]
  },
  {
   "cell_type": "code",
   "execution_count": 58,
   "id": "17ea61e6",
   "metadata": {},
   "outputs": [
    {
     "name": "stdout",
     "output_type": "stream",
     "text": [
      "Number of total missing values: 198\n",
      "df1 shape: (7861, 34)\n"
     ]
    }
   ],
   "source": [
    "print('Number of total missing values:', fin_train.isna().sum().sum())\n",
    "print('df1 shape:', fin_train.shape)"
   ]
  },
  {
   "cell_type": "code",
   "execution_count": 59,
   "id": "67b97e43",
   "metadata": {
    "scrolled": true
   },
   "outputs": [
    {
     "data": {
      "text/plain": [
       "array(['FEW075 BKN090', 'BKN028 OVC033', 'FEW025 OVC032',\n",
       "       'SCT015 BKN020 OVC028', 'BKN013 OVC021', 'OVC011', 'SCT021 OVC030',\n",
       "       'FEW017 OVC028', 'OVC006', 'FEW045 BKN060 OVC080', 'BKN010 OVC017',\n",
       "       'OVC009', 'BKN016 OVC023', 'OVC004', 'SCT003 BKN007 OVC017',\n",
       "       'BKN002 OVC008', 'BKN006 BKN010 OVC015', 'BKN010 OVC018',\n",
       "       'FEW027 BKN032 OVC041', 'SCT021 BKN027 OVC039', 'BKN005 OVC010',\n",
       "       'FEW009 BKN015 OVC023', 'SCT021 BKN029 OVC043',\n",
       "       'BKN011 BKN022 OVC029', 'FEW006 SCT019 BKN031',\n",
       "       'FEW018 BKN029 OVC080', 'FEW013 SCT024 BKN038',\n",
       "       'BKN005 BKN011 OVC024', 'BKN008 OVC014', 'FEW007 BKN013 OVC028',\n",
       "       'SCT007 BKN011 OVC019', 'FEW010 OVC016', 'OVC014',\n",
       "       'FEW006 SCT010 BKN014', 'BKN006 BKN044 OVC050', 'BKN013 OVC018',\n",
       "       'OVC010', 'OVC016', 'FEW009 SCT048 BKN065', 'BKN001 OVC040',\n",
       "       'BKN002 OVC036', 'BKN001', 'BKN007 OVC018', 'FEW006 BKN024 OVC030',\n",
       "       'SCT029 BKN047', 'BKN026 OVC037', 'BKN006 BKN016 OVC055', 'CLR',\n",
       "       'FEW007 SCT013 OVC021', 'FEW018 SCT030 BKN049',\n",
       "       'FEW009 SCT013 BKN032', 'BKN004 BKN008 OVC026', nan,\n",
       "       'BKN012 OVC018', 'BKN010 OVC013', 'BKN006 BKN014 OVC020',\n",
       "       'FEW010 BKN014 OVC021', 'BKN003 OVC009', 'SCT016 BKN021 OVC041',\n",
       "       'SCT004 OVC010', 'BKN003 BKN010 OVC046', 'BKN006 OVC014',\n",
       "       'BKN005 OVC020', 'SCT003 BKN007 OVC023', 'BKN008 BKN014 OVC024',\n",
       "       'BKN028 BKN035 OVC050', 'SCT026 SCT032', 'SCT012', 'OVC005',\n",
       "       'SCT008 BKN018 BKN033', 'FEW010 SCT016 BKN044',\n",
       "       'FEW021 SCT033 BKN041', 'SCT014 BKN020 OVC035', 'FEW060', 'FEW038',\n",
       "       'FEW037 BKN060', 'FEW041 BKN060 BKN070', 'FEW022 BKN060 BKN075',\n",
       "       'FEW060 SCT085', 'FEW075', 'FEW070', 'SCT080', 'SCT080 BKN090',\n",
       "       'FEW095', 'SCT090', 'FEW090', 'FEW070 SCT090', 'FEW100', 'SCT040',\n",
       "       'FEW040 BKN080 BKN100', 'BKN025 BKN070 OVC090', 'FEW020 OVC025',\n",
       "       'SCT025 OVC035', 'SCT035 BKN060 OVC080', 'SCT055 OVC070', 'OVC002',\n",
       "       'OVC003', 'SCT004 BKN010 OVC017', 'BKN010 BKN019 BKN060',\n",
       "       'SCT015 BKN024 BKN060', 'FEW008 BKN014 OVC022', 'SCT012 BKN024',\n",
       "       'SCT019 BKN030 OVC045', 'FEW013 SCT019 BKN024',\n",
       "       'SCT009 BKN015 OVC025', 'FEW065 SCT075', 'FEW065', 'SCT060 SCT065',\n",
       "       'SCT065', 'FEW031 SCT060 SCT080', 'FEW050 SCT060',\n",
       "       'SCT060 BKN070 BKN085', 'BKN065', 'FEW060 SCT070', 'SCT060',\n",
       "       'BKN070', 'SCT070 SCT085', 'SCT075', 'FEW080', 'OVC065', 'BKN060',\n",
       "       'FEW050', 'FEW041 SCT050 BKN070', 'BKN090', 'SCT095', 'BKN095',\n",
       "       'FEW085', 'FEW110', 'SCT110', 'BKN110', 'BKN100', 'OVC100',\n",
       "       'SCT100', 'SCT085', 'FEW120', 'FEW060 OVC085', 'FEW060 SCT075',\n",
       "       'FEW065 SCT085', 'FEW075 SCT085', 'FEW065 BKN075 BKN085',\n",
       "       'FEW048 SCT065 BKN075', 'FEW055 SCT070 BKN090', 'SCT120', 'BKN120',\n",
       "       'OVC110', 'BKN090 BKN110', 'BKN100 BKN120', 'OVC090', 'BKN080',\n",
       "       'SCT100 BKN110', 'OVC080', 'SCT090 SCT110', 'BKN080 OVC100',\n",
       "       'BKN080 BKN090', 'BKN085', 'FEW100 SCT120', 'FEW080 BKN100',\n",
       "       'FEW085 OVC100', 'SCT085 BKN120', 'FEW033 BKN055', 'SCT042 OVC055',\n",
       "       'SCT031 BKN040 OVC050', 'SCT032 OVC039', 'FEW022 SCT029 OVC038',\n",
       "       'FEW024 BKN033 OVC046', 'BKN035 BKN042 BKN060',\n",
       "       'FEW020 SCT030 BKN038', 'FEW018 SCT049 SCT060',\n",
       "       'FEW045 SCT065 BKN075', 'FEW042', 'SCT039 SCT047 BKN070',\n",
       "       'BKN038 BKN047 OVC070', 'SCT042 BKN060 BKN075',\n",
       "       'FEW041 SCT046 BKN055', 'FEW041 SCT055', 'FEW048', 'FEW047',\n",
       "       'FEW055', 'SCT050 SCT065', 'FEW036 SCT048', 'FEW036 SCT060',\n",
       "       'FEW040 SCT046 BKN060', 'FEW025 BKN040 OVC060',\n",
       "       'SCT040 BKN046 OVC060', 'FEW047 BKN055', 'FEW055 SCT065 BKN070',\n",
       "       'SCT055 BKN070', 'FEW033 SCT045 BKN080', 'FEW048 BKN055 OVC070',\n",
       "       'SCT048 BKN055 OVC070', 'FEW048 SCT055 BKN075',\n",
       "       'BKN050 BKN065 OVC085', 'FEW033 OVC046', 'FEW033 OVC047',\n",
       "       'FEW042 BKN070 BKN090', 'FEW042 SCT050 BKN060', 'FEW070 OVC080',\n",
       "       'SCT080 BKN100', 'BKN080 BKN100', 'SCT050 BKN080',\n",
       "       'FEW027 SCT034 BKN043', 'FEW050 BKN060', 'BKN055', 'SCT070',\n",
       "       'FEW070 SCT080', 'OVC070', 'BKN050', 'SCT050', 'OVC075',\n",
       "       'FEW065 OVC075', 'SCT039 BKN046', 'SCT039', 'FEW021 SCT026 OVC033',\n",
       "       'SCT042', 'BKN038', 'SCT036', 'SCT028 SCT033 OVC039',\n",
       "       'BKN026 OVC033', 'BKN024 BKN031 OVC039', 'BKN015',\n",
       "       'FEW020 SCT026 BKN030', 'BKN023 OVC030', 'SCT024 BKN032 OVC037',\n",
       "       'FEW029 BKN035 OVC041', 'FEW008 OVC030', 'FEW026 SCT033 OVC040',\n",
       "       'BKN032 OVC037', 'BKN030 OVC036', 'FEW027 BKN035 BKN041', 'BKN044',\n",
       "       'BKN013', 'OVC013', 'SCT013', 'OVC060', 'FEW049 OVC080',\n",
       "       'FEW046 SCT060', 'BKN050 OVC080', 'FEW028 SCT033 BKN041',\n",
       "       'FEW029 BKN041 BKN050', 'FEW033 SCT041 BKN050',\n",
       "       'SCT040 BKN046 BKN110', 'SCT080 OVC090', 'BKN070 OVC100',\n",
       "       'BKN070 OVC090', 'FEW050 SCT100', 'SCT055', 'SCT008 BKN034 OVC055',\n",
       "       'OVC017', 'BKN006 OVC010', 'SCT006 BKN048 OVC050',\n",
       "       'FEW010 SCT026 BKN048', 'FEW036 BKN042 OVC070', 'OVC043', 'OVC041',\n",
       "       'FEW039', 'OVC049', 'FEW006 BKN025', 'FEW005 SCT010 BKN031',\n",
       "       'BKN010 OVC016', 'BKN008 OVC013', 'OVC008', 'SCT040 BKN048 OVC060',\n",
       "       'FEW005 BKN010 OVC018', 'BKN004 BKN008 OVC075', 'OVC022',\n",
       "       'BKN001 OVC022', 'OVC050', 'FEW034 BKN050', 'BKN015 BKN021 BKN046',\n",
       "       'FEW009 OVC014', 'BKN039 BKN046', 'OVC039', 'FEW009 OVC018',\n",
       "       'FEW031 SCT039', 'FEW034', 'FEW041 SCT110', 'FEW043 SCT060 BKN070',\n",
       "       'FEW033 SCT065 BKN075', 'FEW039 SCT046 OVC060', 'FEW040', 'FEW046',\n",
       "       'BKN050 OVC070', 'FEW031 SCT038 OVC047', 'SCT043 OVC049',\n",
       "       'SCT046 OVC055', 'FEW047 SCT055 OVC070', 'FEW060 OVC080',\n",
       "       'SCT055 BKN110', 'BKN048', 'OVC055', 'BKN050 BKN070 OVC085',\n",
       "       'BKN049 OVC060', 'BKN044 BKN050 OVC080', 'FEW041 SCT049 BKN055',\n",
       "       'SCT050 OVC085', 'FEW043 OVC085', 'OVC042', 'SCT042 BKN049 OVC065',\n",
       "       'BKN018 BKN039 OVC045', 'OVC018', 'FEW011 OVC018',\n",
       "       'BKN007 BKN015 OVC020', 'SCT006 OVC009', 'FEW035 OVC055',\n",
       "       'SCT001 BKN013 OVC020', 'OVC001', 'SCT018 OVC028', 'BKN041 OVC050',\n",
       "       'BKN039 OVC050', 'FEW036 BKN044 OVC050', 'OVC015', 'BKN023 OVC031',\n",
       "       'SCT019 BKN025 OVC031', 'SCT019 OVC035', 'OVC035',\n",
       "       'BKN005 BKN010 OVC016', 'FEW008 SCT016 BKN023',\n",
       "       'SCT028 BKN035 OVC050', 'BKN032 OVC038', 'BKN004', 'OVC007',\n",
       "       'FEW006 OVC011', 'SCT036 OVC043', 'SCT021 SCT032 OVC042', 'OVC045',\n",
       "       'OVC019', 'OVC048', 'OVC085', 'SCT026 OVC046',\n",
       "       'SCT022 BKN050 BKN060', 'SCT019 BKN026', 'FEW021 BKN034 OVC041',\n",
       "       'OVC026', 'FEW017 OVC030', 'FEW025 OVC040', 'BKN011', 'FEW013',\n",
       "       'BKN040', 'OVC044', 'FEW031 BKN042', 'FEW029', 'BKN027',\n",
       "       'FEW024 BKN037 OVC060', 'SCT009 BKN023 OVC050', 'FEW036 BKN050',\n",
       "       'FEW049 SCT060', 'SCT060 BKN075', 'SCT055 BKN070 OVC120',\n",
       "       'FEW017 SCT030 BKN041', 'SCT004 BKN017 OVC036', 'BKN004 OVC008',\n",
       "       'FEW012 BKN019 OVC038', 'FEW015 SCT020 OVC026', 'FEW023 SCT085',\n",
       "       'BKN041', 'OVC047', 'FEW043', 'SCT047', 'BKN029', 'FEW003',\n",
       "       'FEW045', 'BKN044 BKN050', 'FEW015', 'BKN043 OVC049', 'BKN037',\n",
       "       'FEW015 BKN020 OVC028', 'BKN015 OVC020', 'BKN015 OVC021',\n",
       "       'FEW014 BKN022 OVC029', 'SCT027 SCT033 BKN040',\n",
       "       'SCT027 BKN034 OVC044', 'SCT033 BKN044', 'SCT033 OVC044',\n",
       "       'BKN032 OVC039', 'SCT029 OVC038', 'FEW029 SCT033 OVC040',\n",
       "       'BKN033 OVC039', 'FEW060 BKN070 BKN085', 'FEW017 BKN027 OVC070',\n",
       "       'SCT012 BKN017 OVC028', 'SCT017 BKN025 OVC036', 'BKN043 OVC080',\n",
       "       'FEW010 SCT013 BKN023', 'FEW010 OVC036', 'FEW023 BKN029 OVC034',\n",
       "       'SCT007 OVC011', 'BKN008 OVC012', 'BKN008 OVC015', 'BKN006 OVC011',\n",
       "       'FEW023 BKN030 OVC036', 'FEW014 SCT018 BKN034', 'OVC034',\n",
       "       'SCT025 OVC034', 'FEW034 BKN043 OVC060', 'BKN048 OVC070',\n",
       "       'SCT048 BKN055 OVC075', 'FEW036 SCT055 BKN070', 'FEW041 OVC070',\n",
       "       'FEW046 SCT110', 'FEW042 SCT060 OVC075', 'BKN043 OVC050',\n",
       "       'FEW022 BKN030 OVC050', 'FEW015 SCT028 BKN035', 'BKN070 OVC085',\n",
       "       'BKN065 OVC075', 'FEW045 OVC055', 'SCT027 BKN033 OVC040',\n",
       "       'BKN028 OVC034', 'FEW032 BKN041 OVC047', 'SCT010 OVC015',\n",
       "       'FEW002 SCT010 OVC016', 'FEW018 OVC037', 'SCT012 BKN018 OVC036',\n",
       "       'FEW023 SCT039 BKN046', 'FEW016 BKN029 OVC046',\n",
       "       'SCT010 BKN018 OVC028', 'SCT044 BKN055', 'FEW009 BKN016 OVC070',\n",
       "       'FEW046 BKN060 OVC065', 'BKN022 OVC027', 'BKN008 OVC018',\n",
       "       'FEW006 BKN016 OVC029', 'OVC012', 'BKN014 OVC022',\n",
       "       'FEW017 SCT025 BKN033', 'SCT008 BKN018 OVC024', 'BKN019 OVC027',\n",
       "       'SCT021 BKN028 OVC042', 'BKN013 OVC020', 'BKN003 OVC007',\n",
       "       'FEW021 SCT026 BKN035', 'SCT014 BKN021 OVC037',\n",
       "       'FEW008 BKN014 OVC020', 'FEW011 BKN019 OVC029',\n",
       "       'BKN010 BKN014 OVC021', 'OVC020', 'FEW014 SCT019 BKN060',\n",
       "       'BKN019 BKN026', 'BKN016', 'SCT016 SCT031 BKN040',\n",
       "       'SCT013 BKN018 OVC023', 'SCT010', 'SCT013 OVC031',\n",
       "       'SCT006 BKN011 OVC016', 'SCT016', 'FEW006 SCT010 BKN016', 'FEW008',\n",
       "       'SCT006 OVC015', 'SCT008 OVC014', 'BKN010 BKN018 OVC024',\n",
       "       'SCT008 OVC013', 'BKN011 BKN085', 'FEW010 SCT055 BKN060',\n",
       "       'SCT005 BKN110', 'SCT005 BKN009 OVC018', 'BKN007 BKN011 OVC018',\n",
       "       'SCT031', 'SCT033 BKN040', 'FEW033 BKN041 OVC047', 'BKN042 BKN047',\n",
       "       'SCT038', 'SCT046', 'FEW036 SCT047', 'BKN038 BKN047',\n",
       "       'FEW044 BKN065', 'BKN042 OVC048', 'BKN046', 'SCT041 OVC055',\n",
       "       'OVC046', 'FEW039 BKN055 OVC070', 'FEW037 SCT048 OVC065',\n",
       "       'FEW046 OVC065', 'BKN039 OVC065', 'OVC037', 'FEW028 BKN037 OVC042',\n",
       "       'FEW024 SCT034 BKN040', 'FEW020 SCT036 BKN043',\n",
       "       'FEW032 BKN041 OVC065', 'FEW032 BKN041 OVC050', 'FEW049 SCT055',\n",
       "       'FEW041 OVC050', 'SCT048 OVC060', 'BKN047 OVC055',\n",
       "       'SCT040 BKN047 OVC055', 'FEW035 SCT043 OVC050', 'FEW038 OVC046',\n",
       "       'OVC040', 'SCT035 OVC044', 'FEW035 SCT046', 'FEW035', 'FEW037',\n",
       "       'FEW037 BKN046', 'BKN040 OVC046', 'FEW070 BKN080 BKN100', 'OVC038',\n",
       "       'BKN040 OVC045', 'FEW070 BKN090', 'BKN044 OVC050', 'BKN045 OVC050',\n",
       "       'FEW032 SCT041 BKN047', 'SCT050 BKN065', 'FEW050 OVC065',\n",
       "       'BKN046 OVC055', 'FEW039 OVC046', 'SCT001 BKN012 OVC019',\n",
       "       'SCT001 BKN010 OVC017', 'FEW010 BKN018 OVC032',\n",
       "       'FEW016 BKN021 OVC033', 'SCT024 OVC033', 'FEW016 BKN022 OVC032',\n",
       "       'SCT022 OVC035', 'BKN035 OVC045', 'FEW030 OVC040',\n",
       "       'FEW021 BKN032 OVC041', 'FEW001 SCT015 BKN024',\n",
       "       'SCT011 BKN019 OVC029', 'BKN011 OVC018', 'FEW001 BKN013 OVC065',\n",
       "       'FEW017 SCT032 BKN049', 'FEW032 BKN046 BKN055',\n",
       "       'FEW032 SCT046 BKN060', 'FEW030 SCT039 BKN046', 'BKN046 OVC060',\n",
       "       'FEW026 SCT036 BKN047', 'FEW018 SCT025 BKN039',\n",
       "       'FEW018 BKN035 OVC060', 'FEW012 SCT041 BKN046',\n",
       "       'FEW036 BKN046 BKN055', 'SCT038 BKN046', 'FEW017 SCT026 BKN041',\n",
       "       'FEW005 BKN019 OVC030', 'SCT010 BKN024 OVC065',\n",
       "       'SCT014 BKN020 BKN030', 'FEW002 SCT015 BKN023',\n",
       "       'FEW020 FEW040 SCT047', 'FEW041 FEW047 SCT095', 'FEW070 BKN085',\n",
       "       'FEW047 SCT060 BKN090', 'FEW046 SCT060 BKN080', 'SCT043 OVC050',\n",
       "       'FEW060 SCT070 BKN085', 'BKN070 BKN085', 'FEW029 SCT035 BKN041',\n",
       "       'FEW003 SCT030 BKN038', 'SCT044 OVC050', 'SCT001 BKN009 OVC019',\n",
       "       'FEW035 OVC047', 'BKN049', 'BKN048 BKN060', 'SCT048 BKN055',\n",
       "       'BKN048 BKN060 BKN110', 'BKN048 OVC060', 'BKN046 OVC050',\n",
       "       'FEW019 SCT027 BKN033', 'FEW010 SCT017 BKN022',\n",
       "       'FEW001 SCT010 BKN017', 'FEW003 SCT033 BKN045', 'SCT032', 'FEW036',\n",
       "       'FEW044', 'BKN048 OVC050', 'BKN060 OVC070', 'FEW048 BKN060',\n",
       "       'FEW039 SCT048 BKN060', 'SCT070 OVC085', 'FEW041', 'SCT037',\n",
       "       'FEW026', 'BKN028', 'BKN030', 'BKN032', 'BKN060 OVC075',\n",
       "       'FEW024 BKN033 OVC070', 'SCT060 BKN070', 'SCT003 OVC010',\n",
       "       'FEW047 OVC060', 'BKN060 OVC065', 'FEW042 BKN048 OVC060',\n",
       "       'BKN047 OVC060', 'BKN045 OVC060', 'FEW025 SCT041 BKN060',\n",
       "       'SCT021 BKN028 OVC065', 'SCT021 BKN026 BKN032',\n",
       "       'FEW024 BKN037 BKN049', 'SCT037 SCT044 OVC049', 'FEW038 BKN049',\n",
       "       'FEW036 BKN049 OVC060', 'BKN008 BKN013 OVC019', 'SCT001 OVC006',\n",
       "       'SCT065 BKN080', 'FEW045 BKN060 OVC075', 'BKN017',\n",
       "       'FEW017 SCT026 SCT033', 'BKN075 OVC080', 'BKN075',\n",
       "       'FEW018 BKN026 BKN032', 'SCT065 BKN085', 'FEW002 SCT013 SCT043',\n",
       "       'FEW049 FEW055 BKN060', 'BKN001 OVC010', 'BKN012 BKN029 OVC060',\n",
       "       'BKN001 OVC012', 'BKN002 OVC009', 'SCT005 SCT022 BKN070',\n",
       "       'FEW022 FEW032 SCT043', 'BKN001 BKN012 OVC031',\n",
       "       'FEW001 SCT032 BKN042', 'SCT015 BKN027 BKN041', 'BKN001 OVC016',\n",
       "       'FEW021 BKN032 BKN045', 'BKN004 BKN022 OVC048',\n",
       "       'SCT021 BKN033 BKN048', 'SCT024 BKN040 OVC049',\n",
       "       'BKN001 BKN010 OVC018', 'FEW005 BKN016 BKN035',\n",
       "       'FEW008 SCT034 BKN050', 'FEW034 SCT049 SCT055',\n",
       "       'SCT033 BKN047 BKN055', 'FEW031 FEW048 SCT060',\n",
       "       'FEW037 SCT042 BKN050', 'FEW002 FEW014 BKN037',\n",
       "       'FEW017 SCT033 SCT040', 'FEW006 OVC044', 'BKN042 OVC065',\n",
       "       'FEW036 BKN043 OVC049', 'FEW036 SCT045', 'BKN020 BKN031 BKN043',\n",
       "       'FEW016 SCT023 BKN039', 'FEW018', 'FEW016', 'FEW014', 'FEW012',\n",
       "       'SCT014', 'BKN023', 'SCT026 SCT120', 'BKN026 BKN110',\n",
       "       'BKN026 OVC110', 'FEW019 OVC026', 'BKN019 OVC026', 'FEW012 OVC017',\n",
       "       'BKN008', 'BKN010', 'SCT018', 'BKN018', 'FEW020', 'BKN012 OVC017',\n",
       "       'FEW010 OVC017', 'FEW010 SCT015 OVC021', 'BKN010 BKN015 OVC023',\n",
       "       'BKN008 OVC023', 'SCT044', 'FEW060 SCT080', 'FEW042 BKN060 BKN080',\n",
       "       'FEW044 BKN060 BKN080', 'BKN060 BKN080', 'SCT060 BKN100',\n",
       "       'BKN080 BKN110', 'BKN080 OVC110', 'OVC120', 'SCT065 SCT085',\n",
       "       'SCT075 SCT080', 'SCT100 SCT120', 'SCT060 BKN080 BKN090',\n",
       "       'FEW028 BKN042 OVC048', 'FEW022 FEW028 BKN041',\n",
       "       'FEW021 FEW044 SCT060', 'FEW043 FEW049', 'FEW043 FEW085 BKN120',\n",
       "       'SCT070 BKN110', 'FEW070 BKN090 BKN110', 'FEW075 BKN090 BKN110',\n",
       "       'SCT075 BKN090', 'FEW037 OVC065', 'FEW037 OVC050', 'SCT029',\n",
       "       'BKN024 BKN029', 'BKN024', 'FEW024', 'FEW033 SCT043 BKN050',\n",
       "       'FEW033 FEW046 SCT060', 'FEW039 OVC050', 'FEW043 SCT055 OVC065',\n",
       "       'FEW042 SCT050 BKN065', 'FEW049 SCT065 BKN070', 'FEW044 BKN050',\n",
       "       'SCT047 SCT060', 'BKN095 BKN120', 'FEW095 SCT120',\n",
       "       'BKN060 BKN075 OVC080', 'FEW060 BKN070', 'FEW039 SCT047 OVC060',\n",
       "       'FEW028 SCT036 BKN047', 'FEW020 SCT027 BKN032',\n",
       "       'FEW017 SCT024 OVC034', 'FEW017 BKN023 OVC034',\n",
       "       'FEW018 SCT023 BKN033', 'SCT060 SCT075', 'SCT075 SCT095',\n",
       "       'FEW075 FEW090', 'FEW048 FEW085', 'FEW040 SCT055 SCT070',\n",
       "       'SCT034 BKN042', 'FEW039 SCT055 BKN065', 'FEW048 FEW060',\n",
       "       'FEW033 SCT042 BKN050', 'FEW032 FEW042 FEW049', 'BKN041 BKN050',\n",
       "       'FEW032 SCT046', 'SCT038 BKN045', 'FEW049', 'SCT047 BKN060',\n",
       "       'SCT048 BKN050', 'FEW032 SCT042 BKN050', 'FEW032 SCT044 BKN050',\n",
       "       'BKN050 BKN060', 'FEW095 FEW120', 'FEW045 FEW070 BKN100',\n",
       "       'FEW070 FEW100', 'FEW080 SCT100', 'FEW022 SCT049 BKN080',\n",
       "       'FEW038 SCT050 BKN080', 'FEW028 SCT038 BKN065',\n",
       "       'FEW032 SCT050 BKN060', 'FEW030 SCT070 BKN085',\n",
       "       'FEW019 SCT032 BKN049', 'FEW019 SCT036 BKN047',\n",
       "       'FEW031 SCT049 BKN090', 'FEW070 SCT095', 'FEW021 SCT036 BKN055',\n",
       "       'SCT070 SCT075', 'BKN060 BKN075', 'FEW100 FEW120', 'FEW085 SCT110',\n",
       "       'FEW085 SCT120', 'FEW031 SCT047 BKN110', 'FEW034 FEW080 SCT100',\n",
       "       'FEW080 SCT095', 'FEW080 BKN090', 'FEW070 FEW090', 'BKN070 OVC080',\n",
       "       'BKN029 OVC034', 'BKN034 OVC046', 'FEW031 SCT039 SCT048',\n",
       "       'FEW090 BKN120', 'FEW035 FEW065 OVC120', 'FEW080 BKN110',\n",
       "       'BKN048 OVC055', 'SCT033 BKN041 BKN120', 'BKN015 BKN026 OVC036',\n",
       "       'FEW012 BKN018 OVC030', 'FEW044 SCT080', 'FEW022 SCT034 SCT045',\n",
       "       'FEW005 BKN070', 'FEW039 BKN050', 'FEW035 BKN043 OVC065',\n",
       "       'FEW044 FEW050 SCT090', 'FEW043 BKN080', 'FEW031 SCT041 BKN050',\n",
       "       'BKN046 BKN050', 'BKN046 BKN055', 'FEW043 BKN050 OVC060',\n",
       "       'BKN055 OVC065', 'FEW043 SCT055 OVC090', 'SCT027 BKN042 OVC048',\n",
       "       'BKN019', 'BKN050 OVC075', 'FEW038 BKN046 OVC070',\n",
       "       'SCT026 BKN040 OVC080', 'FEW046 SCT070 SCT080', 'SCT065 BKN110',\n",
       "       'SCT095 BKN110', 'BKN040 BKN047', 'FEW045 FEW060',\n",
       "       'SCT085 SCT095 BKN120', 'BKN046 OVC065', 'SCT065 BKN075',\n",
       "       'FEW070 FEW110', 'BKN075 BKN080', 'BKN009 OVC050', 'FEW045 OVC060',\n",
       "       'BKN011 OVC046', 'FEW018 OVC055', 'FEW011', 'FEW040 OVC060',\n",
       "       'FEW060 FEW090 SCT120', 'BKN040 OVC060', 'SCT038 BKN055',\n",
       "       'SCT070 OVC090', 'FEW070 OVC090', 'SCT046 OVC065', 'FEW048 OVC065',\n",
       "       'FEW042 BKN049 OVC075', 'FEW024 SCT030', 'SCT035', 'FEW050 FEW110',\n",
       "       'BKN009', 'FEW015 SCT021', 'SCT001 BKN016 OVC023', 'BKN014',\n",
       "       'BKN070 BKN080', 'FEW043 SCT060', 'SCT070 BKN085',\n",
       "       'FEW027 BKN038 OVC044', 'FEW009 SCT022 BKN041', 'OVC029',\n",
       "       'FEW010 FEW015 OVC029', 'SCT040 BKN065', 'OVC025', 'BKN017 OVC030',\n",
       "       'BKN015 OVC023', 'BKN018 OVC050', 'SCT017 OVC042', 'FEW033 BKN044',\n",
       "       'FEW025 OVC080', 'FEW055 OVC080', 'FEW040 SCT047 BKN065',\n",
       "       'FEW035 SCT042', 'BKN048 OVC065', 'FEW002 SCT026 BKN037',\n",
       "       'SCT004 BKN011 OVC060', 'FEW001 OVC020', 'FEW023 BKN034 BKN042',\n",
       "       'BKN016 OVC020', 'BKN034', 'BKN026 OVC031', 'FEW026 BKN032',\n",
       "       'FEW031', 'FEW018 SCT024 OVC033', 'FEW012 BKN042 OVC080',\n",
       "       'BKN039 BKN047', 'SCT044 BKN070', 'BKN042 BKN080', 'SCT048 BKN080',\n",
       "       'BKN070 BKN090', 'FEW015 FEW028 BKN070', 'FEW009 OVC035',\n",
       "       'SCT065 SCT080', 'FEW100 BKN120', 'BKN046 OVC090', 'BKN001 OVC011',\n",
       "       'SCT022 OVC031', 'SCT019 BKN026 OVC030', 'SCT009 BKN050 OVC085',\n",
       "       'FEW042 SCT060 SCT085', 'BKN065 BKN085', 'BKN075 BKN090',\n",
       "       'FEW038 FEW046 BKN070', 'FEW042 FEW048', 'BKN050 BKN075',\n",
       "       'SCT046 BKN080', 'FEW017 SCT026 OVC039', 'FEW002 BKN012 OVC039',\n",
       "       'FEW004 SCT014 BKN045', 'FEW035 SCT041', 'SCT008 OVC025',\n",
       "       'FEW016 SCT026 BKN033', 'FEW037 SCT050', 'BKN036 OVC050',\n",
       "       'SCT045 BKN050', 'FEW047 SCT060', 'FEW039 OVC047',\n",
       "       'SCT037 SCT044 OVC050', 'BKN031 OVC039', 'FEW021 SCT026 BKN031',\n",
       "       'FEW034 SCT049', 'BKN001 OVC005', 'BKN001 BKN011 OVC033', 'OVC027',\n",
       "       'FEW001 OVC014', 'FEW001 OVC010', 'SCT002 OVC010', 'BKN019 OVC028',\n",
       "       'FEW002 OVC012', 'FEW006 OVC014', 'BKN002 BKN007 OVC014', 'BKN033',\n",
       "       'OVC031', 'BKN007', 'SCT007 OVC016', 'BKN021', 'BKN080 OVC090',\n",
       "       'SCT075 OVC095', 'BKN021 OVC028', 'FEW041 BKN060 OVC080',\n",
       "       'BKN018 OVC035', 'FEW036 BKN070 OVC090', 'FEW070 OVC110',\n",
       "       'BKN080 OVC095', 'FEW080 OVC100', 'SCT080 BKN095', 'OVC095',\n",
       "       'SCT025', 'SCT012 BKN020 OVC026', 'VV001', 'FEW005 SCT014 OVC022',\n",
       "       'OVC032', 'BKN012 BKN022 OVC038', 'BKN033 OVC070', 'BKN041 OVC080',\n",
       "       'FEW043 SCT110', 'BKN065 OVC095', 'FEW012 OVC055', 'SCT050 BKN060',\n",
       "       'FEW025 OVC070', 'FEW017 OVC075', 'BKN065 OVC080', 'SCT065 OVC085',\n",
       "       'BKN032 OVC055', 'BKN060 OVC090', 'BKN055 OVC070', 'BKN055 OVC095',\n",
       "       'SCT046 OVC075', 'SCT043', 'BKN031', 'FEW075 OVC095',\n",
       "       'BKN031 OVC047', 'SCT060 BKN080 BKN100', 'BKN065 OVC090',\n",
       "       'BKN090 OVC110', 'BKN100 OVC110', 'FEW023 SCT050 OVC075',\n",
       "       'BKN090 BKN120', 'FEW065 OVC100', 'SCT100 OVC120', 'BKN070 OVC095'],\n",
       "      dtype=object)"
      ]
     },
     "execution_count": 59,
     "metadata": {},
     "output_type": "execute_result"
    }
   ],
   "source": [
    "fin_train.SkyConditions.unique()               "
   ]
  },
  {
   "cell_type": "code",
   "execution_count": 60,
   "id": "95ddab90",
   "metadata": {},
   "outputs": [
    {
     "data": {
      "text/plain": [
       "array(['10SM', '9SM', '4SM', '1.75SM', '1.25SM', '7SM', '1.5SM', '2.5SM',\n",
       "       '0.5SM', nan, '1SM', '3SM', '0.75SM', '6SM', '8SM', '2SM', '5SM',\n",
       "       '0.25SM'], dtype=object)"
      ]
     },
     "execution_count": 60,
     "metadata": {},
     "output_type": "execute_result"
    }
   ],
   "source": [
    "fin_train.Visibility.unique()               "
   ]
  },
  {
   "cell_type": "code",
   "execution_count": 61,
   "id": "28540d12",
   "metadata": {},
   "outputs": [
    {
     "data": {
      "text/plain": [
       "array([32., 21., 25., 27., 28., nan, 34., 23., 12., 14., 16., 30., 19.,\n",
       "       18., 10., 46., 36., 39., 41., 64., 37., 45., 43., 48., 52., 54.,\n",
       "       55., 57., 50., 59., 61., 63., 66., 68.,  7.,  9.,  1.,  3., -6.,\n",
       "        0., -4.,  5., -2., -8., 70., 72., 73., 75., 77., 79., 81., 82.,\n",
       "       47., 56., 58., 22., 38., 20., 26., 35., 62., 65., 60., 49., 44.,\n",
       "       40., 24., 33., 29., 31., 42., 67., 53., 71., 69., 51., 84., 80.,\n",
       "       76., 78., 83., 74., 86.])"
      ]
     },
     "execution_count": 61,
     "metadata": {},
     "output_type": "execute_result"
    }
   ],
   "source": [
    "fin_train.DBT.unique()               "
   ]
  },
  {
   "cell_type": "code",
   "execution_count": 62,
   "id": "16e9257d",
   "metadata": {},
   "outputs": [
    {
     "data": {
      "text/plain": [
       "82"
      ]
     },
     "execution_count": 62,
     "metadata": {},
     "output_type": "execute_result"
    }
   ],
   "source": [
    "fin_train.DBT.nunique()               "
   ]
  },
  {
   "cell_type": "code",
   "execution_count": 63,
   "id": "d4bf33aa",
   "metadata": {},
   "outputs": [
    {
     "data": {
      "text/plain": [
       "array([ 40.,  74.,  75.,  92.,  85.,  96.,  89.,  nan,  54., 100.,  62.,\n",
       "        67.,  84.,  88.,  69.,  82.,  72.,  77.,  73.,  53.,  81.,  34.,\n",
       "        65.,  76.,  19.,  70.,  50.,  37.,  32.,  30.,  33.,  28.,  25.,\n",
       "        27.,  49.,  58.,  56.,  79.,  42.,  38.,  35.,  31.,  29.,  26.,\n",
       "        24.,  23.,  22.,  21.,  43.,  48.,  41.,  20.,  18.,  51.,  61.,\n",
       "        47.,  45.,  46.,  52.,  36.,  15.,  17.,  14.,  16.,  39.,  13.,\n",
       "        12.,  11.,  57.,  55.,  44.,  63.,  71.,  60.,  68.,  83.,  80.,\n",
       "        91.,  64.,  66.,  10.,  59.,  78.,  86.,  93.,  87.,   9.,   8.,\n",
       "         7.,   6.,   5.,   4.,   3.,  97.])"
      ]
     },
     "execution_count": 63,
     "metadata": {},
     "output_type": "execute_result"
    }
   ],
   "source": [
    "fin_train.RelativeHumidityPercent.unique()"
   ]
  },
  {
   "cell_type": "code",
   "execution_count": 64,
   "id": "cb96839a",
   "metadata": {},
   "outputs": [
    {
     "data": {
      "text/plain": [
       "array([15.,  5.,  4.,  0.,  6., 16.,  8., 11., 12., 14.,  7., 17.,  9.,\n",
       "        3., 13., 10., nan, 18., 20., 21., 19., 24., 23., 22., 27., 28.,\n",
       "       30., 25., 26., 33., 29.])"
      ]
     },
     "execution_count": 64,
     "metadata": {},
     "output_type": "execute_result"
    }
   ],
   "source": [
    "fin_train.WindSpeed.unique()"
   ]
  },
  {
   "cell_type": "code",
   "execution_count": 65,
   "id": "055e33fe",
   "metadata": {},
   "outputs": [
    {
     "data": {
      "text/plain": [
       "array(['160', 'VRB', '000', '280', '240', '290', '300', '220', '230',\n",
       "       '210', '270', '250', '150', '130', '260', '310', '100', '110',\n",
       "       '090', '200', '120', nan, '080', '140', '320', '180', '330', '190',\n",
       "       '170', '050', '070', '010', '060', '020', '030', '350', '040',\n",
       "       '340', '360'], dtype=object)"
      ]
     },
     "execution_count": 65,
     "metadata": {},
     "output_type": "execute_result"
    }
   ],
   "source": [
    "fin_train.WindDirection.unique() "
   ]
  },
  {
   "cell_type": "code",
   "execution_count": 66,
   "id": "30c29ca0",
   "metadata": {},
   "outputs": [
    {
     "data": {
      "text/plain": [
       "array([ 0., 27., 24., 21., 19., 22., 25., 23., 17., nan, 15., 26., 28.,\n",
       "       29., 31., 30., 18., 20., 16., 32., 14., 33., 35., 36., 37., 34.,\n",
       "       38., 40., 42., 39., 41.])"
      ]
     },
     "execution_count": 66,
     "metadata": {},
     "output_type": "execute_result"
    }
   ],
   "source": [
    "fin_train.WindGustValue.unique() "
   ]
  },
  {
   "cell_type": "code",
   "execution_count": 67,
   "id": "1848e697",
   "metadata": {},
   "outputs": [
    {
     "data": {
      "text/plain": [
       "array([0.  , 0.02, 0.1 ,  nan, 0.01, 0.03, 0.06, 0.07, 0.09, 0.04])"
      ]
     },
     "execution_count": 67,
     "metadata": {},
     "output_type": "execute_result"
    }
   ],
   "source": [
    "fin_train.HourlyPrecip.unique() "
   ]
  },
  {
   "cell_type": "code",
   "execution_count": null,
   "id": "5486e5a8",
   "metadata": {},
   "outputs": [],
   "source": []
  },
  {
   "cell_type": "code",
   "execution_count": 68,
   "id": "ae798384",
   "metadata": {},
   "outputs": [
    {
     "name": "stdout",
     "output_type": "stream",
     "text": [
      "<class 'pandas.core.frame.DataFrame'>\n",
      "RangeIndex: 7861 entries, 0 to 7860\n",
      "Data columns (total 34 columns):\n",
      " #   Column                   Non-Null Count  Dtype  \n",
      "---  ------                   --------------  -----  \n",
      " 0   Unnamed: 0               7861 non-null   int64  \n",
      " 1   FlightNumber             7861 non-null   object \n",
      " 2   Year                     7861 non-null   int64  \n",
      " 3   Month                    7861 non-null   int64  \n",
      " 4   DayofMonth               7861 non-null   int64  \n",
      " 5   DayOfWeek                7861 non-null   int64  \n",
      " 6   ScheduledDepTime         7861 non-null   int64  \n",
      " 7   ScheduledArrTime         7861 non-null   int64  \n",
      " 8   ScheduledTravelTime      7861 non-null   int64  \n",
      " 9   Origin                   7861 non-null   object \n",
      " 10  Destination              7861 non-null   object \n",
      " 11  Distance                 7861 non-null   int64  \n",
      " 12  ActualArrivalTimeStamp   7861 non-null   object \n",
      " 13  YearMonthDay_x           7861 non-null   object \n",
      " 14  WeatherStationID         7861 non-null   int64  \n",
      " 15  AirportID                7861 non-null   object \n",
      " 16  GroundHeight             7861 non-null   int64  \n",
      " 17  StationHeight            7861 non-null   int64  \n",
      " 18  BarometerHeight          7861 non-null   int64  \n",
      " 19  Latitude                 7861 non-null   float64\n",
      " 20  Longitude                7861 non-null   float64\n",
      " 21  TimeZone                 7861 non-null   int64  \n",
      " 22  Unnamed: 0.1             7861 non-null   int64  \n",
      " 23  YearMonthDay_y           7861 non-null   object \n",
      " 24  Time                     7861 non-null   int64  \n",
      " 25  SkyConditions            7852 non-null   object \n",
      " 26  Visibility               7788 non-null   object \n",
      " 27  DBT                      7814 non-null   float64\n",
      " 28  RelativeHumidityPercent  7814 non-null   float64\n",
      " 29  WindSpeed                7858 non-null   float64\n",
      " 30  WindDirection            7858 non-null   object \n",
      " 31  WindGustValue            7858 non-null   float64\n",
      " 32  StationPressure          7861 non-null   float64\n",
      " 33  HourlyPrecip             7848 non-null   float64\n",
      "dtypes: float64(8), int64(16), object(10)\n",
      "memory usage: 2.0+ MB\n"
     ]
    }
   ],
   "source": [
    "fin_train.info()"
   ]
  },
  {
   "cell_type": "markdown",
   "id": "81e697ce",
   "metadata": {},
   "source": [
    "### Treating null values\n",
    "Categorical dtypes are replaced with median and mode\n",
    "\n",
    "Numericcal dtypes are replaced with mean\n",
    "\n",
    "Windspeed null values is replaced with forward fill"
   ]
  },
  {
   "cell_type": "code",
   "execution_count": 69,
   "id": "ebe1abcf",
   "metadata": {
    "scrolled": true
   },
   "outputs": [
    {
     "name": "stdout",
     "output_type": "stream",
     "text": [
      "Proportion of missing data in columns\n",
      "               column_name  percentage\n",
      "0               Visibility    0.928635\n",
      "1                      DBT    0.597888\n",
      "2  RelativeHumidityPercent    0.597888\n",
      "3             HourlyPrecip    0.165373\n",
      "4            SkyConditions    0.114489\n",
      "5                WindSpeed    0.038163\n",
      "6            WindDirection    0.038163\n",
      "7            WindGustValue    0.038163\n"
     ]
    }
   ],
   "source": [
    "# Calculate the proportion of missing data\n",
    "\n",
    "def checkMissing(data,perc=0):\n",
    "    \"\"\" \n",
    "    Takes in a dataframe and returns\n",
    "    the percentage of missing value.\n",
    "    \"\"\"\n",
    "    missing = [(i, data[i].isna().mean()*100) for i in data]\n",
    "    missing = pd.DataFrame(missing, columns=[\"column_name\", \"percentage\"])\n",
    "    missing = missing[missing.percentage > perc]\n",
    "    print(missing.sort_values(\"percentage\", ascending=False).reset_index(drop=True))\n",
    "\n",
    "print(\"Proportion of missing data in columns\")\n",
    "checkMissing(fin_train)"
   ]
  },
  {
   "cell_type": "code",
   "execution_count": 75,
   "id": "8ecf948e",
   "metadata": {},
   "outputs": [
    {
     "data": {
      "text/plain": [
       "Index(['Unnamed: 0', 'FlightNumber', 'Year', 'Month', 'DayofMonth',\n",
       "       'DayOfWeek', 'ScheduledDepTime', 'ScheduledArrTime',\n",
       "       'ScheduledTravelTime', 'Origin', 'Destination', 'Distance',\n",
       "       'ActualArrivalTimeStamp', 'YearMonthDay_x', 'WeatherStationID',\n",
       "       'AirportID', 'GroundHeight', 'StationHeight', 'BarometerHeight',\n",
       "       'Latitude', 'Longitude', 'TimeZone', 'Unnamed: 0.1', 'YearMonthDay_y',\n",
       "       'Time', 'SkyConditions', 'Visibility', 'DBT', 'RelativeHumidityPercent',\n",
       "       'WindSpeed', 'WindDirection', 'WindGustValue', 'StationPressure',\n",
       "       'HourlyPrecip'],\n",
       "      dtype='object')"
      ]
     },
     "execution_count": 75,
     "metadata": {},
     "output_type": "execute_result"
    }
   ],
   "source": [
    "fin_train.columns"
   ]
  },
  {
   "cell_type": "code",
   "execution_count": 76,
   "id": "8d099fd6",
   "metadata": {},
   "outputs": [],
   "source": [
    "fin_train.fillna({\"Visibility\":fin_train['Visibility'].mode()[0], \"DBT\": fin_train['DBT'].median(), \n",
    "\"RelativeHumidityPercent\": fin_train['RelativeHumidityPercent'].mean(),\n",
    "                  \"HourlyPrecip\": fin_train['HourlyPrecip'].median(),\n",
    "          \"SkyConditions\":fin_train['SkyConditions'].mode()[0],\n",
    "          \"WindSpeed\": fin_train['WindSpeed'].median(),\n",
    "           \"WindGustValue\":fin_train['WindGustValue'].mode()[0],\n",
    "          },inplace=True)"
   ]
  },
  {
   "cell_type": "code",
   "execution_count": 77,
   "id": "9055afd8",
   "metadata": {},
   "outputs": [
    {
     "data": {
      "text/plain": [
       "Unnamed: 0                 0\n",
       "FlightNumber               0\n",
       "Year                       0\n",
       "Month                      0\n",
       "DayofMonth                 0\n",
       "DayOfWeek                  0\n",
       "ScheduledDepTime           0\n",
       "ScheduledArrTime           0\n",
       "ScheduledTravelTime        0\n",
       "Origin                     0\n",
       "Destination                0\n",
       "Distance                   0\n",
       "ActualArrivalTimeStamp     0\n",
       "YearMonthDay_x             0\n",
       "WeatherStationID           0\n",
       "AirportID                  0\n",
       "GroundHeight               0\n",
       "StationHeight              0\n",
       "BarometerHeight            0\n",
       "Latitude                   0\n",
       "Longitude                  0\n",
       "TimeZone                   0\n",
       "Unnamed: 0.1               0\n",
       "YearMonthDay_y             0\n",
       "Time                       0\n",
       "SkyConditions              0\n",
       "Visibility                 0\n",
       "DBT                        0\n",
       "RelativeHumidityPercent    0\n",
       "WindSpeed                  0\n",
       "WindDirection              3\n",
       "WindGustValue              0\n",
       "StationPressure            0\n",
       "HourlyPrecip               0\n",
       "dtype: int64"
      ]
     },
     "execution_count": 77,
     "metadata": {},
     "output_type": "execute_result"
    }
   ],
   "source": [
    "fin_train.isnull().sum()"
   ]
  },
  {
   "cell_type": "code",
   "execution_count": 78,
   "id": "c1df67f4",
   "metadata": {},
   "outputs": [
    {
     "name": "stdout",
     "output_type": "stream",
     "text": [
      "Index of WindDirection column in given dataframe is : 30\n"
     ]
    }
   ],
   "source": [
    "col_name = \"WindDirection\"\n",
    "\n",
    "# find the index no\n",
    "index_no = fin_train.columns.get_loc(col_name)\n",
    "\n",
    "print(\"Index of {} column in given dataframe is : {}\".format(col_name, index_no))\n"
   ]
  },
  {
   "cell_type": "code",
   "execution_count": 79,
   "id": "9271344e",
   "metadata": {},
   "outputs": [],
   "source": [
    "fin_train.WindDirection=fin_train.WindDirection.ffill()"
   ]
  },
  {
   "cell_type": "code",
   "execution_count": 80,
   "id": "bb7b8df6",
   "metadata": {},
   "outputs": [
    {
     "data": {
      "text/plain": [
       "Unnamed: 0                 0\n",
       "FlightNumber               0\n",
       "Year                       0\n",
       "Month                      0\n",
       "DayofMonth                 0\n",
       "DayOfWeek                  0\n",
       "ScheduledDepTime           0\n",
       "ScheduledArrTime           0\n",
       "ScheduledTravelTime        0\n",
       "Origin                     0\n",
       "Destination                0\n",
       "Distance                   0\n",
       "ActualArrivalTimeStamp     0\n",
       "YearMonthDay_x             0\n",
       "WeatherStationID           0\n",
       "AirportID                  0\n",
       "GroundHeight               0\n",
       "StationHeight              0\n",
       "BarometerHeight            0\n",
       "Latitude                   0\n",
       "Longitude                  0\n",
       "TimeZone                   0\n",
       "Unnamed: 0.1               0\n",
       "YearMonthDay_y             0\n",
       "Time                       0\n",
       "SkyConditions              0\n",
       "Visibility                 0\n",
       "DBT                        0\n",
       "RelativeHumidityPercent    0\n",
       "WindSpeed                  0\n",
       "WindDirection              0\n",
       "WindGustValue              0\n",
       "StationPressure            0\n",
       "HourlyPrecip               0\n",
       "dtype: int64"
      ]
     },
     "execution_count": 80,
     "metadata": {},
     "output_type": "execute_result"
    }
   ],
   "source": [
    "fin_train.isnull().sum()"
   ]
  },
  {
   "cell_type": "code",
   "execution_count": 81,
   "id": "4bd42cc1",
   "metadata": {},
   "outputs": [],
   "source": [
    "fin_train=fin_train.drop(['Unnamed: 0','Unnamed: 0.1'],axis=1)"
   ]
  },
  {
   "cell_type": "code",
   "execution_count": 82,
   "id": "c4959622",
   "metadata": {},
   "outputs": [
    {
     "data": {
      "text/plain": [
       "0       160\n",
       "1       VRB\n",
       "2       VRB\n",
       "3       000\n",
       "4       000\n",
       "       ... \n",
       "7856    220\n",
       "7857    270\n",
       "7858    280\n",
       "7859    340\n",
       "7860    330\n",
       "Name: WindDirection, Length: 7861, dtype: object"
      ]
     },
     "execution_count": 82,
     "metadata": {},
     "output_type": "execute_result"
    }
   ],
   "source": [
    "fin_train.WindDirection"
   ]
  },
  {
   "cell_type": "code",
   "execution_count": 83,
   "id": "80719884",
   "metadata": {},
   "outputs": [
    {
     "name": "stdout",
     "output_type": "stream",
     "text": [
      "323\n"
     ]
    }
   ],
   "source": [
    "print(fin_train['WindDirection'].value_counts()['VRB'])"
   ]
  },
  {
   "cell_type": "code",
   "execution_count": 84,
   "id": "f1161d84",
   "metadata": {},
   "outputs": [
    {
     "name": "stdout",
     "output_type": "stream",
     "text": [
      "0    000\n",
      "dtype: object\n"
     ]
    }
   ],
   "source": [
    "print(fin_train['WindDirection'].mode())"
   ]
  },
  {
   "cell_type": "code",
   "execution_count": 85,
   "id": "50d5737c",
   "metadata": {},
   "outputs": [],
   "source": [
    "fin_train.loc[fin_train[\"WindDirection\"] == \"VRB\", \"WindDirection\"] = 000"
   ]
  },
  {
   "cell_type": "code",
   "execution_count": 86,
   "id": "222e875a",
   "metadata": {},
   "outputs": [
    {
     "data": {
      "text/plain": [
       "array(['160', 0, '000', '280', '240', '290', '300', '220', '230', '210',\n",
       "       '270', '250', '150', '130', '260', '310', '100', '110', '090',\n",
       "       '200', '120', '080', '140', '320', '180', '330', '190', '170',\n",
       "       '050', '070', '010', '060', '020', '030', '350', '040', '340',\n",
       "       '360'], dtype=object)"
      ]
     },
     "execution_count": 86,
     "metadata": {},
     "output_type": "execute_result"
    }
   ],
   "source": [
    "fin_train.WindDirection.unique()"
   ]
  },
  {
   "cell_type": "code",
   "execution_count": 87,
   "id": "bddb3333",
   "metadata": {},
   "outputs": [
    {
     "data": {
      "text/plain": [
       "FlightNumber               0\n",
       "Year                       0\n",
       "Month                      0\n",
       "DayofMonth                 0\n",
       "DayOfWeek                  0\n",
       "ScheduledDepTime           0\n",
       "ScheduledArrTime           0\n",
       "ScheduledTravelTime        0\n",
       "Origin                     0\n",
       "Destination                0\n",
       "Distance                   0\n",
       "ActualArrivalTimeStamp     0\n",
       "YearMonthDay_x             0\n",
       "WeatherStationID           0\n",
       "AirportID                  0\n",
       "GroundHeight               0\n",
       "StationHeight              0\n",
       "BarometerHeight            0\n",
       "Latitude                   0\n",
       "Longitude                  0\n",
       "TimeZone                   0\n",
       "YearMonthDay_y             0\n",
       "Time                       0\n",
       "SkyConditions              0\n",
       "Visibility                 0\n",
       "DBT                        0\n",
       "RelativeHumidityPercent    0\n",
       "WindSpeed                  0\n",
       "WindDirection              0\n",
       "WindGustValue              0\n",
       "StationPressure            0\n",
       "HourlyPrecip               0\n",
       "dtype: int64"
      ]
     },
     "execution_count": 87,
     "metadata": {},
     "output_type": "execute_result"
    }
   ],
   "source": [
    "fin_train.isnull().sum()"
   ]
  },
  {
   "cell_type": "markdown",
   "id": "25162b12",
   "metadata": {},
   "source": [
    "### Getting arrival delay"
   ]
  },
  {
   "cell_type": "code",
   "execution_count": 88,
   "id": "58213aeb",
   "metadata": {},
   "outputs": [
    {
     "data": {
      "text/plain": [
       "0       2004-09-20\n",
       "1       2004-11-19\n",
       "2       2004-05-04\n",
       "3       2004-07-06\n",
       "4       2004-09-23\n",
       "           ...    \n",
       "7856    2004-05-27\n",
       "7857    2004-11-29\n",
       "7858    2004-05-11\n",
       "7859    2004-01-04\n",
       "7860    2004-11-06\n",
       "Name: YearMonthDay_x, Length: 7861, dtype: object"
      ]
     },
     "execution_count": 88,
     "metadata": {},
     "output_type": "execute_result"
    }
   ],
   "source": [
    "fin_train.YearMonthDay_x"
   ]
  },
  {
   "cell_type": "code",
   "execution_count": 89,
   "id": "89d8acda",
   "metadata": {},
   "outputs": [
    {
     "data": {
      "text/plain": [
       "0       2004-01-01\n",
       "1       2004-01-01\n",
       "2       2004-01-01\n",
       "3       2004-01-02\n",
       "4       2004-01-02\n",
       "           ...    \n",
       "7856    2004-03-28\n",
       "7857    2004-03-28\n",
       "7858    2004-03-28\n",
       "7859    2004-03-28\n",
       "7860    2004-03-28\n",
       "Name: YearMonthDay_y, Length: 7861, dtype: object"
      ]
     },
     "execution_count": 89,
     "metadata": {},
     "output_type": "execute_result"
    }
   ],
   "source": [
    "fin_train.YearMonthDay_y"
   ]
  },
  {
   "cell_type": "code",
   "execution_count": 90,
   "id": "1cf0fee3",
   "metadata": {},
   "outputs": [
    {
     "data": {
      "text/plain": [
       "False"
      ]
     },
     "execution_count": 90,
     "metadata": {},
     "output_type": "execute_result"
    }
   ],
   "source": [
    "fin_train['YearMonthDay_x'].equals(fin_train['YearMonthDay_y'])"
   ]
  },
  {
   "cell_type": "code",
   "execution_count": 91,
   "id": "16f89325",
   "metadata": {},
   "outputs": [],
   "source": [
    "fin_train['ScheduledArrTime'] = fin_train['ScheduledArrTime'].astype('str')"
   ]
  },
  {
   "cell_type": "code",
   "execution_count": 92,
   "id": "5a4c253e",
   "metadata": {},
   "outputs": [],
   "source": [
    "fin_train['scheduled_arr_d_t']= fin_train[\"YearMonthDay_x\"].astype(str) +\" \"+ fin_train[\"ScheduledArrTime\"]"
   ]
  },
  {
   "cell_type": "code",
   "execution_count": 93,
   "id": "9501511b",
   "metadata": {},
   "outputs": [
    {
     "data": {
      "text/plain": [
       "Index(['FlightNumber', 'Year', 'Month', 'DayofMonth', 'DayOfWeek',\n",
       "       'ScheduledDepTime', 'ScheduledArrTime', 'ScheduledTravelTime', 'Origin',\n",
       "       'Destination', 'Distance', 'ActualArrivalTimeStamp', 'YearMonthDay_x',\n",
       "       'WeatherStationID', 'AirportID', 'GroundHeight', 'StationHeight',\n",
       "       'BarometerHeight', 'Latitude', 'Longitude', 'TimeZone',\n",
       "       'YearMonthDay_y', 'Time', 'SkyConditions', 'Visibility', 'DBT',\n",
       "       'RelativeHumidityPercent', 'WindSpeed', 'WindDirection',\n",
       "       'WindGustValue', 'StationPressure', 'HourlyPrecip',\n",
       "       'scheduled_arr_d_t'],\n",
       "      dtype='object')"
      ]
     },
     "execution_count": 93,
     "metadata": {},
     "output_type": "execute_result"
    }
   ],
   "source": [
    "fin_train.columns"
   ]
  },
  {
   "cell_type": "code",
   "execution_count": 94,
   "id": "da05771f",
   "metadata": {},
   "outputs": [
    {
     "data": {
      "text/plain": [
       "0       20-09-2004 11:54\n",
       "1       19-11-2004 18:55\n",
       "2       04-05-2004 19:02\n",
       "3       06-07-2004 15:33\n",
       "4       23-09-2004 09:46\n",
       "              ...       \n",
       "7856    27-05-2004 09:00\n",
       "7857    29-11-2004 13:54\n",
       "7858    11-05-2004 14:05\n",
       "7859    04-01-2004 12:14\n",
       "7860    06-11-2004 17:56\n",
       "Name: ActualArrivalTimeStamp, Length: 7861, dtype: object"
      ]
     },
     "execution_count": 94,
     "metadata": {},
     "output_type": "execute_result"
    }
   ],
   "source": [
    "fin_train.ActualArrivalTimeStamp"
   ]
  },
  {
   "cell_type": "code",
   "execution_count": 95,
   "id": "57ee5937",
   "metadata": {},
   "outputs": [
    {
     "data": {
      "text/plain": [
       "0       2004-09-20 1154\n",
       "1       2004-11-19 1634\n",
       "2       2004-05-04 1902\n",
       "3       2004-07-06 1533\n",
       "4        2004-09-23 946\n",
       "             ...       \n",
       "7856     2004-05-27 900\n",
       "7857    2004-11-29 1354\n",
       "7858    2004-05-11 1405\n",
       "7859    2004-01-04 1214\n",
       "7860    2004-11-06 1613\n",
       "Name: scheduled_arr_d_t, Length: 7861, dtype: object"
      ]
     },
     "execution_count": 95,
     "metadata": {},
     "output_type": "execute_result"
    }
   ],
   "source": [
    "fin_train.scheduled_arr_d_t"
   ]
  },
  {
   "cell_type": "code",
   "execution_count": 96,
   "id": "8eb34c2a",
   "metadata": {},
   "outputs": [],
   "source": [
    "fin_train['ActualArrivalTimeStamp'] = pd.to_datetime(fin_train['ActualArrivalTimeStamp'], format=\"%d-%m-%Y %H:%M\")\n"
   ]
  },
  {
   "cell_type": "code",
   "execution_count": 97,
   "id": "45de9d9e",
   "metadata": {},
   "outputs": [
    {
     "data": {
      "text/plain": [
       "0      2004-09-20 11:54:00\n",
       "1      2004-11-19 18:55:00\n",
       "2      2004-05-04 19:02:00\n",
       "3      2004-07-06 15:33:00\n",
       "4      2004-09-23 09:46:00\n",
       "               ...        \n",
       "7856   2004-05-27 09:00:00\n",
       "7857   2004-11-29 13:54:00\n",
       "7858   2004-05-11 14:05:00\n",
       "7859   2004-01-04 12:14:00\n",
       "7860   2004-11-06 17:56:00\n",
       "Name: ActualArrivalTimeStamp, Length: 7861, dtype: datetime64[ns]"
      ]
     },
     "execution_count": 97,
     "metadata": {},
     "output_type": "execute_result"
    }
   ],
   "source": [
    "fin_train.ActualArrivalTimeStamp"
   ]
  },
  {
   "cell_type": "code",
   "execution_count": 98,
   "id": "9abf2a3d",
   "metadata": {},
   "outputs": [],
   "source": [
    "fin_train['scheduled_arr_d_t'] = pd.to_datetime(fin_train['scheduled_arr_d_t'], format=\"%Y-%m-%d %H%M\")\n"
   ]
  },
  {
   "cell_type": "code",
   "execution_count": 99,
   "id": "a603ca2d",
   "metadata": {},
   "outputs": [
    {
     "data": {
      "text/plain": [
       "0      2004-09-20 11:54:00\n",
       "1      2004-11-19 16:34:00\n",
       "2      2004-05-04 19:02:00\n",
       "3      2004-07-06 15:33:00\n",
       "4      2004-09-23 09:46:00\n",
       "               ...        \n",
       "7856   2004-05-27 09:00:00\n",
       "7857   2004-11-29 13:54:00\n",
       "7858   2004-05-11 14:05:00\n",
       "7859   2004-01-04 12:14:00\n",
       "7860   2004-11-06 16:13:00\n",
       "Name: scheduled_arr_d_t, Length: 7861, dtype: datetime64[ns]"
      ]
     },
     "execution_count": 99,
     "metadata": {},
     "output_type": "execute_result"
    }
   ],
   "source": [
    "fin_train.scheduled_arr_d_t"
   ]
  },
  {
   "cell_type": "code",
   "execution_count": 100,
   "id": "bea43234",
   "metadata": {},
   "outputs": [],
   "source": [
    "merged_df=fin_train"
   ]
  },
  {
   "cell_type": "code",
   "execution_count": 101,
   "id": "8eb6bbb7",
   "metadata": {},
   "outputs": [],
   "source": [
    "merged_df['Arrdelay'] = (merged_df.ActualArrivalTimeStamp - merged_df.scheduled_arr_d_t) / pd.Timedelta(minutes=1)"
   ]
  },
  {
   "cell_type": "code",
   "execution_count": 102,
   "id": "9818fff8",
   "metadata": {},
   "outputs": [
    {
     "data": {
      "text/plain": [
       "155"
      ]
     },
     "execution_count": 102,
     "metadata": {},
     "output_type": "execute_result"
    }
   ],
   "source": [
    "merged_df.Arrdelay.nunique()"
   ]
  },
  {
   "cell_type": "code",
   "execution_count": 103,
   "id": "78a1bb54",
   "metadata": {},
   "outputs": [
    {
     "data": {
      "text/html": [
       "<div>\n",
       "<style scoped>\n",
       "    .dataframe tbody tr th:only-of-type {\n",
       "        vertical-align: middle;\n",
       "    }\n",
       "\n",
       "    .dataframe tbody tr th {\n",
       "        vertical-align: top;\n",
       "    }\n",
       "\n",
       "    .dataframe thead th {\n",
       "        text-align: right;\n",
       "    }\n",
       "</style>\n",
       "<table border=\"1\" class=\"dataframe\">\n",
       "  <thead>\n",
       "    <tr style=\"text-align: right;\">\n",
       "      <th></th>\n",
       "      <th>FlightNumber</th>\n",
       "      <th>Year</th>\n",
       "      <th>Month</th>\n",
       "      <th>DayofMonth</th>\n",
       "      <th>DayOfWeek</th>\n",
       "      <th>ScheduledDepTime</th>\n",
       "      <th>ScheduledArrTime</th>\n",
       "      <th>ScheduledTravelTime</th>\n",
       "      <th>Origin</th>\n",
       "      <th>Destination</th>\n",
       "      <th>...</th>\n",
       "      <th>Visibility</th>\n",
       "      <th>DBT</th>\n",
       "      <th>RelativeHumidityPercent</th>\n",
       "      <th>WindSpeed</th>\n",
       "      <th>WindDirection</th>\n",
       "      <th>WindGustValue</th>\n",
       "      <th>StationPressure</th>\n",
       "      <th>HourlyPrecip</th>\n",
       "      <th>scheduled_arr_d_t</th>\n",
       "      <th>Arrdelay</th>\n",
       "    </tr>\n",
       "  </thead>\n",
       "  <tbody>\n",
       "    <tr>\n",
       "      <th>0</th>\n",
       "      <td>BOS_CLE_29089</td>\n",
       "      <td>2004</td>\n",
       "      <td>9</td>\n",
       "      <td>20</td>\n",
       "      <td>1</td>\n",
       "      <td>1000</td>\n",
       "      <td>1154</td>\n",
       "      <td>114</td>\n",
       "      <td>BOS</td>\n",
       "      <td>CLE</td>\n",
       "      <td>...</td>\n",
       "      <td>10SM</td>\n",
       "      <td>32.0</td>\n",
       "      <td>40.000000</td>\n",
       "      <td>15.0</td>\n",
       "      <td>160</td>\n",
       "      <td>0.0</td>\n",
       "      <td>30.05</td>\n",
       "      <td>0.0</td>\n",
       "      <td>2004-09-20 11:54:00</td>\n",
       "      <td>0.0</td>\n",
       "    </tr>\n",
       "    <tr>\n",
       "      <th>1</th>\n",
       "      <td>CLE_ATL_44346</td>\n",
       "      <td>2004</td>\n",
       "      <td>11</td>\n",
       "      <td>19</td>\n",
       "      <td>5</td>\n",
       "      <td>1440</td>\n",
       "      <td>1634</td>\n",
       "      <td>114</td>\n",
       "      <td>CLE</td>\n",
       "      <td>ATL</td>\n",
       "      <td>...</td>\n",
       "      <td>10SM</td>\n",
       "      <td>21.0</td>\n",
       "      <td>74.000000</td>\n",
       "      <td>5.0</td>\n",
       "      <td>0</td>\n",
       "      <td>0.0</td>\n",
       "      <td>30.06</td>\n",
       "      <td>0.0</td>\n",
       "      <td>2004-11-19 16:34:00</td>\n",
       "      <td>141.0</td>\n",
       "    </tr>\n",
       "    <tr>\n",
       "      <th>2</th>\n",
       "      <td>SNA_LAS_44378</td>\n",
       "      <td>2004</td>\n",
       "      <td>5</td>\n",
       "      <td>4</td>\n",
       "      <td>2</td>\n",
       "      <td>1800</td>\n",
       "      <td>1902</td>\n",
       "      <td>62</td>\n",
       "      <td>SNA</td>\n",
       "      <td>LAS</td>\n",
       "      <td>...</td>\n",
       "      <td>9SM</td>\n",
       "      <td>25.0</td>\n",
       "      <td>75.000000</td>\n",
       "      <td>4.0</td>\n",
       "      <td>0</td>\n",
       "      <td>0.0</td>\n",
       "      <td>30.06</td>\n",
       "      <td>0.0</td>\n",
       "      <td>2004-05-04 19:02:00</td>\n",
       "      <td>0.0</td>\n",
       "    </tr>\n",
       "    <tr>\n",
       "      <th>3</th>\n",
       "      <td>CLT_TPA_51502</td>\n",
       "      <td>2004</td>\n",
       "      <td>7</td>\n",
       "      <td>6</td>\n",
       "      <td>2</td>\n",
       "      <td>1400</td>\n",
       "      <td>1533</td>\n",
       "      <td>93</td>\n",
       "      <td>CLT</td>\n",
       "      <td>TPA</td>\n",
       "      <td>...</td>\n",
       "      <td>4SM</td>\n",
       "      <td>25.0</td>\n",
       "      <td>92.000000</td>\n",
       "      <td>0.0</td>\n",
       "      <td>000</td>\n",
       "      <td>0.0</td>\n",
       "      <td>29.98</td>\n",
       "      <td>0.0</td>\n",
       "      <td>2004-07-06 15:33:00</td>\n",
       "      <td>0.0</td>\n",
       "    </tr>\n",
       "    <tr>\n",
       "      <th>4</th>\n",
       "      <td>MSP_ORD_44884</td>\n",
       "      <td>2004</td>\n",
       "      <td>9</td>\n",
       "      <td>23</td>\n",
       "      <td>4</td>\n",
       "      <td>830</td>\n",
       "      <td>946</td>\n",
       "      <td>76</td>\n",
       "      <td>MSP</td>\n",
       "      <td>ORD</td>\n",
       "      <td>...</td>\n",
       "      <td>1.75SM</td>\n",
       "      <td>27.0</td>\n",
       "      <td>85.000000</td>\n",
       "      <td>0.0</td>\n",
       "      <td>000</td>\n",
       "      <td>0.0</td>\n",
       "      <td>29.99</td>\n",
       "      <td>0.0</td>\n",
       "      <td>2004-09-23 09:46:00</td>\n",
       "      <td>0.0</td>\n",
       "    </tr>\n",
       "    <tr>\n",
       "      <th>5</th>\n",
       "      <td>CVG_GRR_45655</td>\n",
       "      <td>2004</td>\n",
       "      <td>9</td>\n",
       "      <td>26</td>\n",
       "      <td>7</td>\n",
       "      <td>1730</td>\n",
       "      <td>1832</td>\n",
       "      <td>62</td>\n",
       "      <td>CVG</td>\n",
       "      <td>GRR</td>\n",
       "      <td>...</td>\n",
       "      <td>1.25SM</td>\n",
       "      <td>28.0</td>\n",
       "      <td>96.000000</td>\n",
       "      <td>0.0</td>\n",
       "      <td>000</td>\n",
       "      <td>0.0</td>\n",
       "      <td>29.97</td>\n",
       "      <td>0.0</td>\n",
       "      <td>2004-09-26 18:32:00</td>\n",
       "      <td>0.0</td>\n",
       "    </tr>\n",
       "    <tr>\n",
       "      <th>6</th>\n",
       "      <td>DFW_STL_53369</td>\n",
       "      <td>2004</td>\n",
       "      <td>5</td>\n",
       "      <td>5</td>\n",
       "      <td>3</td>\n",
       "      <td>1330</td>\n",
       "      <td>1517</td>\n",
       "      <td>107</td>\n",
       "      <td>DFW</td>\n",
       "      <td>STL</td>\n",
       "      <td>...</td>\n",
       "      <td>7SM</td>\n",
       "      <td>28.0</td>\n",
       "      <td>89.000000</td>\n",
       "      <td>0.0</td>\n",
       "      <td>000</td>\n",
       "      <td>0.0</td>\n",
       "      <td>29.88</td>\n",
       "      <td>0.0</td>\n",
       "      <td>2004-05-05 15:17:00</td>\n",
       "      <td>0.0</td>\n",
       "    </tr>\n",
       "    <tr>\n",
       "      <th>7</th>\n",
       "      <td>ACV_SFO_50785</td>\n",
       "      <td>2004</td>\n",
       "      <td>9</td>\n",
       "      <td>15</td>\n",
       "      <td>3</td>\n",
       "      <td>655</td>\n",
       "      <td>758</td>\n",
       "      <td>63</td>\n",
       "      <td>ACV</td>\n",
       "      <td>SFO</td>\n",
       "      <td>...</td>\n",
       "      <td>10SM</td>\n",
       "      <td>28.0</td>\n",
       "      <td>96.000000</td>\n",
       "      <td>5.0</td>\n",
       "      <td>0</td>\n",
       "      <td>0.0</td>\n",
       "      <td>29.88</td>\n",
       "      <td>0.0</td>\n",
       "      <td>2004-09-15 07:58:00</td>\n",
       "      <td>0.0</td>\n",
       "    </tr>\n",
       "    <tr>\n",
       "      <th>8</th>\n",
       "      <td>BHM_DFW_34260</td>\n",
       "      <td>2004</td>\n",
       "      <td>5</td>\n",
       "      <td>28</td>\n",
       "      <td>5</td>\n",
       "      <td>1425</td>\n",
       "      <td>1625</td>\n",
       "      <td>120</td>\n",
       "      <td>BHM</td>\n",
       "      <td>DFW</td>\n",
       "      <td>...</td>\n",
       "      <td>1.5SM</td>\n",
       "      <td>46.0</td>\n",
       "      <td>43.526619</td>\n",
       "      <td>6.0</td>\n",
       "      <td>280</td>\n",
       "      <td>0.0</td>\n",
       "      <td>29.83</td>\n",
       "      <td>0.0</td>\n",
       "      <td>2004-05-28 16:25:00</td>\n",
       "      <td>134.0</td>\n",
       "    </tr>\n",
       "    <tr>\n",
       "      <th>9</th>\n",
       "      <td>DFW_PIT_33678</td>\n",
       "      <td>2004</td>\n",
       "      <td>9</td>\n",
       "      <td>11</td>\n",
       "      <td>6</td>\n",
       "      <td>847</td>\n",
       "      <td>1223</td>\n",
       "      <td>156</td>\n",
       "      <td>DFW</td>\n",
       "      <td>PIT</td>\n",
       "      <td>...</td>\n",
       "      <td>10SM</td>\n",
       "      <td>34.0</td>\n",
       "      <td>54.000000</td>\n",
       "      <td>16.0</td>\n",
       "      <td>240</td>\n",
       "      <td>27.0</td>\n",
       "      <td>29.92</td>\n",
       "      <td>0.0</td>\n",
       "      <td>2004-09-11 12:23:00</td>\n",
       "      <td>0.0</td>\n",
       "    </tr>\n",
       "    <tr>\n",
       "      <th>10</th>\n",
       "      <td>GNV_ATL_31276</td>\n",
       "      <td>2004</td>\n",
       "      <td>7</td>\n",
       "      <td>18</td>\n",
       "      <td>7</td>\n",
       "      <td>1520</td>\n",
       "      <td>1658</td>\n",
       "      <td>98</td>\n",
       "      <td>GNV</td>\n",
       "      <td>ATL</td>\n",
       "      <td>...</td>\n",
       "      <td>1.75SM</td>\n",
       "      <td>25.0</td>\n",
       "      <td>85.000000</td>\n",
       "      <td>0.0</td>\n",
       "      <td>000</td>\n",
       "      <td>0.0</td>\n",
       "      <td>29.95</td>\n",
       "      <td>0.0</td>\n",
       "      <td>2004-07-18 16:58:00</td>\n",
       "      <td>129.0</td>\n",
       "    </tr>\n",
       "    <tr>\n",
       "      <th>11</th>\n",
       "      <td>DFW_SJU_32640</td>\n",
       "      <td>2004</td>\n",
       "      <td>3</td>\n",
       "      <td>24</td>\n",
       "      <td>3</td>\n",
       "      <td>1521</td>\n",
       "      <td>2143</td>\n",
       "      <td>262</td>\n",
       "      <td>DFW</td>\n",
       "      <td>SJU</td>\n",
       "      <td>...</td>\n",
       "      <td>1.5SM</td>\n",
       "      <td>25.0</td>\n",
       "      <td>100.000000</td>\n",
       "      <td>0.0</td>\n",
       "      <td>000</td>\n",
       "      <td>0.0</td>\n",
       "      <td>29.96</td>\n",
       "      <td>0.0</td>\n",
       "      <td>2004-03-24 21:43:00</td>\n",
       "      <td>0.0</td>\n",
       "    </tr>\n",
       "    <tr>\n",
       "      <th>12</th>\n",
       "      <td>GJT_SLC_30446</td>\n",
       "      <td>2004</td>\n",
       "      <td>1</td>\n",
       "      <td>3</td>\n",
       "      <td>6</td>\n",
       "      <td>1143</td>\n",
       "      <td>1248</td>\n",
       "      <td>65</td>\n",
       "      <td>GJT</td>\n",
       "      <td>SLC</td>\n",
       "      <td>...</td>\n",
       "      <td>2.5SM</td>\n",
       "      <td>27.0</td>\n",
       "      <td>92.000000</td>\n",
       "      <td>0.0</td>\n",
       "      <td>000</td>\n",
       "      <td>0.0</td>\n",
       "      <td>30.00</td>\n",
       "      <td>0.0</td>\n",
       "      <td>2004-01-03 12:48:00</td>\n",
       "      <td>0.0</td>\n",
       "    </tr>\n",
       "    <tr>\n",
       "      <th>13</th>\n",
       "      <td>IAD_DAY_32236</td>\n",
       "      <td>2004</td>\n",
       "      <td>5</td>\n",
       "      <td>21</td>\n",
       "      <td>5</td>\n",
       "      <td>915</td>\n",
       "      <td>1106</td>\n",
       "      <td>111</td>\n",
       "      <td>IAD</td>\n",
       "      <td>DAY</td>\n",
       "      <td>...</td>\n",
       "      <td>0.5SM</td>\n",
       "      <td>21.0</td>\n",
       "      <td>100.000000</td>\n",
       "      <td>6.0</td>\n",
       "      <td>0</td>\n",
       "      <td>0.0</td>\n",
       "      <td>29.67</td>\n",
       "      <td>0.0</td>\n",
       "      <td>2004-05-21 11:06:00</td>\n",
       "      <td>0.0</td>\n",
       "    </tr>\n",
       "    <tr>\n",
       "      <th>14</th>\n",
       "      <td>SNA_DFW_49976</td>\n",
       "      <td>2004</td>\n",
       "      <td>5</td>\n",
       "      <td>18</td>\n",
       "      <td>2</td>\n",
       "      <td>815</td>\n",
       "      <td>1310</td>\n",
       "      <td>175</td>\n",
       "      <td>SNA</td>\n",
       "      <td>DFW</td>\n",
       "      <td>...</td>\n",
       "      <td>1.25SM</td>\n",
       "      <td>28.0</td>\n",
       "      <td>89.000000</td>\n",
       "      <td>8.0</td>\n",
       "      <td>290</td>\n",
       "      <td>0.0</td>\n",
       "      <td>29.67</td>\n",
       "      <td>0.0</td>\n",
       "      <td>2004-05-18 13:10:00</td>\n",
       "      <td>0.0</td>\n",
       "    </tr>\n",
       "    <tr>\n",
       "      <th>15</th>\n",
       "      <td>IAH_MEM_41435</td>\n",
       "      <td>2004</td>\n",
       "      <td>11</td>\n",
       "      <td>16</td>\n",
       "      <td>2</td>\n",
       "      <td>1535</td>\n",
       "      <td>1709</td>\n",
       "      <td>94</td>\n",
       "      <td>IAH</td>\n",
       "      <td>MEM</td>\n",
       "      <td>...</td>\n",
       "      <td>10SM</td>\n",
       "      <td>23.0</td>\n",
       "      <td>85.000000</td>\n",
       "      <td>11.0</td>\n",
       "      <td>280</td>\n",
       "      <td>0.0</td>\n",
       "      <td>29.67</td>\n",
       "      <td>0.0</td>\n",
       "      <td>2004-11-16 17:09:00</td>\n",
       "      <td>0.0</td>\n",
       "    </tr>\n",
       "    <tr>\n",
       "      <th>16</th>\n",
       "      <td>ATL_JAX_34808</td>\n",
       "      <td>2004</td>\n",
       "      <td>3</td>\n",
       "      <td>18</td>\n",
       "      <td>4</td>\n",
       "      <td>1438</td>\n",
       "      <td>1546</td>\n",
       "      <td>68</td>\n",
       "      <td>ATL</td>\n",
       "      <td>JAX</td>\n",
       "      <td>...</td>\n",
       "      <td>1.5SM</td>\n",
       "      <td>25.0</td>\n",
       "      <td>100.000000</td>\n",
       "      <td>0.0</td>\n",
       "      <td>000</td>\n",
       "      <td>0.0</td>\n",
       "      <td>29.63</td>\n",
       "      <td>0.0</td>\n",
       "      <td>2004-03-18 15:46:00</td>\n",
       "      <td>0.0</td>\n",
       "    </tr>\n",
       "    <tr>\n",
       "      <th>17</th>\n",
       "      <td>LGB_JFK_40880</td>\n",
       "      <td>2004</td>\n",
       "      <td>9</td>\n",
       "      <td>25</td>\n",
       "      <td>6</td>\n",
       "      <td>900</td>\n",
       "      <td>1720</td>\n",
       "      <td>320</td>\n",
       "      <td>LGB</td>\n",
       "      <td>JFK</td>\n",
       "      <td>...</td>\n",
       "      <td>1SM</td>\n",
       "      <td>27.0</td>\n",
       "      <td>92.000000</td>\n",
       "      <td>6.0</td>\n",
       "      <td>0</td>\n",
       "      <td>0.0</td>\n",
       "      <td>29.64</td>\n",
       "      <td>0.0</td>\n",
       "      <td>2004-09-25 17:20:00</td>\n",
       "      <td>0.0</td>\n",
       "    </tr>\n",
       "    <tr>\n",
       "      <th>18</th>\n",
       "      <td>RDU_LGA_31104</td>\n",
       "      <td>2004</td>\n",
       "      <td>7</td>\n",
       "      <td>2</td>\n",
       "      <td>5</td>\n",
       "      <td>1430</td>\n",
       "      <td>1555</td>\n",
       "      <td>85</td>\n",
       "      <td>RDU</td>\n",
       "      <td>LGA</td>\n",
       "      <td>...</td>\n",
       "      <td>0.5SM</td>\n",
       "      <td>27.0</td>\n",
       "      <td>85.000000</td>\n",
       "      <td>12.0</td>\n",
       "      <td>300</td>\n",
       "      <td>0.0</td>\n",
       "      <td>29.63</td>\n",
       "      <td>0.0</td>\n",
       "      <td>2004-07-02 15:55:00</td>\n",
       "      <td>0.0</td>\n",
       "    </tr>\n",
       "    <tr>\n",
       "      <th>19</th>\n",
       "      <td>MDW_CLT_45044</td>\n",
       "      <td>2004</td>\n",
       "      <td>3</td>\n",
       "      <td>21</td>\n",
       "      <td>7</td>\n",
       "      <td>825</td>\n",
       "      <td>1110</td>\n",
       "      <td>105</td>\n",
       "      <td>MDW</td>\n",
       "      <td>CLT</td>\n",
       "      <td>...</td>\n",
       "      <td>2.5SM</td>\n",
       "      <td>21.0</td>\n",
       "      <td>62.000000</td>\n",
       "      <td>14.0</td>\n",
       "      <td>220</td>\n",
       "      <td>24.0</td>\n",
       "      <td>29.64</td>\n",
       "      <td>0.0</td>\n",
       "      <td>2004-03-21 11:10:00</td>\n",
       "      <td>0.0</td>\n",
       "    </tr>\n",
       "  </tbody>\n",
       "</table>\n",
       "<p>20 rows × 34 columns</p>\n",
       "</div>"
      ],
      "text/plain": [
       "     FlightNumber  Year  Month  DayofMonth  DayOfWeek  ScheduledDepTime  \\\n",
       "0   BOS_CLE_29089  2004      9          20          1              1000   \n",
       "1   CLE_ATL_44346  2004     11          19          5              1440   \n",
       "2   SNA_LAS_44378  2004      5           4          2              1800   \n",
       "3   CLT_TPA_51502  2004      7           6          2              1400   \n",
       "4   MSP_ORD_44884  2004      9          23          4               830   \n",
       "5   CVG_GRR_45655  2004      9          26          7              1730   \n",
       "6   DFW_STL_53369  2004      5           5          3              1330   \n",
       "7   ACV_SFO_50785  2004      9          15          3               655   \n",
       "8   BHM_DFW_34260  2004      5          28          5              1425   \n",
       "9   DFW_PIT_33678  2004      9          11          6               847   \n",
       "10  GNV_ATL_31276  2004      7          18          7              1520   \n",
       "11  DFW_SJU_32640  2004      3          24          3              1521   \n",
       "12  GJT_SLC_30446  2004      1           3          6              1143   \n",
       "13  IAD_DAY_32236  2004      5          21          5               915   \n",
       "14  SNA_DFW_49976  2004      5          18          2               815   \n",
       "15  IAH_MEM_41435  2004     11          16          2              1535   \n",
       "16  ATL_JAX_34808  2004      3          18          4              1438   \n",
       "17  LGB_JFK_40880  2004      9          25          6               900   \n",
       "18  RDU_LGA_31104  2004      7           2          5              1430   \n",
       "19  MDW_CLT_45044  2004      3          21          7               825   \n",
       "\n",
       "   ScheduledArrTime  ScheduledTravelTime Origin Destination  ...  Visibility  \\\n",
       "0              1154                  114    BOS         CLE  ...        10SM   \n",
       "1              1634                  114    CLE         ATL  ...        10SM   \n",
       "2              1902                   62    SNA         LAS  ...         9SM   \n",
       "3              1533                   93    CLT         TPA  ...         4SM   \n",
       "4               946                   76    MSP         ORD  ...      1.75SM   \n",
       "5              1832                   62    CVG         GRR  ...      1.25SM   \n",
       "6              1517                  107    DFW         STL  ...         7SM   \n",
       "7               758                   63    ACV         SFO  ...        10SM   \n",
       "8              1625                  120    BHM         DFW  ...       1.5SM   \n",
       "9              1223                  156    DFW         PIT  ...        10SM   \n",
       "10             1658                   98    GNV         ATL  ...      1.75SM   \n",
       "11             2143                  262    DFW         SJU  ...       1.5SM   \n",
       "12             1248                   65    GJT         SLC  ...       2.5SM   \n",
       "13             1106                  111    IAD         DAY  ...       0.5SM   \n",
       "14             1310                  175    SNA         DFW  ...      1.25SM   \n",
       "15             1709                   94    IAH         MEM  ...        10SM   \n",
       "16             1546                   68    ATL         JAX  ...       1.5SM   \n",
       "17             1720                  320    LGB         JFK  ...         1SM   \n",
       "18             1555                   85    RDU         LGA  ...       0.5SM   \n",
       "19             1110                  105    MDW         CLT  ...       2.5SM   \n",
       "\n",
       "     DBT RelativeHumidityPercent  WindSpeed WindDirection  WindGustValue  \\\n",
       "0   32.0               40.000000       15.0           160            0.0   \n",
       "1   21.0               74.000000        5.0             0            0.0   \n",
       "2   25.0               75.000000        4.0             0            0.0   \n",
       "3   25.0               92.000000        0.0           000            0.0   \n",
       "4   27.0               85.000000        0.0           000            0.0   \n",
       "5   28.0               96.000000        0.0           000            0.0   \n",
       "6   28.0               89.000000        0.0           000            0.0   \n",
       "7   28.0               96.000000        5.0             0            0.0   \n",
       "8   46.0               43.526619        6.0           280            0.0   \n",
       "9   34.0               54.000000       16.0           240           27.0   \n",
       "10  25.0               85.000000        0.0           000            0.0   \n",
       "11  25.0              100.000000        0.0           000            0.0   \n",
       "12  27.0               92.000000        0.0           000            0.0   \n",
       "13  21.0              100.000000        6.0             0            0.0   \n",
       "14  28.0               89.000000        8.0           290            0.0   \n",
       "15  23.0               85.000000       11.0           280            0.0   \n",
       "16  25.0              100.000000        0.0           000            0.0   \n",
       "17  27.0               92.000000        6.0             0            0.0   \n",
       "18  27.0               85.000000       12.0           300            0.0   \n",
       "19  21.0               62.000000       14.0           220           24.0   \n",
       "\n",
       "    StationPressure  HourlyPrecip   scheduled_arr_d_t  Arrdelay  \n",
       "0             30.05           0.0 2004-09-20 11:54:00       0.0  \n",
       "1             30.06           0.0 2004-11-19 16:34:00     141.0  \n",
       "2             30.06           0.0 2004-05-04 19:02:00       0.0  \n",
       "3             29.98           0.0 2004-07-06 15:33:00       0.0  \n",
       "4             29.99           0.0 2004-09-23 09:46:00       0.0  \n",
       "5             29.97           0.0 2004-09-26 18:32:00       0.0  \n",
       "6             29.88           0.0 2004-05-05 15:17:00       0.0  \n",
       "7             29.88           0.0 2004-09-15 07:58:00       0.0  \n",
       "8             29.83           0.0 2004-05-28 16:25:00     134.0  \n",
       "9             29.92           0.0 2004-09-11 12:23:00       0.0  \n",
       "10            29.95           0.0 2004-07-18 16:58:00     129.0  \n",
       "11            29.96           0.0 2004-03-24 21:43:00       0.0  \n",
       "12            30.00           0.0 2004-01-03 12:48:00       0.0  \n",
       "13            29.67           0.0 2004-05-21 11:06:00       0.0  \n",
       "14            29.67           0.0 2004-05-18 13:10:00       0.0  \n",
       "15            29.67           0.0 2004-11-16 17:09:00       0.0  \n",
       "16            29.63           0.0 2004-03-18 15:46:00       0.0  \n",
       "17            29.64           0.0 2004-09-25 17:20:00       0.0  \n",
       "18            29.63           0.0 2004-07-02 15:55:00       0.0  \n",
       "19            29.64           0.0 2004-03-21 11:10:00       0.0  \n",
       "\n",
       "[20 rows x 34 columns]"
      ]
     },
     "execution_count": 103,
     "metadata": {},
     "output_type": "execute_result"
    }
   ],
   "source": [
    "merged_df.head(20)"
   ]
  },
  {
   "cell_type": "code",
   "execution_count": 104,
   "id": "2b9d5197",
   "metadata": {},
   "outputs": [
    {
     "name": "stdout",
     "output_type": "stream",
     "text": [
      "<class 'pandas.core.frame.DataFrame'>\n",
      "RangeIndex: 7861 entries, 0 to 7860\n",
      "Data columns (total 34 columns):\n",
      " #   Column                   Non-Null Count  Dtype         \n",
      "---  ------                   --------------  -----         \n",
      " 0   FlightNumber             7861 non-null   object        \n",
      " 1   Year                     7861 non-null   int64         \n",
      " 2   Month                    7861 non-null   int64         \n",
      " 3   DayofMonth               7861 non-null   int64         \n",
      " 4   DayOfWeek                7861 non-null   int64         \n",
      " 5   ScheduledDepTime         7861 non-null   int64         \n",
      " 6   ScheduledArrTime         7861 non-null   object        \n",
      " 7   ScheduledTravelTime      7861 non-null   int64         \n",
      " 8   Origin                   7861 non-null   object        \n",
      " 9   Destination              7861 non-null   object        \n",
      " 10  Distance                 7861 non-null   int64         \n",
      " 11  ActualArrivalTimeStamp   7861 non-null   datetime64[ns]\n",
      " 12  YearMonthDay_x           7861 non-null   object        \n",
      " 13  WeatherStationID         7861 non-null   int64         \n",
      " 14  AirportID                7861 non-null   object        \n",
      " 15  GroundHeight             7861 non-null   int64         \n",
      " 16  StationHeight            7861 non-null   int64         \n",
      " 17  BarometerHeight          7861 non-null   int64         \n",
      " 18  Latitude                 7861 non-null   float64       \n",
      " 19  Longitude                7861 non-null   float64       \n",
      " 20  TimeZone                 7861 non-null   int64         \n",
      " 21  YearMonthDay_y           7861 non-null   object        \n",
      " 22  Time                     7861 non-null   int64         \n",
      " 23  SkyConditions            7861 non-null   object        \n",
      " 24  Visibility               7861 non-null   object        \n",
      " 25  DBT                      7861 non-null   float64       \n",
      " 26  RelativeHumidityPercent  7861 non-null   float64       \n",
      " 27  WindSpeed                7861 non-null   float64       \n",
      " 28  WindDirection            7861 non-null   object        \n",
      " 29  WindGustValue            7861 non-null   float64       \n",
      " 30  StationPressure          7861 non-null   float64       \n",
      " 31  HourlyPrecip             7861 non-null   float64       \n",
      " 32  scheduled_arr_d_t        7861 non-null   datetime64[ns]\n",
      " 33  Arrdelay                 7861 non-null   float64       \n",
      "dtypes: datetime64[ns](2), float64(9), int64(13), object(10)\n",
      "memory usage: 2.0+ MB\n"
     ]
    }
   ],
   "source": [
    "merged_df.info()"
   ]
  },
  {
   "cell_type": "markdown",
   "id": "cbb2eceb",
   "metadata": {},
   "source": [
    "### Train data has been treated with null values and arrived at delay column.\n",
    "##### Downloading the data frame for further process."
   ]
  },
  {
   "cell_type": "code",
   "execution_count": 105,
   "id": "4d136382",
   "metadata": {},
   "outputs": [],
   "source": [
    "merged_df.to_csv('final1_train.csv')"
   ]
  },
  {
   "cell_type": "code",
   "execution_count": 107,
   "id": "46bd1bbc",
   "metadata": {},
   "outputs": [
    {
     "data": {
      "text/plain": [
       "(7861, 34)"
      ]
     },
     "execution_count": 107,
     "metadata": {},
     "output_type": "execute_result"
    }
   ],
   "source": [
    "merged_df.shape"
   ]
  },
  {
   "cell_type": "code",
   "execution_count": null,
   "id": "0c368b11",
   "metadata": {},
   "outputs": [],
   "source": []
  }
 ],
 "metadata": {
  "kernelspec": {
   "display_name": "Python 3 (ipykernel)",
   "language": "python",
   "name": "python3"
  },
  "language_info": {
   "codemirror_mode": {
    "name": "ipython",
    "version": 3
   },
   "file_extension": ".py",
   "mimetype": "text/x-python",
   "name": "python",
   "nbconvert_exporter": "python",
   "pygments_lexer": "ipython3",
   "version": "3.9.7"
  }
 },
 "nbformat": 4,
 "nbformat_minor": 5
}
