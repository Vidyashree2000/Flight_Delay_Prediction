{
 "cells": [
  {
   "cell_type": "markdown",
   "id": "ddc99ddf",
   "metadata": {},
   "source": [
    "### Flight delay prediction"
   ]
  },
  {
   "cell_type": "code",
   "execution_count": 7,
   "id": "3b9b3014",
   "metadata": {},
   "outputs": [],
   "source": [
    "# Pre-requisites\n",
    "import pandas as pd\n",
    "import numpy as np\n",
    "import matplotlib\n",
    "import matplotlib.pyplot as plt\n",
    "import seaborn as sns\n",
    "\n",
    "# Store the classifier models to save time\n",
    "import joblib\n",
    "\n",
    "# Preprocessing\n",
    "from sklearn.preprocessing import LabelEncoder\n",
    "from sklearn.model_selection import train_test_split\n",
    "\n",
    "# Classifiers from scikit-learn\n",
    "from sklearn.linear_model import LogisticRegression\n",
    "from sklearn.tree import DecisionTreeClassifier\n",
    "from sklearn.ensemble import GradientBoostingClassifier\n",
    "from sklearn.ensemble import RandomForestClassifier\n",
    "from sklearn.ensemble import ExtraTreesClassifier\n",
    "\n",
    "# Performance metrics\n",
    "from sklearn.metrics import accuracy_score\n",
    "from sklearn.metrics import f1_score\n",
    "from sklearn.metrics import precision_score\n",
    "from sklearn.metrics import recall_score\n",
    "from sklearn.metrics import classification_report\n",
    "from sklearn.metrics import confusion_matrix\n",
    "from sklearn.metrics import plot_confusion_matrix\n",
    "\n",
    "from sklearn.metrics import roc_curve\n",
    "from sklearn.metrics import roc_auc_score\n",
    "\n",
    "from scipy.stats import pointbiserialr"
   ]
  },
  {
   "cell_type": "code",
   "execution_count": 8,
   "id": "20a008fa",
   "metadata": {},
   "outputs": [],
   "source": [
    "df=pd.read_csv('final1_train.csv')"
   ]
  },
  {
   "cell_type": "code",
   "execution_count": 9,
   "id": "247e8c2b",
   "metadata": {},
   "outputs": [
    {
     "data": {
      "text/plain": [
       "Unnamed: 0                 0\n",
       "FlightNumber               0\n",
       "Year                       0\n",
       "Month                      0\n",
       "DayofMonth                 0\n",
       "DayOfWeek                  0\n",
       "ScheduledDepTime           0\n",
       "ScheduledArrTime           0\n",
       "ScheduledTravelTime        0\n",
       "Origin                     0\n",
       "Destination                0\n",
       "Distance                   0\n",
       "ActualArrivalTimeStamp     0\n",
       "YearMonthDay_x             0\n",
       "WeatherStationID           0\n",
       "AirportID                  0\n",
       "GroundHeight               0\n",
       "StationHeight              0\n",
       "BarometerHeight            0\n",
       "Latitude                   0\n",
       "Longitude                  0\n",
       "TimeZone                   0\n",
       "YearMonthDay_y             0\n",
       "Time                       0\n",
       "SkyConditions              0\n",
       "Visibility                 0\n",
       "DBT                        0\n",
       "RelativeHumidityPercent    0\n",
       "WindSpeed                  0\n",
       "WindDirection              0\n",
       "WindGustValue              0\n",
       "StationPressure            0\n",
       "HourlyPrecip               0\n",
       "scheduled_arr_d_t          0\n",
       "Arrdelay                   0\n",
       "dtype: int64"
      ]
     },
     "execution_count": 9,
     "metadata": {},
     "output_type": "execute_result"
    }
   ],
   "source": [
    "df.isnull().sum()"
   ]
  },
  {
   "cell_type": "code",
   "execution_count": 10,
   "id": "04fbece6",
   "metadata": {},
   "outputs": [
    {
     "data": {
      "text/html": [
       "<div>\n",
       "<style scoped>\n",
       "    .dataframe tbody tr th:only-of-type {\n",
       "        vertical-align: middle;\n",
       "    }\n",
       "\n",
       "    .dataframe tbody tr th {\n",
       "        vertical-align: top;\n",
       "    }\n",
       "\n",
       "    .dataframe thead th {\n",
       "        text-align: right;\n",
       "    }\n",
       "</style>\n",
       "<table border=\"1\" class=\"dataframe\">\n",
       "  <thead>\n",
       "    <tr style=\"text-align: right;\">\n",
       "      <th></th>\n",
       "      <th>Unnamed: 0</th>\n",
       "      <th>FlightNumber</th>\n",
       "      <th>Year</th>\n",
       "      <th>Month</th>\n",
       "      <th>DayofMonth</th>\n",
       "      <th>DayOfWeek</th>\n",
       "      <th>ScheduledDepTime</th>\n",
       "      <th>ScheduledArrTime</th>\n",
       "      <th>ScheduledTravelTime</th>\n",
       "      <th>Origin</th>\n",
       "      <th>...</th>\n",
       "      <th>Visibility</th>\n",
       "      <th>DBT</th>\n",
       "      <th>RelativeHumidityPercent</th>\n",
       "      <th>WindSpeed</th>\n",
       "      <th>WindDirection</th>\n",
       "      <th>WindGustValue</th>\n",
       "      <th>StationPressure</th>\n",
       "      <th>HourlyPrecip</th>\n",
       "      <th>scheduled_arr_d_t</th>\n",
       "      <th>Arrdelay</th>\n",
       "    </tr>\n",
       "  </thead>\n",
       "  <tbody>\n",
       "    <tr>\n",
       "      <th>0</th>\n",
       "      <td>0</td>\n",
       "      <td>BOS_CLE_29089</td>\n",
       "      <td>2004</td>\n",
       "      <td>9</td>\n",
       "      <td>20</td>\n",
       "      <td>1</td>\n",
       "      <td>1000</td>\n",
       "      <td>1154</td>\n",
       "      <td>114</td>\n",
       "      <td>BOS</td>\n",
       "      <td>...</td>\n",
       "      <td>10SM</td>\n",
       "      <td>32.0</td>\n",
       "      <td>40.0</td>\n",
       "      <td>15.0</td>\n",
       "      <td>160</td>\n",
       "      <td>0.0</td>\n",
       "      <td>30.05</td>\n",
       "      <td>0.0</td>\n",
       "      <td>2004-09-20 11:54:00</td>\n",
       "      <td>0.0</td>\n",
       "    </tr>\n",
       "    <tr>\n",
       "      <th>1</th>\n",
       "      <td>1</td>\n",
       "      <td>CLE_ATL_44346</td>\n",
       "      <td>2004</td>\n",
       "      <td>11</td>\n",
       "      <td>19</td>\n",
       "      <td>5</td>\n",
       "      <td>1440</td>\n",
       "      <td>1634</td>\n",
       "      <td>114</td>\n",
       "      <td>CLE</td>\n",
       "      <td>...</td>\n",
       "      <td>10SM</td>\n",
       "      <td>21.0</td>\n",
       "      <td>74.0</td>\n",
       "      <td>5.0</td>\n",
       "      <td>0</td>\n",
       "      <td>0.0</td>\n",
       "      <td>30.06</td>\n",
       "      <td>0.0</td>\n",
       "      <td>2004-11-19 16:34:00</td>\n",
       "      <td>141.0</td>\n",
       "    </tr>\n",
       "    <tr>\n",
       "      <th>2</th>\n",
       "      <td>2</td>\n",
       "      <td>SNA_LAS_44378</td>\n",
       "      <td>2004</td>\n",
       "      <td>5</td>\n",
       "      <td>4</td>\n",
       "      <td>2</td>\n",
       "      <td>1800</td>\n",
       "      <td>1902</td>\n",
       "      <td>62</td>\n",
       "      <td>SNA</td>\n",
       "      <td>...</td>\n",
       "      <td>9SM</td>\n",
       "      <td>25.0</td>\n",
       "      <td>75.0</td>\n",
       "      <td>4.0</td>\n",
       "      <td>0</td>\n",
       "      <td>0.0</td>\n",
       "      <td>30.06</td>\n",
       "      <td>0.0</td>\n",
       "      <td>2004-05-04 19:02:00</td>\n",
       "      <td>0.0</td>\n",
       "    </tr>\n",
       "    <tr>\n",
       "      <th>3</th>\n",
       "      <td>3</td>\n",
       "      <td>CLT_TPA_51502</td>\n",
       "      <td>2004</td>\n",
       "      <td>7</td>\n",
       "      <td>6</td>\n",
       "      <td>2</td>\n",
       "      <td>1400</td>\n",
       "      <td>1533</td>\n",
       "      <td>93</td>\n",
       "      <td>CLT</td>\n",
       "      <td>...</td>\n",
       "      <td>4SM</td>\n",
       "      <td>25.0</td>\n",
       "      <td>92.0</td>\n",
       "      <td>0.0</td>\n",
       "      <td>0</td>\n",
       "      <td>0.0</td>\n",
       "      <td>29.98</td>\n",
       "      <td>0.0</td>\n",
       "      <td>2004-07-06 15:33:00</td>\n",
       "      <td>0.0</td>\n",
       "    </tr>\n",
       "    <tr>\n",
       "      <th>4</th>\n",
       "      <td>4</td>\n",
       "      <td>MSP_ORD_44884</td>\n",
       "      <td>2004</td>\n",
       "      <td>9</td>\n",
       "      <td>23</td>\n",
       "      <td>4</td>\n",
       "      <td>830</td>\n",
       "      <td>946</td>\n",
       "      <td>76</td>\n",
       "      <td>MSP</td>\n",
       "      <td>...</td>\n",
       "      <td>1.75SM</td>\n",
       "      <td>27.0</td>\n",
       "      <td>85.0</td>\n",
       "      <td>0.0</td>\n",
       "      <td>0</td>\n",
       "      <td>0.0</td>\n",
       "      <td>29.99</td>\n",
       "      <td>0.0</td>\n",
       "      <td>2004-09-23 09:46:00</td>\n",
       "      <td>0.0</td>\n",
       "    </tr>\n",
       "  </tbody>\n",
       "</table>\n",
       "<p>5 rows × 35 columns</p>\n",
       "</div>"
      ],
      "text/plain": [
       "   Unnamed: 0   FlightNumber  Year  Month  DayofMonth  DayOfWeek  \\\n",
       "0           0  BOS_CLE_29089  2004      9          20          1   \n",
       "1           1  CLE_ATL_44346  2004     11          19          5   \n",
       "2           2  SNA_LAS_44378  2004      5           4          2   \n",
       "3           3  CLT_TPA_51502  2004      7           6          2   \n",
       "4           4  MSP_ORD_44884  2004      9          23          4   \n",
       "\n",
       "   ScheduledDepTime  ScheduledArrTime  ScheduledTravelTime Origin  ...  \\\n",
       "0              1000              1154                  114    BOS  ...   \n",
       "1              1440              1634                  114    CLE  ...   \n",
       "2              1800              1902                   62    SNA  ...   \n",
       "3              1400              1533                   93    CLT  ...   \n",
       "4               830               946                   76    MSP  ...   \n",
       "\n",
       "  Visibility   DBT RelativeHumidityPercent WindSpeed  WindDirection  \\\n",
       "0       10SM  32.0                    40.0      15.0            160   \n",
       "1       10SM  21.0                    74.0       5.0              0   \n",
       "2        9SM  25.0                    75.0       4.0              0   \n",
       "3        4SM  25.0                    92.0       0.0              0   \n",
       "4     1.75SM  27.0                    85.0       0.0              0   \n",
       "\n",
       "  WindGustValue  StationPressure  HourlyPrecip    scheduled_arr_d_t  Arrdelay  \n",
       "0           0.0            30.05           0.0  2004-09-20 11:54:00       0.0  \n",
       "1           0.0            30.06           0.0  2004-11-19 16:34:00     141.0  \n",
       "2           0.0            30.06           0.0  2004-05-04 19:02:00       0.0  \n",
       "3           0.0            29.98           0.0  2004-07-06 15:33:00       0.0  \n",
       "4           0.0            29.99           0.0  2004-09-23 09:46:00       0.0  \n",
       "\n",
       "[5 rows x 35 columns]"
      ]
     },
     "execution_count": 10,
     "metadata": {},
     "output_type": "execute_result"
    }
   ],
   "source": [
    "df.head()"
   ]
  },
  {
   "cell_type": "markdown",
   "id": "daa11bdf",
   "metadata": {},
   "source": [
    "#### Dropping ID columns,and other unnecessary columns"
   ]
  },
  {
   "cell_type": "code",
   "execution_count": 11,
   "id": "573f02b0",
   "metadata": {},
   "outputs": [],
   "source": [
    "df=df.drop(['Unnamed: 0','FlightNumber','AirportID','WeatherStationID','scheduled_arr_d_t','ActualArrivalTimeStamp'],axis=1)"
   ]
  },
  {
   "cell_type": "code",
   "execution_count": 12,
   "id": "1b43da89",
   "metadata": {},
   "outputs": [
    {
     "data": {
      "text/html": [
       "<div>\n",
       "<style scoped>\n",
       "    .dataframe tbody tr th:only-of-type {\n",
       "        vertical-align: middle;\n",
       "    }\n",
       "\n",
       "    .dataframe tbody tr th {\n",
       "        vertical-align: top;\n",
       "    }\n",
       "\n",
       "    .dataframe thead th {\n",
       "        text-align: right;\n",
       "    }\n",
       "</style>\n",
       "<table border=\"1\" class=\"dataframe\">\n",
       "  <thead>\n",
       "    <tr style=\"text-align: right;\">\n",
       "      <th></th>\n",
       "      <th>Year</th>\n",
       "      <th>Month</th>\n",
       "      <th>DayofMonth</th>\n",
       "      <th>DayOfWeek</th>\n",
       "      <th>ScheduledDepTime</th>\n",
       "      <th>ScheduledArrTime</th>\n",
       "      <th>ScheduledTravelTime</th>\n",
       "      <th>Origin</th>\n",
       "      <th>Destination</th>\n",
       "      <th>Distance</th>\n",
       "      <th>...</th>\n",
       "      <th>SkyConditions</th>\n",
       "      <th>Visibility</th>\n",
       "      <th>DBT</th>\n",
       "      <th>RelativeHumidityPercent</th>\n",
       "      <th>WindSpeed</th>\n",
       "      <th>WindDirection</th>\n",
       "      <th>WindGustValue</th>\n",
       "      <th>StationPressure</th>\n",
       "      <th>HourlyPrecip</th>\n",
       "      <th>Arrdelay</th>\n",
       "    </tr>\n",
       "  </thead>\n",
       "  <tbody>\n",
       "    <tr>\n",
       "      <th>0</th>\n",
       "      <td>2004</td>\n",
       "      <td>9</td>\n",
       "      <td>20</td>\n",
       "      <td>1</td>\n",
       "      <td>1000</td>\n",
       "      <td>1154</td>\n",
       "      <td>114</td>\n",
       "      <td>BOS</td>\n",
       "      <td>CLE</td>\n",
       "      <td>563</td>\n",
       "      <td>...</td>\n",
       "      <td>FEW075 BKN090</td>\n",
       "      <td>10SM</td>\n",
       "      <td>32.0</td>\n",
       "      <td>40.0</td>\n",
       "      <td>15.0</td>\n",
       "      <td>160</td>\n",
       "      <td>0.0</td>\n",
       "      <td>30.05</td>\n",
       "      <td>0.0</td>\n",
       "      <td>0.0</td>\n",
       "    </tr>\n",
       "    <tr>\n",
       "      <th>1</th>\n",
       "      <td>2004</td>\n",
       "      <td>11</td>\n",
       "      <td>19</td>\n",
       "      <td>5</td>\n",
       "      <td>1440</td>\n",
       "      <td>1634</td>\n",
       "      <td>114</td>\n",
       "      <td>CLE</td>\n",
       "      <td>ATL</td>\n",
       "      <td>554</td>\n",
       "      <td>...</td>\n",
       "      <td>BKN028 OVC033</td>\n",
       "      <td>10SM</td>\n",
       "      <td>21.0</td>\n",
       "      <td>74.0</td>\n",
       "      <td>5.0</td>\n",
       "      <td>0</td>\n",
       "      <td>0.0</td>\n",
       "      <td>30.06</td>\n",
       "      <td>0.0</td>\n",
       "      <td>141.0</td>\n",
       "    </tr>\n",
       "    <tr>\n",
       "      <th>2</th>\n",
       "      <td>2004</td>\n",
       "      <td>5</td>\n",
       "      <td>4</td>\n",
       "      <td>2</td>\n",
       "      <td>1800</td>\n",
       "      <td>1902</td>\n",
       "      <td>62</td>\n",
       "      <td>SNA</td>\n",
       "      <td>LAS</td>\n",
       "      <td>226</td>\n",
       "      <td>...</td>\n",
       "      <td>FEW025 OVC032</td>\n",
       "      <td>9SM</td>\n",
       "      <td>25.0</td>\n",
       "      <td>75.0</td>\n",
       "      <td>4.0</td>\n",
       "      <td>0</td>\n",
       "      <td>0.0</td>\n",
       "      <td>30.06</td>\n",
       "      <td>0.0</td>\n",
       "      <td>0.0</td>\n",
       "    </tr>\n",
       "    <tr>\n",
       "      <th>3</th>\n",
       "      <td>2004</td>\n",
       "      <td>7</td>\n",
       "      <td>6</td>\n",
       "      <td>2</td>\n",
       "      <td>1400</td>\n",
       "      <td>1533</td>\n",
       "      <td>93</td>\n",
       "      <td>CLT</td>\n",
       "      <td>TPA</td>\n",
       "      <td>508</td>\n",
       "      <td>...</td>\n",
       "      <td>SCT015 BKN020 OVC028</td>\n",
       "      <td>4SM</td>\n",
       "      <td>25.0</td>\n",
       "      <td>92.0</td>\n",
       "      <td>0.0</td>\n",
       "      <td>0</td>\n",
       "      <td>0.0</td>\n",
       "      <td>29.98</td>\n",
       "      <td>0.0</td>\n",
       "      <td>0.0</td>\n",
       "    </tr>\n",
       "    <tr>\n",
       "      <th>4</th>\n",
       "      <td>2004</td>\n",
       "      <td>9</td>\n",
       "      <td>23</td>\n",
       "      <td>4</td>\n",
       "      <td>830</td>\n",
       "      <td>946</td>\n",
       "      <td>76</td>\n",
       "      <td>MSP</td>\n",
       "      <td>ORD</td>\n",
       "      <td>334</td>\n",
       "      <td>...</td>\n",
       "      <td>BKN013 OVC021</td>\n",
       "      <td>1.75SM</td>\n",
       "      <td>27.0</td>\n",
       "      <td>85.0</td>\n",
       "      <td>0.0</td>\n",
       "      <td>0</td>\n",
       "      <td>0.0</td>\n",
       "      <td>29.99</td>\n",
       "      <td>0.0</td>\n",
       "      <td>0.0</td>\n",
       "    </tr>\n",
       "  </tbody>\n",
       "</table>\n",
       "<p>5 rows × 29 columns</p>\n",
       "</div>"
      ],
      "text/plain": [
       "   Year  Month  DayofMonth  DayOfWeek  ScheduledDepTime  ScheduledArrTime  \\\n",
       "0  2004      9          20          1              1000              1154   \n",
       "1  2004     11          19          5              1440              1634   \n",
       "2  2004      5           4          2              1800              1902   \n",
       "3  2004      7           6          2              1400              1533   \n",
       "4  2004      9          23          4               830               946   \n",
       "\n",
       "   ScheduledTravelTime Origin Destination  Distance  ...  \\\n",
       "0                  114    BOS         CLE       563  ...   \n",
       "1                  114    CLE         ATL       554  ...   \n",
       "2                   62    SNA         LAS       226  ...   \n",
       "3                   93    CLT         TPA       508  ...   \n",
       "4                   76    MSP         ORD       334  ...   \n",
       "\n",
       "          SkyConditions  Visibility   DBT  RelativeHumidityPercent  WindSpeed  \\\n",
       "0         FEW075 BKN090        10SM  32.0                     40.0       15.0   \n",
       "1         BKN028 OVC033        10SM  21.0                     74.0        5.0   \n",
       "2         FEW025 OVC032         9SM  25.0                     75.0        4.0   \n",
       "3  SCT015 BKN020 OVC028         4SM  25.0                     92.0        0.0   \n",
       "4         BKN013 OVC021      1.75SM  27.0                     85.0        0.0   \n",
       "\n",
       "   WindDirection  WindGustValue StationPressure  HourlyPrecip Arrdelay  \n",
       "0            160            0.0           30.05           0.0      0.0  \n",
       "1              0            0.0           30.06           0.0    141.0  \n",
       "2              0            0.0           30.06           0.0      0.0  \n",
       "3              0            0.0           29.98           0.0      0.0  \n",
       "4              0            0.0           29.99           0.0      0.0  \n",
       "\n",
       "[5 rows x 29 columns]"
      ]
     },
     "execution_count": 12,
     "metadata": {},
     "output_type": "execute_result"
    }
   ],
   "source": [
    "df.head()"
   ]
  },
  {
   "cell_type": "code",
   "execution_count": 13,
   "id": "d2cbcc71",
   "metadata": {},
   "outputs": [
    {
     "data": {
      "text/plain": [
       "Index(['Year', 'Month', 'DayofMonth', 'DayOfWeek', 'ScheduledDepTime',\n",
       "       'ScheduledArrTime', 'ScheduledTravelTime', 'Origin', 'Destination',\n",
       "       'Distance', 'YearMonthDay_x', 'GroundHeight', 'StationHeight',\n",
       "       'BarometerHeight', 'Latitude', 'Longitude', 'TimeZone',\n",
       "       'YearMonthDay_y', 'Time', 'SkyConditions', 'Visibility', 'DBT',\n",
       "       'RelativeHumidityPercent', 'WindSpeed', 'WindDirection',\n",
       "       'WindGustValue', 'StationPressure', 'HourlyPrecip', 'Arrdelay'],\n",
       "      dtype='object')"
      ]
     },
     "execution_count": 13,
     "metadata": {},
     "output_type": "execute_result"
    }
   ],
   "source": [
    "df.columns"
   ]
  },
  {
   "cell_type": "code",
   "execution_count": 14,
   "id": "0856656d",
   "metadata": {},
   "outputs": [
    {
     "name": "stdout",
     "output_type": "stream",
     "text": [
      "<class 'pandas.core.frame.DataFrame'>\n",
      "RangeIndex: 7861 entries, 0 to 7860\n",
      "Data columns (total 29 columns):\n",
      " #   Column                   Non-Null Count  Dtype  \n",
      "---  ------                   --------------  -----  \n",
      " 0   Year                     7861 non-null   int64  \n",
      " 1   Month                    7861 non-null   int64  \n",
      " 2   DayofMonth               7861 non-null   int64  \n",
      " 3   DayOfWeek                7861 non-null   int64  \n",
      " 4   ScheduledDepTime         7861 non-null   int64  \n",
      " 5   ScheduledArrTime         7861 non-null   int64  \n",
      " 6   ScheduledTravelTime      7861 non-null   int64  \n",
      " 7   Origin                   7861 non-null   object \n",
      " 8   Destination              7861 non-null   object \n",
      " 9   Distance                 7861 non-null   int64  \n",
      " 10  YearMonthDay_x           7861 non-null   object \n",
      " 11  GroundHeight             7861 non-null   int64  \n",
      " 12  StationHeight            7861 non-null   int64  \n",
      " 13  BarometerHeight          7861 non-null   int64  \n",
      " 14  Latitude                 7861 non-null   float64\n",
      " 15  Longitude                7861 non-null   float64\n",
      " 16  TimeZone                 7861 non-null   int64  \n",
      " 17  YearMonthDay_y           7861 non-null   object \n",
      " 18  Time                     7861 non-null   int64  \n",
      " 19  SkyConditions            7861 non-null   object \n",
      " 20  Visibility               7861 non-null   object \n",
      " 21  DBT                      7861 non-null   float64\n",
      " 22  RelativeHumidityPercent  7861 non-null   float64\n",
      " 23  WindSpeed                7861 non-null   float64\n",
      " 24  WindDirection            7861 non-null   int64  \n",
      " 25  WindGustValue            7861 non-null   float64\n",
      " 26  StationPressure          7861 non-null   float64\n",
      " 27  HourlyPrecip             7861 non-null   float64\n",
      " 28  Arrdelay                 7861 non-null   float64\n",
      "dtypes: float64(9), int64(14), object(6)\n",
      "memory usage: 1.7+ MB\n"
     ]
    }
   ],
   "source": [
    "df.info()"
   ]
  },
  {
   "cell_type": "markdown",
   "id": "0044f2de",
   "metadata": {},
   "source": [
    "#### If Arrdelay is greater than 15 minutes, flights are delayed and labelled as 1.\n",
    "#### If Arrdelay is leeser than 15 minutes, fights are not delayed and hence labelled as 2."
   ]
  },
  {
   "cell_type": "code",
   "execution_count": 15,
   "id": "7fcbc348",
   "metadata": {},
   "outputs": [],
   "source": [
    "status = []\n",
    "\n",
    "for value in df['Arrdelay']:\n",
    "    if value > 15:\n",
    "        status.append(1)\n",
    "    else:\n",
    "        status.append(2)\n",
    "df['FlightDelayStatus'] = status \n",
    "    "
   ]
  },
  {
   "cell_type": "code",
   "execution_count": 16,
   "id": "506d0e98",
   "metadata": {},
   "outputs": [
    {
     "data": {
      "text/plain": [
       "0       2\n",
       "1       1\n",
       "2       2\n",
       "3       2\n",
       "4       2\n",
       "       ..\n",
       "7856    2\n",
       "7857    2\n",
       "7858    2\n",
       "7859    2\n",
       "7860    1\n",
       "Name: FlightDelayStatus, Length: 7861, dtype: int64"
      ]
     },
     "execution_count": 16,
     "metadata": {},
     "output_type": "execute_result"
    }
   ],
   "source": [
    "df.FlightDelayStatus"
   ]
  },
  {
   "cell_type": "code",
   "execution_count": 17,
   "id": "b54f7c1d",
   "metadata": {},
   "outputs": [],
   "source": [
    "df=df.drop(['Arrdelay'],axis=1)"
   ]
  },
  {
   "cell_type": "code",
   "execution_count": 18,
   "id": "3d52570c",
   "metadata": {},
   "outputs": [
    {
     "data": {
      "text/plain": [
       "Index(['Year', 'Month', 'DayofMonth', 'DayOfWeek', 'ScheduledDepTime',\n",
       "       'ScheduledArrTime', 'ScheduledTravelTime', 'Origin', 'Destination',\n",
       "       'Distance', 'YearMonthDay_x', 'GroundHeight', 'StationHeight',\n",
       "       'BarometerHeight', 'Latitude', 'Longitude', 'TimeZone',\n",
       "       'YearMonthDay_y', 'Time', 'SkyConditions', 'Visibility', 'DBT',\n",
       "       'RelativeHumidityPercent', 'WindSpeed', 'WindDirection',\n",
       "       'WindGustValue', 'StationPressure', 'HourlyPrecip',\n",
       "       'FlightDelayStatus'],\n",
       "      dtype='object')"
      ]
     },
     "execution_count": 18,
     "metadata": {},
     "output_type": "execute_result"
    }
   ],
   "source": [
    "df.columns"
   ]
  },
  {
   "cell_type": "code",
   "execution_count": 19,
   "id": "034a5e09",
   "metadata": {},
   "outputs": [
    {
     "data": {
      "image/png": "[encoded data removed]",
      "text/plain": [
       "<Figure size 432x288 with 1 Axes>"
      ]
     },
     "metadata": {
      "needs_background": "light"
     },
     "output_type": "display_data"
    },
    {
     "name": "stdout",
     "output_type": "stream",
     "text": [
      "2    6342\n",
      "1    1519\n",
      "Name: FlightDelayStatus, dtype: int64\n"
     ]
    }
   ],
   "source": [
    "# Plotting the percentage of observations that fall under each class\n",
    "ax = df[\"FlightDelayStatus\"].value_counts().sort_values().plot(kind=\"barh\", color=[\"r\", \"g\"])\n",
    "totals= []\n",
    "for i in ax.patches:\n",
    "    totals.append(i.get_width())\n",
    "total = sum(totals)\n",
    "for i in ax.patches:\n",
    "     ax.text(i.get_width()+.3, i.get_y()+.20, \n",
    "     str(round((i.get_width()/total)*100, 2))+'%', \n",
    "     fontsize=10, color='black')\n",
    "plt.title(\"FlightDelayStatus\", fontsize=20)\n",
    "plt.xlabel(\"Count\", fontsize=14)\n",
    "plt.ylabel(\"Class\", fontsize=14)\n",
    "plt.show()\n",
    "print(df[\"FlightDelayStatus\"].value_counts())\n",
    "fig = ax.get_figure()\n",
    "fig.savefig(\"Img/05_01_ArrDel15_Class_Imbalance.png\")"
   ]
  },
  {
   "cell_type": "code",
   "execution_count": 20,
   "id": "449b8afd",
   "metadata": {},
   "outputs": [
    {
     "data": {
      "text/plain": [
       "(7861, 29)"
      ]
     },
     "execution_count": 20,
     "metadata": {},
     "output_type": "execute_result"
    }
   ],
   "source": [
    "df.shape"
   ]
  },
  {
   "cell_type": "code",
   "execution_count": 21,
   "id": "d824b289",
   "metadata": {},
   "outputs": [
    {
     "data": {
      "text/html": [
       "<div>\n",
       "<style scoped>\n",
       "    .dataframe tbody tr th:only-of-type {\n",
       "        vertical-align: middle;\n",
       "    }\n",
       "\n",
       "    .dataframe tbody tr th {\n",
       "        vertical-align: top;\n",
       "    }\n",
       "\n",
       "    .dataframe thead th {\n",
       "        text-align: right;\n",
       "    }\n",
       "</style>\n",
       "<table border=\"1\" class=\"dataframe\">\n",
       "  <thead>\n",
       "    <tr style=\"text-align: right;\">\n",
       "      <th></th>\n",
       "      <th>Origin</th>\n",
       "      <th>Destination</th>\n",
       "      <th>YearMonthDay_x</th>\n",
       "      <th>YearMonthDay_y</th>\n",
       "      <th>SkyConditions</th>\n",
       "      <th>Visibility</th>\n",
       "    </tr>\n",
       "  </thead>\n",
       "  <tbody>\n",
       "    <tr>\n",
       "      <th>0</th>\n",
       "      <td>BOS</td>\n",
       "      <td>CLE</td>\n",
       "      <td>2004-09-20</td>\n",
       "      <td>2004-01-01</td>\n",
       "      <td>FEW075 BKN090</td>\n",
       "      <td>10SM</td>\n",
       "    </tr>\n",
       "    <tr>\n",
       "      <th>1</th>\n",
       "      <td>CLE</td>\n",
       "      <td>ATL</td>\n",
       "      <td>2004-11-19</td>\n",
       "      <td>2004-01-01</td>\n",
       "      <td>BKN028 OVC033</td>\n",
       "      <td>10SM</td>\n",
       "    </tr>\n",
       "    <tr>\n",
       "      <th>2</th>\n",
       "      <td>SNA</td>\n",
       "      <td>LAS</td>\n",
       "      <td>2004-05-04</td>\n",
       "      <td>2004-01-01</td>\n",
       "      <td>FEW025 OVC032</td>\n",
       "      <td>9SM</td>\n",
       "    </tr>\n",
       "    <tr>\n",
       "      <th>3</th>\n",
       "      <td>CLT</td>\n",
       "      <td>TPA</td>\n",
       "      <td>2004-07-06</td>\n",
       "      <td>2004-01-02</td>\n",
       "      <td>SCT015 BKN020 OVC028</td>\n",
       "      <td>4SM</td>\n",
       "    </tr>\n",
       "    <tr>\n",
       "      <th>4</th>\n",
       "      <td>MSP</td>\n",
       "      <td>ORD</td>\n",
       "      <td>2004-09-23</td>\n",
       "      <td>2004-01-02</td>\n",
       "      <td>BKN013 OVC021</td>\n",
       "      <td>1.75SM</td>\n",
       "    </tr>\n",
       "    <tr>\n",
       "      <th>...</th>\n",
       "      <td>...</td>\n",
       "      <td>...</td>\n",
       "      <td>...</td>\n",
       "      <td>...</td>\n",
       "      <td>...</td>\n",
       "      <td>...</td>\n",
       "    </tr>\n",
       "    <tr>\n",
       "      <th>7856</th>\n",
       "      <td>IAH</td>\n",
       "      <td>DEN</td>\n",
       "      <td>2004-05-27</td>\n",
       "      <td>2004-03-28</td>\n",
       "      <td>BKN070 OVC095</td>\n",
       "      <td>10SM</td>\n",
       "    </tr>\n",
       "    <tr>\n",
       "      <th>7857</th>\n",
       "      <td>EWR</td>\n",
       "      <td>MEM</td>\n",
       "      <td>2004-11-29</td>\n",
       "      <td>2004-03-28</td>\n",
       "      <td>CLR</td>\n",
       "      <td>10SM</td>\n",
       "    </tr>\n",
       "    <tr>\n",
       "      <th>7858</th>\n",
       "      <td>IAD</td>\n",
       "      <td>GSO</td>\n",
       "      <td>2004-05-11</td>\n",
       "      <td>2004-03-28</td>\n",
       "      <td>CLR</td>\n",
       "      <td>10SM</td>\n",
       "    </tr>\n",
       "    <tr>\n",
       "      <th>7859</th>\n",
       "      <td>SLC</td>\n",
       "      <td>GEG</td>\n",
       "      <td>2004-01-04</td>\n",
       "      <td>2004-03-28</td>\n",
       "      <td>BKN090</td>\n",
       "      <td>10SM</td>\n",
       "    </tr>\n",
       "    <tr>\n",
       "      <th>7860</th>\n",
       "      <td>FLL</td>\n",
       "      <td>CLE</td>\n",
       "      <td>2004-11-06</td>\n",
       "      <td>2004-03-28</td>\n",
       "      <td>BKN095</td>\n",
       "      <td>10SM</td>\n",
       "    </tr>\n",
       "  </tbody>\n",
       "</table>\n",
       "<p>7861 rows × 6 columns</p>\n",
       "</div>"
      ],
      "text/plain": [
       "     Origin Destination YearMonthDay_x YearMonthDay_y         SkyConditions  \\\n",
       "0       BOS         CLE     2004-09-20     2004-01-01         FEW075 BKN090   \n",
       "1       CLE         ATL     2004-11-19     2004-01-01         BKN028 OVC033   \n",
       "2       SNA         LAS     2004-05-04     2004-01-01         FEW025 OVC032   \n",
       "3       CLT         TPA     2004-07-06     2004-01-02  SCT015 BKN020 OVC028   \n",
       "4       MSP         ORD     2004-09-23     2004-01-02         BKN013 OVC021   \n",
       "...     ...         ...            ...            ...                   ...   \n",
       "7856    IAH         DEN     2004-05-27     2004-03-28         BKN070 OVC095   \n",
       "7857    EWR         MEM     2004-11-29     2004-03-28                   CLR   \n",
       "7858    IAD         GSO     2004-05-11     2004-03-28                   CLR   \n",
       "7859    SLC         GEG     2004-01-04     2004-03-28                BKN090   \n",
       "7860    FLL         CLE     2004-11-06     2004-03-28                BKN095   \n",
       "\n",
       "     Visibility  \n",
       "0          10SM  \n",
       "1          10SM  \n",
       "2           9SM  \n",
       "3           4SM  \n",
       "4        1.75SM  \n",
       "...         ...  \n",
       "7856       10SM  \n",
       "7857       10SM  \n",
       "7858       10SM  \n",
       "7859       10SM  \n",
       "7860       10SM  \n",
       "\n",
       "[7861 rows x 6 columns]"
      ]
     },
     "execution_count": 21,
     "metadata": {},
     "output_type": "execute_result"
    }
   ],
   "source": [
    "df.select_dtypes(include=['object'])\n"
   ]
  },
  {
   "cell_type": "code",
   "execution_count": 22,
   "id": "93bd8bcb",
   "metadata": {},
   "outputs": [],
   "source": [
    "df=df.drop(['YearMonthDay_x','YearMonthDay_y'],axis=1)"
   ]
  },
  {
   "cell_type": "code",
   "execution_count": 23,
   "id": "df78c724",
   "metadata": {},
   "outputs": [
    {
     "data": {
      "text/plain": [
       "Index(['Year', 'Month', 'DayofMonth', 'DayOfWeek', 'ScheduledDepTime',\n",
       "       'ScheduledArrTime', 'ScheduledTravelTime', 'Origin', 'Destination',\n",
       "       'Distance', 'GroundHeight', 'StationHeight', 'BarometerHeight',\n",
       "       'Latitude', 'Longitude', 'TimeZone', 'Time', 'SkyConditions',\n",
       "       'Visibility', 'DBT', 'RelativeHumidityPercent', 'WindSpeed',\n",
       "       'WindDirection', 'WindGustValue', 'StationPressure', 'HourlyPrecip',\n",
       "       'FlightDelayStatus'],\n",
       "      dtype='object')"
      ]
     },
     "execution_count": 23,
     "metadata": {},
     "output_type": "execute_result"
    }
   ],
   "source": [
    "df.columns"
   ]
  },
  {
   "cell_type": "markdown",
   "id": "ead3e8a9",
   "metadata": {},
   "source": [
    "#### labelencoding categorical data"
   ]
  },
  {
   "cell_type": "code",
   "execution_count": 24,
   "id": "a151d882",
   "metadata": {},
   "outputs": [
    {
     "data": {
      "text/html": [
       "<div>\n",
       "<style scoped>\n",
       "    .dataframe tbody tr th:only-of-type {\n",
       "        vertical-align: middle;\n",
       "    }\n",
       "\n",
       "    .dataframe tbody tr th {\n",
       "        vertical-align: top;\n",
       "    }\n",
       "\n",
       "    .dataframe thead th {\n",
       "        text-align: right;\n",
       "    }\n",
       "</style>\n",
       "<table border=\"1\" class=\"dataframe\">\n",
       "  <thead>\n",
       "    <tr style=\"text-align: right;\">\n",
       "      <th></th>\n",
       "      <th>Year</th>\n",
       "      <th>Month</th>\n",
       "      <th>DayofMonth</th>\n",
       "      <th>DayOfWeek</th>\n",
       "      <th>ScheduledDepTime</th>\n",
       "      <th>ScheduledArrTime</th>\n",
       "      <th>ScheduledTravelTime</th>\n",
       "      <th>Origin</th>\n",
       "      <th>Destination</th>\n",
       "      <th>Distance</th>\n",
       "      <th>...</th>\n",
       "      <th>SkyConditions</th>\n",
       "      <th>Visibility</th>\n",
       "      <th>DBT</th>\n",
       "      <th>RelativeHumidityPercent</th>\n",
       "      <th>WindSpeed</th>\n",
       "      <th>WindDirection</th>\n",
       "      <th>WindGustValue</th>\n",
       "      <th>StationPressure</th>\n",
       "      <th>HourlyPrecip</th>\n",
       "      <th>FlightDelayStatus</th>\n",
       "    </tr>\n",
       "  </thead>\n",
       "  <tbody>\n",
       "    <tr>\n",
       "      <th>0</th>\n",
       "      <td>2004</td>\n",
       "      <td>9</td>\n",
       "      <td>20</td>\n",
       "      <td>1</td>\n",
       "      <td>1000</td>\n",
       "      <td>1154</td>\n",
       "      <td>114</td>\n",
       "      <td>27</td>\n",
       "      <td>43</td>\n",
       "      <td>563</td>\n",
       "      <td>...</td>\n",
       "      <td>630</td>\n",
       "      <td>6</td>\n",
       "      <td>32.0</td>\n",
       "      <td>40.0</td>\n",
       "      <td>15.0</td>\n",
       "      <td>160</td>\n",
       "      <td>0.0</td>\n",
       "      <td>30.05</td>\n",
       "      <td>0.0</td>\n",
       "      <td>2</td>\n",
       "    </tr>\n",
       "    <tr>\n",
       "      <th>1</th>\n",
       "      <td>2004</td>\n",
       "      <td>11</td>\n",
       "      <td>19</td>\n",
       "      <td>5</td>\n",
       "      <td>1440</td>\n",
       "      <td>1634</td>\n",
       "      <td>114</td>\n",
       "      <td>45</td>\n",
       "      <td>13</td>\n",
       "      <td>554</td>\n",
       "      <td>...</td>\n",
       "      <td>112</td>\n",
       "      <td>6</td>\n",
       "      <td>21.0</td>\n",
       "      <td>74.0</td>\n",
       "      <td>5.0</td>\n",
       "      <td>0</td>\n",
       "      <td>0.0</td>\n",
       "      <td>30.06</td>\n",
       "      <td>0.0</td>\n",
       "      <td>1</td>\n",
       "    </tr>\n",
       "    <tr>\n",
       "      <th>2</th>\n",
       "      <td>2004</td>\n",
       "      <td>5</td>\n",
       "      <td>4</td>\n",
       "      <td>2</td>\n",
       "      <td>1800</td>\n",
       "      <td>1902</td>\n",
       "      <td>62</td>\n",
       "      <td>205</td>\n",
       "      <td>115</td>\n",
       "      <td>226</td>\n",
       "      <td>...</td>\n",
       "      <td>399</td>\n",
       "      <td>16</td>\n",
       "      <td>25.0</td>\n",
       "      <td>75.0</td>\n",
       "      <td>4.0</td>\n",
       "      <td>0</td>\n",
       "      <td>0.0</td>\n",
       "      <td>30.06</td>\n",
       "      <td>0.0</td>\n",
       "      <td>2</td>\n",
       "    </tr>\n",
       "    <tr>\n",
       "      <th>3</th>\n",
       "      <td>2004</td>\n",
       "      <td>7</td>\n",
       "      <td>6</td>\n",
       "      <td>2</td>\n",
       "      <td>1400</td>\n",
       "      <td>1533</td>\n",
       "      <td>93</td>\n",
       "      <td>47</td>\n",
       "      <td>207</td>\n",
       "      <td>508</td>\n",
       "      <td>...</td>\n",
       "      <td>762</td>\n",
       "      <td>11</td>\n",
       "      <td>25.0</td>\n",
       "      <td>92.0</td>\n",
       "      <td>0.0</td>\n",
       "      <td>0</td>\n",
       "      <td>0.0</td>\n",
       "      <td>29.98</td>\n",
       "      <td>0.0</td>\n",
       "      <td>2</td>\n",
       "    </tr>\n",
       "    <tr>\n",
       "      <th>4</th>\n",
       "      <td>2004</td>\n",
       "      <td>9</td>\n",
       "      <td>23</td>\n",
       "      <td>4</td>\n",
       "      <td>830</td>\n",
       "      <td>946</td>\n",
       "      <td>76</td>\n",
       "      <td>153</td>\n",
       "      <td>155</td>\n",
       "      <td>334</td>\n",
       "      <td>...</td>\n",
       "      <td>70</td>\n",
       "      <td>5</td>\n",
       "      <td>27.0</td>\n",
       "      <td>85.0</td>\n",
       "      <td>0.0</td>\n",
       "      <td>0</td>\n",
       "      <td>0.0</td>\n",
       "      <td>29.99</td>\n",
       "      <td>0.0</td>\n",
       "      <td>2</td>\n",
       "    </tr>\n",
       "  </tbody>\n",
       "</table>\n",
       "<p>5 rows × 27 columns</p>\n",
       "</div>"
      ],
      "text/plain": [
       "   Year  Month  DayofMonth  DayOfWeek  ScheduledDepTime  ScheduledArrTime  \\\n",
       "0  2004      9          20          1              1000              1154   \n",
       "1  2004     11          19          5              1440              1634   \n",
       "2  2004      5           4          2              1800              1902   \n",
       "3  2004      7           6          2              1400              1533   \n",
       "4  2004      9          23          4               830               946   \n",
       "\n",
       "   ScheduledTravelTime  Origin  Destination  Distance  ...  SkyConditions  \\\n",
       "0                  114      27           43       563  ...            630   \n",
       "1                  114      45           13       554  ...            112   \n",
       "2                   62     205          115       226  ...            399   \n",
       "3                   93      47          207       508  ...            762   \n",
       "4                   76     153          155       334  ...             70   \n",
       "\n",
       "   Visibility   DBT  RelativeHumidityPercent  WindSpeed  WindDirection  \\\n",
       "0           6  32.0                     40.0       15.0            160   \n",
       "1           6  21.0                     74.0        5.0              0   \n",
       "2          16  25.0                     75.0        4.0              0   \n",
       "3          11  25.0                     92.0        0.0              0   \n",
       "4           5  27.0                     85.0        0.0              0   \n",
       "\n",
       "   WindGustValue  StationPressure  HourlyPrecip  FlightDelayStatus  \n",
       "0            0.0            30.05           0.0                  2  \n",
       "1            0.0            30.06           0.0                  1  \n",
       "2            0.0            30.06           0.0                  2  \n",
       "3            0.0            29.98           0.0                  2  \n",
       "4            0.0            29.99           0.0                  2  \n",
       "\n",
       "[5 rows x 27 columns]"
      ]
     },
     "execution_count": 24,
     "metadata": {},
     "output_type": "execute_result"
    }
   ],
   "source": [
    "cols = ['Origin', 'Destination', 'SkyConditions', 'Visibility']\n",
    "#\n",
    "# Encode labels of multiple columns at once\n",
    "#\n",
    "df[cols] = df[cols].apply(LabelEncoder().fit_transform)\n",
    "#\n",
    "# Print head\n",
    "#\n",
    "df.head()"
   ]
  },
  {
   "cell_type": "code",
   "execution_count": 25,
   "id": "53ca5eab",
   "metadata": {},
   "outputs": [
    {
     "name": "stdout",
     "output_type": "stream",
     "text": [
      "<class 'pandas.core.frame.DataFrame'>\n",
      "RangeIndex: 7861 entries, 0 to 7860\n",
      "Data columns (total 27 columns):\n",
      " #   Column                   Non-Null Count  Dtype  \n",
      "---  ------                   --------------  -----  \n",
      " 0   Year                     7861 non-null   int64  \n",
      " 1   Month                    7861 non-null   int64  \n",
      " 2   DayofMonth               7861 non-null   int64  \n",
      " 3   DayOfWeek                7861 non-null   int64  \n",
      " 4   ScheduledDepTime         7861 non-null   int64  \n",
      " 5   ScheduledArrTime         7861 non-null   int64  \n",
      " 6   ScheduledTravelTime      7861 non-null   int64  \n",
      " 7   Origin                   7861 non-null   int32  \n",
      " 8   Destination              7861 non-null   int32  \n",
      " 9   Distance                 7861 non-null   int64  \n",
      " 10  GroundHeight             7861 non-null   int64  \n",
      " 11  StationHeight            7861 non-null   int64  \n",
      " 12  BarometerHeight          7861 non-null   int64  \n",
      " 13  Latitude                 7861 non-null   float64\n",
      " 14  Longitude                7861 non-null   float64\n",
      " 15  TimeZone                 7861 non-null   int64  \n",
      " 16  Time                     7861 non-null   int64  \n",
      " 17  SkyConditions            7861 non-null   int32  \n",
      " 18  Visibility               7861 non-null   int32  \n",
      " 19  DBT                      7861 non-null   float64\n",
      " 20  RelativeHumidityPercent  7861 non-null   float64\n",
      " 21  WindSpeed                7861 non-null   float64\n",
      " 22  WindDirection            7861 non-null   int64  \n",
      " 23  WindGustValue            7861 non-null   float64\n",
      " 24  StationPressure          7861 non-null   float64\n",
      " 25  HourlyPrecip             7861 non-null   float64\n",
      " 26  FlightDelayStatus        7861 non-null   int64  \n",
      "dtypes: float64(8), int32(4), int64(15)\n",
      "memory usage: 1.5 MB\n"
     ]
    }
   ],
   "source": [
    "df.info()"
   ]
  },
  {
   "cell_type": "code",
   "execution_count": 26,
   "id": "e151bfaf",
   "metadata": {},
   "outputs": [
    {
     "data": {
      "text/html": [
       "<div>\n",
       "<style scoped>\n",
       "    .dataframe tbody tr th:only-of-type {\n",
       "        vertical-align: middle;\n",
       "    }\n",
       "\n",
       "    .dataframe tbody tr th {\n",
       "        vertical-align: top;\n",
       "    }\n",
       "\n",
       "    .dataframe thead th {\n",
       "        text-align: right;\n",
       "    }\n",
       "</style>\n",
       "<table border=\"1\" class=\"dataframe\">\n",
       "  <thead>\n",
       "    <tr style=\"text-align: right;\">\n",
       "      <th></th>\n",
       "      <th>Year</th>\n",
       "      <th>Month</th>\n",
       "      <th>DayofMonth</th>\n",
       "      <th>DayOfWeek</th>\n",
       "      <th>ScheduledDepTime</th>\n",
       "      <th>ScheduledArrTime</th>\n",
       "      <th>ScheduledTravelTime</th>\n",
       "      <th>Origin</th>\n",
       "      <th>Destination</th>\n",
       "      <th>Distance</th>\n",
       "      <th>...</th>\n",
       "      <th>SkyConditions</th>\n",
       "      <th>Visibility</th>\n",
       "      <th>DBT</th>\n",
       "      <th>RelativeHumidityPercent</th>\n",
       "      <th>WindSpeed</th>\n",
       "      <th>WindDirection</th>\n",
       "      <th>WindGustValue</th>\n",
       "      <th>StationPressure</th>\n",
       "      <th>HourlyPrecip</th>\n",
       "      <th>FlightDelayStatus</th>\n",
       "    </tr>\n",
       "  </thead>\n",
       "  <tbody>\n",
       "    <tr>\n",
       "      <th>count</th>\n",
       "      <td>7861.0</td>\n",
       "      <td>7861.00000</td>\n",
       "      <td>7861.000000</td>\n",
       "      <td>7861.000000</td>\n",
       "      <td>7861.000000</td>\n",
       "      <td>7861.000000</td>\n",
       "      <td>7861.000000</td>\n",
       "      <td>7861.000000</td>\n",
       "      <td>7861.000000</td>\n",
       "      <td>7861.000000</td>\n",
       "      <td>...</td>\n",
       "      <td>7861.000000</td>\n",
       "      <td>7861.000000</td>\n",
       "      <td>7861.000000</td>\n",
       "      <td>7861.000000</td>\n",
       "      <td>7861.000000</td>\n",
       "      <td>7861.000000</td>\n",
       "      <td>7861.000000</td>\n",
       "      <td>7861.000000</td>\n",
       "      <td>7861.000000</td>\n",
       "      <td>7861.000000</td>\n",
       "    </tr>\n",
       "    <tr>\n",
       "      <th>mean</th>\n",
       "      <td>2004.0</td>\n",
       "      <td>7.12085</td>\n",
       "      <td>15.441292</td>\n",
       "      <td>3.960946</td>\n",
       "      <td>1198.225417</td>\n",
       "      <td>1412.232922</td>\n",
       "      <td>129.623839</td>\n",
       "      <td>110.092355</td>\n",
       "      <td>102.350464</td>\n",
       "      <td>743.764025</td>\n",
       "      <td>...</td>\n",
       "      <td>336.000763</td>\n",
       "      <td>6.151507</td>\n",
       "      <td>46.462918</td>\n",
       "      <td>43.526619</td>\n",
       "      <td>6.872281</td>\n",
       "      <td>164.722046</td>\n",
       "      <td>3.979392</td>\n",
       "      <td>29.779902</td>\n",
       "      <td>0.000069</td>\n",
       "      <td>1.806768</td>\n",
       "    </tr>\n",
       "    <tr>\n",
       "      <th>std</th>\n",
       "      <td>0.0</td>\n",
       "      <td>2.82233</td>\n",
       "      <td>9.049019</td>\n",
       "      <td>1.980921</td>\n",
       "      <td>354.923067</td>\n",
       "      <td>369.739052</td>\n",
       "      <td>63.272072</td>\n",
       "      <td>62.433381</td>\n",
       "      <td>59.912529</td>\n",
       "      <td>522.629372</td>\n",
       "      <td>...</td>\n",
       "      <td>197.845886</td>\n",
       "      <td>1.273659</td>\n",
       "      <td>15.548792</td>\n",
       "      <td>26.128947</td>\n",
       "      <td>5.100114</td>\n",
       "      <td>116.039783</td>\n",
       "      <td>8.828625</td>\n",
       "      <td>1.156824</td>\n",
       "      <td>0.002029</td>\n",
       "      <td>0.394859</td>\n",
       "    </tr>\n",
       "    <tr>\n",
       "      <th>min</th>\n",
       "      <td>2004.0</td>\n",
       "      <td>1.00000</td>\n",
       "      <td>1.000000</td>\n",
       "      <td>1.000000</td>\n",
       "      <td>215.000000</td>\n",
       "      <td>553.000000</td>\n",
       "      <td>61.000000</td>\n",
       "      <td>0.000000</td>\n",
       "      <td>0.000000</td>\n",
       "      <td>69.000000</td>\n",
       "      <td>...</td>\n",
       "      <td>0.000000</td>\n",
       "      <td>0.000000</td>\n",
       "      <td>-8.000000</td>\n",
       "      <td>3.000000</td>\n",
       "      <td>0.000000</td>\n",
       "      <td>0.000000</td>\n",
       "      <td>0.000000</td>\n",
       "      <td>25.790000</td>\n",
       "      <td>0.000000</td>\n",
       "      <td>1.000000</td>\n",
       "    </tr>\n",
       "    <tr>\n",
       "      <th>25%</th>\n",
       "      <td>2004.0</td>\n",
       "      <td>5.00000</td>\n",
       "      <td>7.000000</td>\n",
       "      <td>2.000000</td>\n",
       "      <td>900.000000</td>\n",
       "      <td>1111.000000</td>\n",
       "      <td>83.000000</td>\n",
       "      <td>58.000000</td>\n",
       "      <td>52.000000</td>\n",
       "      <td>368.000000</td>\n",
       "      <td>...</td>\n",
       "      <td>243.000000</td>\n",
       "      <td>6.000000</td>\n",
       "      <td>36.000000</td>\n",
       "      <td>21.000000</td>\n",
       "      <td>4.000000</td>\n",
       "      <td>40.000000</td>\n",
       "      <td>0.000000</td>\n",
       "      <td>30.010000</td>\n",
       "      <td>0.000000</td>\n",
       "      <td>2.000000</td>\n",
       "    </tr>\n",
       "    <tr>\n",
       "      <th>50%</th>\n",
       "      <td>2004.0</td>\n",
       "      <td>7.00000</td>\n",
       "      <td>15.000000</td>\n",
       "      <td>4.000000</td>\n",
       "      <td>1215.000000</td>\n",
       "      <td>1430.000000</td>\n",
       "      <td>112.000000</td>\n",
       "      <td>116.000000</td>\n",
       "      <td>101.000000</td>\n",
       "      <td>595.000000</td>\n",
       "      <td>...</td>\n",
       "      <td>243.000000</td>\n",
       "      <td>6.000000</td>\n",
       "      <td>46.000000</td>\n",
       "      <td>38.000000</td>\n",
       "      <td>6.000000</td>\n",
       "      <td>180.000000</td>\n",
       "      <td>0.000000</td>\n",
       "      <td>30.130000</td>\n",
       "      <td>0.000000</td>\n",
       "      <td>2.000000</td>\n",
       "    </tr>\n",
       "    <tr>\n",
       "      <th>75%</th>\n",
       "      <td>2004.0</td>\n",
       "      <td>9.00000</td>\n",
       "      <td>23.000000</td>\n",
       "      <td>6.000000</td>\n",
       "      <td>1518.000000</td>\n",
       "      <td>1728.000000</td>\n",
       "      <td>155.000000</td>\n",
       "      <td>162.000000</td>\n",
       "      <td>155.000000</td>\n",
       "      <td>951.000000</td>\n",
       "      <td>...</td>\n",
       "      <td>243.000000</td>\n",
       "      <td>6.000000</td>\n",
       "      <td>57.000000</td>\n",
       "      <td>64.000000</td>\n",
       "      <td>9.000000</td>\n",
       "      <td>260.000000</td>\n",
       "      <td>0.000000</td>\n",
       "      <td>30.240000</td>\n",
       "      <td>0.000000</td>\n",
       "      <td>2.000000</td>\n",
       "    </tr>\n",
       "    <tr>\n",
       "      <th>max</th>\n",
       "      <td>2004.0</td>\n",
       "      <td>11.00000</td>\n",
       "      <td>31.000000</td>\n",
       "      <td>7.000000</td>\n",
       "      <td>1800.000000</td>\n",
       "      <td>2300.000000</td>\n",
       "      <td>562.000000</td>\n",
       "      <td>222.000000</td>\n",
       "      <td>214.000000</td>\n",
       "      <td>4962.000000</td>\n",
       "      <td>...</td>\n",
       "      <td>923.000000</td>\n",
       "      <td>16.000000</td>\n",
       "      <td>86.000000</td>\n",
       "      <td>100.000000</td>\n",
       "      <td>33.000000</td>\n",
       "      <td>360.000000</td>\n",
       "      <td>42.000000</td>\n",
       "      <td>30.590000</td>\n",
       "      <td>0.100000</td>\n",
       "      <td>2.000000</td>\n",
       "    </tr>\n",
       "  </tbody>\n",
       "</table>\n",
       "<p>8 rows × 27 columns</p>\n",
       "</div>"
      ],
      "text/plain": [
       "         Year       Month   DayofMonth    DayOfWeek  ScheduledDepTime  \\\n",
       "count  7861.0  7861.00000  7861.000000  7861.000000       7861.000000   \n",
       "mean   2004.0     7.12085    15.441292     3.960946       1198.225417   \n",
       "std       0.0     2.82233     9.049019     1.980921        354.923067   \n",
       "min    2004.0     1.00000     1.000000     1.000000        215.000000   \n",
       "25%    2004.0     5.00000     7.000000     2.000000        900.000000   \n",
       "50%    2004.0     7.00000    15.000000     4.000000       1215.000000   \n",
       "75%    2004.0     9.00000    23.000000     6.000000       1518.000000   \n",
       "max    2004.0    11.00000    31.000000     7.000000       1800.000000   \n",
       "\n",
       "       ScheduledArrTime  ScheduledTravelTime       Origin  Destination  \\\n",
       "count       7861.000000          7861.000000  7861.000000  7861.000000   \n",
       "mean        1412.232922           129.623839   110.092355   102.350464   \n",
       "std          369.739052            63.272072    62.433381    59.912529   \n",
       "min          553.000000            61.000000     0.000000     0.000000   \n",
       "25%         1111.000000            83.000000    58.000000    52.000000   \n",
       "50%         1430.000000           112.000000   116.000000   101.000000   \n",
       "75%         1728.000000           155.000000   162.000000   155.000000   \n",
       "max         2300.000000           562.000000   222.000000   214.000000   \n",
       "\n",
       "          Distance  ...  SkyConditions   Visibility          DBT  \\\n",
       "count  7861.000000  ...    7861.000000  7861.000000  7861.000000   \n",
       "mean    743.764025  ...     336.000763     6.151507    46.462918   \n",
       "std     522.629372  ...     197.845886     1.273659    15.548792   \n",
       "min      69.000000  ...       0.000000     0.000000    -8.000000   \n",
       "25%     368.000000  ...     243.000000     6.000000    36.000000   \n",
       "50%     595.000000  ...     243.000000     6.000000    46.000000   \n",
       "75%     951.000000  ...     243.000000     6.000000    57.000000   \n",
       "max    4962.000000  ...     923.000000    16.000000    86.000000   \n",
       "\n",
       "       RelativeHumidityPercent    WindSpeed  WindDirection  WindGustValue  \\\n",
       "count              7861.000000  7861.000000    7861.000000    7861.000000   \n",
       "mean                 43.526619     6.872281     164.722046       3.979392   \n",
       "std                  26.128947     5.100114     116.039783       8.828625   \n",
       "min                   3.000000     0.000000       0.000000       0.000000   \n",
       "25%                  21.000000     4.000000      40.000000       0.000000   \n",
       "50%                  38.000000     6.000000     180.000000       0.000000   \n",
       "75%                  64.000000     9.000000     260.000000       0.000000   \n",
       "max                 100.000000    33.000000     360.000000      42.000000   \n",
       "\n",
       "       StationPressure  HourlyPrecip  FlightDelayStatus  \n",
       "count      7861.000000   7861.000000        7861.000000  \n",
       "mean         29.779902      0.000069           1.806768  \n",
       "std           1.156824      0.002029           0.394859  \n",
       "min          25.790000      0.000000           1.000000  \n",
       "25%          30.010000      0.000000           2.000000  \n",
       "50%          30.130000      0.000000           2.000000  \n",
       "75%          30.240000      0.000000           2.000000  \n",
       "max          30.590000      0.100000           2.000000  \n",
       "\n",
       "[8 rows x 27 columns]"
      ]
     },
     "execution_count": 26,
     "metadata": {},
     "output_type": "execute_result"
    }
   ],
   "source": [
    "df.describe()"
   ]
  },
  {
   "cell_type": "code",
   "execution_count": 27,
   "id": "21ae0f90",
   "metadata": {},
   "outputs": [],
   "source": [
    "df1=pd.DataFrame(df)"
   ]
  },
  {
   "cell_type": "code",
   "execution_count": 28,
   "id": "7f39b059",
   "metadata": {},
   "outputs": [
    {
     "data": {
      "text/plain": [
       "Index(['Year', 'Month', 'DayofMonth', 'DayOfWeek', 'ScheduledDepTime',\n",
       "       'ScheduledArrTime', 'ScheduledTravelTime', 'Origin', 'Destination',\n",
       "       'Distance', 'GroundHeight', 'StationHeight', 'BarometerHeight',\n",
       "       'Latitude', 'Longitude', 'TimeZone', 'Time', 'SkyConditions',\n",
       "       'Visibility', 'DBT', 'RelativeHumidityPercent', 'WindSpeed',\n",
       "       'WindDirection', 'WindGustValue', 'StationPressure', 'HourlyPrecip',\n",
       "       'FlightDelayStatus'],\n",
       "      dtype='object')"
      ]
     },
     "execution_count": 28,
     "metadata": {},
     "output_type": "execute_result"
    }
   ],
   "source": [
    "df1.columns"
   ]
  },
  {
   "cell_type": "code",
   "execution_count": 29,
   "id": "d1e8c8ea",
   "metadata": {},
   "outputs": [
    {
     "data": {
      "text/html": [
       "<div>\n",
       "<style scoped>\n",
       "    .dataframe tbody tr th:only-of-type {\n",
       "        vertical-align: middle;\n",
       "    }\n",
       "\n",
       "    .dataframe tbody tr th {\n",
       "        vertical-align: top;\n",
       "    }\n",
       "\n",
       "    .dataframe thead th {\n",
       "        text-align: right;\n",
       "    }\n",
       "</style>\n",
       "<table border=\"1\" class=\"dataframe\">\n",
       "  <thead>\n",
       "    <tr style=\"text-align: right;\">\n",
       "      <th></th>\n",
       "      <th>Year</th>\n",
       "      <th>Month</th>\n",
       "      <th>DayofMonth</th>\n",
       "      <th>DayOfWeek</th>\n",
       "      <th>ScheduledDepTime</th>\n",
       "      <th>ScheduledArrTime</th>\n",
       "      <th>ScheduledTravelTime</th>\n",
       "      <th>Origin</th>\n",
       "      <th>Destination</th>\n",
       "      <th>Distance</th>\n",
       "      <th>...</th>\n",
       "      <th>SkyConditions</th>\n",
       "      <th>Visibility</th>\n",
       "      <th>DBT</th>\n",
       "      <th>RelativeHumidityPercent</th>\n",
       "      <th>WindSpeed</th>\n",
       "      <th>WindDirection</th>\n",
       "      <th>WindGustValue</th>\n",
       "      <th>StationPressure</th>\n",
       "      <th>HourlyPrecip</th>\n",
       "      <th>FlightDelayStatus</th>\n",
       "    </tr>\n",
       "  </thead>\n",
       "  <tbody>\n",
       "    <tr>\n",
       "      <th>0</th>\n",
       "      <td>2004</td>\n",
       "      <td>9</td>\n",
       "      <td>20</td>\n",
       "      <td>1</td>\n",
       "      <td>1000</td>\n",
       "      <td>1154</td>\n",
       "      <td>114</td>\n",
       "      <td>27</td>\n",
       "      <td>43</td>\n",
       "      <td>563</td>\n",
       "      <td>...</td>\n",
       "      <td>630</td>\n",
       "      <td>6</td>\n",
       "      <td>32.0</td>\n",
       "      <td>40.0</td>\n",
       "      <td>15.0</td>\n",
       "      <td>160</td>\n",
       "      <td>0.0</td>\n",
       "      <td>30.05</td>\n",
       "      <td>0.0</td>\n",
       "      <td>2</td>\n",
       "    </tr>\n",
       "    <tr>\n",
       "      <th>1</th>\n",
       "      <td>2004</td>\n",
       "      <td>11</td>\n",
       "      <td>19</td>\n",
       "      <td>5</td>\n",
       "      <td>1440</td>\n",
       "      <td>1634</td>\n",
       "      <td>114</td>\n",
       "      <td>45</td>\n",
       "      <td>13</td>\n",
       "      <td>554</td>\n",
       "      <td>...</td>\n",
       "      <td>112</td>\n",
       "      <td>6</td>\n",
       "      <td>21.0</td>\n",
       "      <td>74.0</td>\n",
       "      <td>5.0</td>\n",
       "      <td>0</td>\n",
       "      <td>0.0</td>\n",
       "      <td>30.06</td>\n",
       "      <td>0.0</td>\n",
       "      <td>1</td>\n",
       "    </tr>\n",
       "    <tr>\n",
       "      <th>2</th>\n",
       "      <td>2004</td>\n",
       "      <td>5</td>\n",
       "      <td>4</td>\n",
       "      <td>2</td>\n",
       "      <td>1800</td>\n",
       "      <td>1902</td>\n",
       "      <td>62</td>\n",
       "      <td>205</td>\n",
       "      <td>115</td>\n",
       "      <td>226</td>\n",
       "      <td>...</td>\n",
       "      <td>399</td>\n",
       "      <td>16</td>\n",
       "      <td>25.0</td>\n",
       "      <td>75.0</td>\n",
       "      <td>4.0</td>\n",
       "      <td>0</td>\n",
       "      <td>0.0</td>\n",
       "      <td>30.06</td>\n",
       "      <td>0.0</td>\n",
       "      <td>2</td>\n",
       "    </tr>\n",
       "    <tr>\n",
       "      <th>3</th>\n",
       "      <td>2004</td>\n",
       "      <td>7</td>\n",
       "      <td>6</td>\n",
       "      <td>2</td>\n",
       "      <td>1400</td>\n",
       "      <td>1533</td>\n",
       "      <td>93</td>\n",
       "      <td>47</td>\n",
       "      <td>207</td>\n",
       "      <td>508</td>\n",
       "      <td>...</td>\n",
       "      <td>762</td>\n",
       "      <td>11</td>\n",
       "      <td>25.0</td>\n",
       "      <td>92.0</td>\n",
       "      <td>0.0</td>\n",
       "      <td>0</td>\n",
       "      <td>0.0</td>\n",
       "      <td>29.98</td>\n",
       "      <td>0.0</td>\n",
       "      <td>2</td>\n",
       "    </tr>\n",
       "    <tr>\n",
       "      <th>4</th>\n",
       "      <td>2004</td>\n",
       "      <td>9</td>\n",
       "      <td>23</td>\n",
       "      <td>4</td>\n",
       "      <td>830</td>\n",
       "      <td>946</td>\n",
       "      <td>76</td>\n",
       "      <td>153</td>\n",
       "      <td>155</td>\n",
       "      <td>334</td>\n",
       "      <td>...</td>\n",
       "      <td>70</td>\n",
       "      <td>5</td>\n",
       "      <td>27.0</td>\n",
       "      <td>85.0</td>\n",
       "      <td>0.0</td>\n",
       "      <td>0</td>\n",
       "      <td>0.0</td>\n",
       "      <td>29.99</td>\n",
       "      <td>0.0</td>\n",
       "      <td>2</td>\n",
       "    </tr>\n",
       "    <tr>\n",
       "      <th>...</th>\n",
       "      <td>...</td>\n",
       "      <td>...</td>\n",
       "      <td>...</td>\n",
       "      <td>...</td>\n",
       "      <td>...</td>\n",
       "      <td>...</td>\n",
       "      <td>...</td>\n",
       "      <td>...</td>\n",
       "      <td>...</td>\n",
       "      <td>...</td>\n",
       "      <td>...</td>\n",
       "      <td>...</td>\n",
       "      <td>...</td>\n",
       "      <td>...</td>\n",
       "      <td>...</td>\n",
       "      <td>...</td>\n",
       "      <td>...</td>\n",
       "      <td>...</td>\n",
       "      <td>...</td>\n",
       "      <td>...</td>\n",
       "      <td>...</td>\n",
       "    </tr>\n",
       "    <tr>\n",
       "      <th>7856</th>\n",
       "      <td>2004</td>\n",
       "      <td>5</td>\n",
       "      <td>27</td>\n",
       "      <td>4</td>\n",
       "      <td>735</td>\n",
       "      <td>900</td>\n",
       "      <td>145</td>\n",
       "      <td>107</td>\n",
       "      <td>57</td>\n",
       "      <td>861</td>\n",
       "      <td>...</td>\n",
       "      <td>217</td>\n",
       "      <td>6</td>\n",
       "      <td>39.0</td>\n",
       "      <td>93.0</td>\n",
       "      <td>4.0</td>\n",
       "      <td>220</td>\n",
       "      <td>0.0</td>\n",
       "      <td>26.29</td>\n",
       "      <td>0.0</td>\n",
       "      <td>2</td>\n",
       "    </tr>\n",
       "    <tr>\n",
       "      <th>7857</th>\n",
       "      <td>2004</td>\n",
       "      <td>11</td>\n",
       "      <td>29</td>\n",
       "      <td>1</td>\n",
       "      <td>1155</td>\n",
       "      <td>1354</td>\n",
       "      <td>179</td>\n",
       "      <td>72</td>\n",
       "      <td>132</td>\n",
       "      <td>946</td>\n",
       "      <td>...</td>\n",
       "      <td>243</td>\n",
       "      <td>6</td>\n",
       "      <td>40.0</td>\n",
       "      <td>86.0</td>\n",
       "      <td>10.0</td>\n",
       "      <td>270</td>\n",
       "      <td>0.0</td>\n",
       "      <td>26.32</td>\n",
       "      <td>0.0</td>\n",
       "      <td>2</td>\n",
       "    </tr>\n",
       "    <tr>\n",
       "      <th>7858</th>\n",
       "      <td>2004</td>\n",
       "      <td>5</td>\n",
       "      <td>11</td>\n",
       "      <td>2</td>\n",
       "      <td>1250</td>\n",
       "      <td>1405</td>\n",
       "      <td>75</td>\n",
       "      <td>106</td>\n",
       "      <td>87</td>\n",
       "      <td>239</td>\n",
       "      <td>...</td>\n",
       "      <td>243</td>\n",
       "      <td>6</td>\n",
       "      <td>47.0</td>\n",
       "      <td>63.0</td>\n",
       "      <td>9.0</td>\n",
       "      <td>280</td>\n",
       "      <td>0.0</td>\n",
       "      <td>26.34</td>\n",
       "      <td>0.0</td>\n",
       "      <td>2</td>\n",
       "    </tr>\n",
       "    <tr>\n",
       "      <th>7859</th>\n",
       "      <td>2004</td>\n",
       "      <td>1</td>\n",
       "      <td>4</td>\n",
       "      <td>7</td>\n",
       "      <td>1130</td>\n",
       "      <td>1214</td>\n",
       "      <td>104</td>\n",
       "      <td>203</td>\n",
       "      <td>80</td>\n",
       "      <td>546</td>\n",
       "      <td>...</td>\n",
       "      <td>232</td>\n",
       "      <td>6</td>\n",
       "      <td>53.0</td>\n",
       "      <td>31.0</td>\n",
       "      <td>18.0</td>\n",
       "      <td>340</td>\n",
       "      <td>0.0</td>\n",
       "      <td>26.36</td>\n",
       "      <td>0.0</td>\n",
       "      <td>2</td>\n",
       "    </tr>\n",
       "    <tr>\n",
       "      <th>7860</th>\n",
       "      <td>2004</td>\n",
       "      <td>11</td>\n",
       "      <td>6</td>\n",
       "      <td>6</td>\n",
       "      <td>1325</td>\n",
       "      <td>1613</td>\n",
       "      <td>168</td>\n",
       "      <td>79</td>\n",
       "      <td>43</td>\n",
       "      <td>1062</td>\n",
       "      <td>...</td>\n",
       "      <td>236</td>\n",
       "      <td>6</td>\n",
       "      <td>55.0</td>\n",
       "      <td>27.0</td>\n",
       "      <td>15.0</td>\n",
       "      <td>330</td>\n",
       "      <td>0.0</td>\n",
       "      <td>26.37</td>\n",
       "      <td>0.0</td>\n",
       "      <td>1</td>\n",
       "    </tr>\n",
       "  </tbody>\n",
       "</table>\n",
       "<p>7861 rows × 27 columns</p>\n",
       "</div>"
      ],
      "text/plain": [
       "      Year  Month  DayofMonth  DayOfWeek  ScheduledDepTime  ScheduledArrTime  \\\n",
       "0     2004      9          20          1              1000              1154   \n",
       "1     2004     11          19          5              1440              1634   \n",
       "2     2004      5           4          2              1800              1902   \n",
       "3     2004      7           6          2              1400              1533   \n",
       "4     2004      9          23          4               830               946   \n",
       "...    ...    ...         ...        ...               ...               ...   \n",
       "7856  2004      5          27          4               735               900   \n",
       "7857  2004     11          29          1              1155              1354   \n",
       "7858  2004      5          11          2              1250              1405   \n",
       "7859  2004      1           4          7              1130              1214   \n",
       "7860  2004     11           6          6              1325              1613   \n",
       "\n",
       "      ScheduledTravelTime  Origin  Destination  Distance  ...  SkyConditions  \\\n",
       "0                     114      27           43       563  ...            630   \n",
       "1                     114      45           13       554  ...            112   \n",
       "2                      62     205          115       226  ...            399   \n",
       "3                      93      47          207       508  ...            762   \n",
       "4                      76     153          155       334  ...             70   \n",
       "...                   ...     ...          ...       ...  ...            ...   \n",
       "7856                  145     107           57       861  ...            217   \n",
       "7857                  179      72          132       946  ...            243   \n",
       "7858                   75     106           87       239  ...            243   \n",
       "7859                  104     203           80       546  ...            232   \n",
       "7860                  168      79           43      1062  ...            236   \n",
       "\n",
       "      Visibility   DBT  RelativeHumidityPercent  WindSpeed  WindDirection  \\\n",
       "0              6  32.0                     40.0       15.0            160   \n",
       "1              6  21.0                     74.0        5.0              0   \n",
       "2             16  25.0                     75.0        4.0              0   \n",
       "3             11  25.0                     92.0        0.0              0   \n",
       "4              5  27.0                     85.0        0.0              0   \n",
       "...          ...   ...                      ...        ...            ...   \n",
       "7856           6  39.0                     93.0        4.0            220   \n",
       "7857           6  40.0                     86.0       10.0            270   \n",
       "7858           6  47.0                     63.0        9.0            280   \n",
       "7859           6  53.0                     31.0       18.0            340   \n",
       "7860           6  55.0                     27.0       15.0            330   \n",
       "\n",
       "      WindGustValue  StationPressure  HourlyPrecip  FlightDelayStatus  \n",
       "0               0.0            30.05           0.0                  2  \n",
       "1               0.0            30.06           0.0                  1  \n",
       "2               0.0            30.06           0.0                  2  \n",
       "3               0.0            29.98           0.0                  2  \n",
       "4               0.0            29.99           0.0                  2  \n",
       "...             ...              ...           ...                ...  \n",
       "7856            0.0            26.29           0.0                  2  \n",
       "7857            0.0            26.32           0.0                  2  \n",
       "7858            0.0            26.34           0.0                  2  \n",
       "7859            0.0            26.36           0.0                  2  \n",
       "7860            0.0            26.37           0.0                  1  \n",
       "\n",
       "[7861 rows x 27 columns]"
      ]
     },
     "execution_count": 29,
     "metadata": {},
     "output_type": "execute_result"
    }
   ],
   "source": [
    "df1"
   ]
  },
  {
   "cell_type": "markdown",
   "id": "27e8a284",
   "metadata": {},
   "source": [
    "#### Obtaining correlation between variables"
   ]
  },
  {
   "cell_type": "code",
   "execution_count": 30,
   "id": "bd7109ce",
   "metadata": {},
   "outputs": [
    {
     "data": {
      "text/html": [
       "<div>\n",
       "<style scoped>\n",
       "    .dataframe tbody tr th:only-of-type {\n",
       "        vertical-align: middle;\n",
       "    }\n",
       "\n",
       "    .dataframe tbody tr th {\n",
       "        vertical-align: top;\n",
       "    }\n",
       "\n",
       "    .dataframe thead th {\n",
       "        text-align: right;\n",
       "    }\n",
       "</style>\n",
       "<table border=\"1\" class=\"dataframe\">\n",
       "  <thead>\n",
       "    <tr style=\"text-align: right;\">\n",
       "      <th></th>\n",
       "      <th>Feature</th>\n",
       "      <th>CorrCoeff</th>\n",
       "      <th>pValue</th>\n",
       "    </tr>\n",
       "  </thead>\n",
       "  <tbody>\n",
       "    <tr>\n",
       "      <th>0</th>\n",
       "      <td>RelativeHumidityPercent</td>\n",
       "      <td>0.007451</td>\n",
       "      <td>5.089020e-01</td>\n",
       "    </tr>\n",
       "    <tr>\n",
       "      <th>1</th>\n",
       "      <td>StationPressure</td>\n",
       "      <td>0.002323</td>\n",
       "      <td>8.368277e-01</td>\n",
       "    </tr>\n",
       "    <tr>\n",
       "      <th>2</th>\n",
       "      <td>Longitude</td>\n",
       "      <td>-0.000932</td>\n",
       "      <td>9.341201e-01</td>\n",
       "    </tr>\n",
       "    <tr>\n",
       "      <th>3</th>\n",
       "      <td>Latitude</td>\n",
       "      <td>-0.001918</td>\n",
       "      <td>8.649583e-01</td>\n",
       "    </tr>\n",
       "    <tr>\n",
       "      <th>4</th>\n",
       "      <td>GroundHeight</td>\n",
       "      <td>-0.002032</td>\n",
       "      <td>8.570307e-01</td>\n",
       "    </tr>\n",
       "    <tr>\n",
       "      <th>5</th>\n",
       "      <td>BarometerHeight</td>\n",
       "      <td>-0.002032</td>\n",
       "      <td>8.570307e-01</td>\n",
       "    </tr>\n",
       "    <tr>\n",
       "      <th>6</th>\n",
       "      <td>StationHeight</td>\n",
       "      <td>-0.002032</td>\n",
       "      <td>8.570307e-01</td>\n",
       "    </tr>\n",
       "    <tr>\n",
       "      <th>7</th>\n",
       "      <td>WindGustValue</td>\n",
       "      <td>-0.003077</td>\n",
       "      <td>7.850478e-01</td>\n",
       "    </tr>\n",
       "    <tr>\n",
       "      <th>8</th>\n",
       "      <td>DBT</td>\n",
       "      <td>-0.016595</td>\n",
       "      <td>1.412317e-01</td>\n",
       "    </tr>\n",
       "    <tr>\n",
       "      <th>9</th>\n",
       "      <td>HourlyPrecip</td>\n",
       "      <td>-0.018365</td>\n",
       "      <td>1.034949e-01</td>\n",
       "    </tr>\n",
       "    <tr>\n",
       "      <th>10</th>\n",
       "      <td>ScheduledArrTime</td>\n",
       "      <td>-0.038174</td>\n",
       "      <td>7.110684e-04</td>\n",
       "    </tr>\n",
       "    <tr>\n",
       "      <th>11</th>\n",
       "      <td>ScheduledDepTime</td>\n",
       "      <td>-0.061573</td>\n",
       "      <td>4.668456e-08</td>\n",
       "    </tr>\n",
       "  </tbody>\n",
       "</table>\n",
       "</div>"
      ],
      "text/plain": [
       "                    Feature  CorrCoeff        pValue\n",
       "0   RelativeHumidityPercent   0.007451  5.089020e-01\n",
       "1           StationPressure   0.002323  8.368277e-01\n",
       "2                 Longitude  -0.000932  9.341201e-01\n",
       "3                  Latitude  -0.001918  8.649583e-01\n",
       "4              GroundHeight  -0.002032  8.570307e-01\n",
       "5           BarometerHeight  -0.002032  8.570307e-01\n",
       "6             StationHeight  -0.002032  8.570307e-01\n",
       "7             WindGustValue  -0.003077  7.850478e-01\n",
       "8                       DBT  -0.016595  1.412317e-01\n",
       "9              HourlyPrecip  -0.018365  1.034949e-01\n",
       "10         ScheduledArrTime  -0.038174  7.110684e-04\n",
       "11         ScheduledDepTime  -0.061573  4.668456e-08"
      ]
     },
     "execution_count": 30,
     "metadata": {},
     "output_type": "execute_result"
    }
   ],
   "source": [
    "# get continuous and dichotomous data\n",
    "categorical = [\"Year\", \"DayofMonth\", \"Month\", \"DayOfWeek\", \"WindSpeed\",\"WindDirection\",\"Origin\", \"Destination\", \"Time\", \"TimeZone\",\"FlightDelayStatus\"]\n",
    "numeric = [ \"ScheduledArrTime\",\"ScheduledDepTime\",\"DBT\", \"RelativeHumidityPercent\", \"WindGustValue\", \"StationPressure\", \"HourlyPrecip\", \"GroundHeight\", \"StationHeight\", \"BarometerHeight\",\"Latitude\",\"Longitude\"]\n",
    "target = df[\"FlightDelayStatus\"]\n",
    "\n",
    "# pbc of first question\n",
    "pbc = list()\n",
    "for col in numeric:\n",
    "    ans = pointbiserialr(df[col], target)\n",
    "    pbc.append([col, ans[0], ans[1]])\n",
    "    \n",
    "pbc_corr = pd.DataFrame(pbc, columns=[\"Feature\", \"CorrCoeff\", \"pValue\"]).sort_values(by=\"CorrCoeff\", ascending=False).reset_index(drop=True)\n",
    "pbc_corr"
   ]
  },
  {
   "cell_type": "code",
   "execution_count": 31,
   "id": "87b89689",
   "metadata": {},
   "outputs": [
    {
     "data": {
      "image/png": "[encoded data removed]",
      "text/plain": [
       "<Figure size 504x360 with 2 Axes>"
      ]
     },
     "metadata": {
      "needs_background": "light"
     },
     "output_type": "display_data"
    }
   ],
   "source": [
    "plt.figure(figsize=(7, 5))\n",
    "pbc_corr = pbc_corr.set_index(\"Feature\")\n",
    "heatmap = sns.heatmap(pbc_corr[[\"CorrCoeff\"]].sort_values(by=\"CorrCoeff\", ascending=False), vmin=-1, vmax=1, annot=True, cmap=\"BrBG\")\n",
    "heatmap.set_title(\"PBC with FLIGHT_DELAY\", fontdict={\"fontsize\":18}, pad=16);\n",
    "plt.savefig(\"Img/05_02_PBC_ArrDel15.png\")\n",
    "del pbc_corr"
   ]
  },
  {
   "cell_type": "code",
   "execution_count": 32,
   "id": "ed36f4c3",
   "metadata": {},
   "outputs": [
    {
     "data": {
      "image/png": "[encoded data removed]",
      "text/plain": [
       "<Figure size 504x360 with 2 Axes>"
      ]
     },
     "metadata": {
      "needs_background": "light"
     },
     "output_type": "display_data"
    }
   ],
   "source": [
    "plt.figure(figsize=(7, 5))\n",
    "heatmap = sns.heatmap(df[categorical].corr(method=\"spearman\")[[\"FlightDelayStatus\"]].sort_values(by=\"FlightDelayStatus\", ascending=False), vmin=-1, vmax=1, annot=True, cmap=\"BrBG\")\n",
    "heatmap.set_title(\"Spearman Correlations with FlightDelayStatus\", fontdict={\"fontsize\":18}, pad=16)\n",
    "plt.savefig(\"Img/05_03_Spearman_ArrDel15.png\")\n",
    "del heatmap"
   ]
  },
  {
   "cell_type": "markdown",
   "id": "e58c487b",
   "metadata": {},
   "source": [
    "#### Feature selection"
   ]
  },
  {
   "cell_type": "code",
   "execution_count": 33,
   "id": "2ad90250",
   "metadata": {
    "scrolled": true
   },
   "outputs": [
    {
     "data": {
      "text/plain": [
       "array([0.        , 0.04707203, 0.07840076, 0.04073344, 0.06900353,\n",
       "       0.06932013, 0.06644611, 0.07807185, 0.06627971, 0.07096252,\n",
       "       0.00229659, 0.00217708, 0.00214073, 0.00959493, 0.00935747,\n",
       "       0.        , 0.06515355, 0.03222331, 0.00455966, 0.05370358,\n",
       "       0.05906635, 0.0422356 , 0.04971197, 0.01554424, 0.0651499 ,\n",
       "       0.00079493])"
      ]
     },
     "execution_count": 33,
     "metadata": {},
     "output_type": "execute_result"
    }
   ],
   "source": [
    "X = df.loc[:, df.columns != \"FlightDelayStatus\"]\n",
    "y = np.array(df.loc[:, df.columns == \"FlightDelayStatus\"][\"FlightDelayStatus\"])\n",
    "\n",
    "model = RandomForestClassifier(n_estimators=100,\n",
    "                       criterion=\"entropy\", random_state=42, n_jobs=-1)\n",
    "\n",
    "model.fit(X, y)\n",
    "importances = model.feature_importances_\n",
    "importances"
   ]
  },
  {
   "cell_type": "code",
   "execution_count": 34,
   "id": "3931736a",
   "metadata": {},
   "outputs": [
    {
     "data": {
      "image/png": "[encoded data removed]",
      "text/plain": [
       "<Figure size 640x480 with 1 Axes>"
      ]
     },
     "metadata": {
      "needs_background": "light"
     },
     "output_type": "display_data"
    }
   ],
   "source": [
    "importances = pd.DataFrame({\n",
    "    \"Feature\": list(X.columns),\n",
    "    \"Importance\": model.feature_importances_\n",
    "})\n",
    "importances = importances.sort_values(by=\"Importance\", ascending=False)\n",
    "importances = importances.set_index(\"Feature\")\n",
    "importances\n",
    "plt.figure(figsize=(8, 6), dpi=80)\n",
    "plt.barh(importances.index, importances.Importance)\n",
    "plt.title(\"Feature Importance Ranking obtained from Random Forest Classifier\", fontsize=12)\n",
    "plt.xlabel(\"Importances\")\n",
    "plt.ylabel(\"Features\")\n",
    "plt.savefig(\"Img/05_04_Feature_Importances_RFC_fin.png\")\n",
    "del importances\n",
    "del model\n",
    "del X\n",
    "del y"
   ]
  },
  {
   "cell_type": "code",
   "execution_count": 35,
   "id": "851a663e",
   "metadata": {},
   "outputs": [
    {
     "data": {
      "text/plain": [
       "Index(['Year', 'Month', 'DayofMonth', 'DayOfWeek', 'ScheduledDepTime',\n",
       "       'ScheduledArrTime', 'ScheduledTravelTime', 'Origin', 'Destination',\n",
       "       'Distance', 'GroundHeight', 'StationHeight', 'BarometerHeight',\n",
       "       'Latitude', 'Longitude', 'TimeZone', 'Time', 'SkyConditions',\n",
       "       'Visibility', 'DBT', 'RelativeHumidityPercent', 'WindSpeed',\n",
       "       'WindDirection', 'WindGustValue', 'StationPressure', 'HourlyPrecip',\n",
       "       'FlightDelayStatus'],\n",
       "      dtype='object')"
      ]
     },
     "execution_count": 35,
     "metadata": {},
     "output_type": "execute_result"
    }
   ],
   "source": [
    "df1.columns"
   ]
  },
  {
   "cell_type": "code",
   "execution_count": 36,
   "id": "de7e3c44",
   "metadata": {},
   "outputs": [
    {
     "data": {
      "text/plain": [
       "<AxesSubplot:>"
      ]
     },
     "execution_count": 36,
     "metadata": {},
     "output_type": "execute_result"
    },
    {
     "data": {
      "image/png": "[encoded data removed]",
      "text/plain": [
       "<Figure size 648x576 with 2 Axes>"
      ]
     },
     "metadata": {
      "needs_background": "light"
     },
     "output_type": "display_data"
    }
   ],
   "source": [
    "corrmat = df.corr()\n",
    "\n",
    "f, ax = plt.subplots(figsize =(9, 8))\n",
    "sns.heatmap(corrmat, ax = ax, cmap =\"YlGnBu\", linewidths = 0.1)\n"
   ]
  },
  {
   "cell_type": "code",
   "execution_count": 37,
   "id": "5e17c3df",
   "metadata": {},
   "outputs": [
    {
     "name": "stdout",
     "output_type": "stream",
     "text": [
      "Index(['Year', 'Month', 'DayofMonth', 'DayOfWeek', 'ScheduledDepTime',\n",
      "       'ScheduledArrTime', 'ScheduledTravelTime', 'Origin', 'Destination',\n",
      "       'Distance', 'GroundHeight', 'StationHeight', 'BarometerHeight',\n",
      "       'Latitude', 'Longitude', 'TimeZone', 'Time', 'SkyConditions',\n",
      "       'Visibility', 'DBT', 'RelativeHumidityPercent', 'WindSpeed',\n",
      "       'WindDirection', 'WindGustValue', 'StationPressure', 'HourlyPrecip'],\n",
      "      dtype='object')\n"
     ]
    }
   ],
   "source": [
    "# Encode the names of the 15 airports which are strings into a number range: 0 - 14\n",
    "labelEncoder = LabelEncoder()\n",
    "df[\"Origin\"] = labelEncoder.fit_transform(df[\"Origin\"])\n",
    "df[\"Destination\"] = labelEncoder.fit_transform(df[\"Destination\"])\n",
    "features = df.loc[:, df.columns != \"FlightDelayStatus\"]\n",
    "labels = np.asarray(df[\"FlightDelayStatus\"])\n",
    "print(features.columns)"
   ]
  },
  {
   "cell_type": "code",
   "execution_count": 38,
   "id": "cbbe8633",
   "metadata": {},
   "outputs": [
    {
     "name": "stdout",
     "output_type": "stream",
     "text": [
      "\n",
      "Dataset shape: (7861, 27)\n",
      "features_train shape: (6288, 26) | features_test shape: (1573, 26)\n",
      "labels_train shape: (6288,) | labels_test shape: (1573,)\n"
     ]
    }
   ],
   "source": [
    "# Number of samples/observations/rows is greater than 100,000\n",
    "print(f\"\\nDataset shape: {df.shape}\")\n",
    "features_train, features_test, labels_train, labels_test = train_test_split(features, labels, test_size=0.20, random_state=42)\n",
    "print(f\"features_train shape: {features_train.shape} | features_test shape: {features_test.shape}\")\n",
    "print(f\"labels_train shape: {labels_train.shape} | labels_test shape: {labels_test.shape}\")\n",
    "# print(f\"{features_train.shape[1]} Features: {features_train.columns.to_list()}\")\n",
    "# df1.to_csv(\"Data/flight_and_weather_encoded.csv\")"
   ]
  },
  {
   "cell_type": "markdown",
   "id": "8d040fef",
   "metadata": {},
   "source": [
    "## Handling imbalance"
   ]
  },
  {
   "cell_type": "markdown",
   "id": "4bf3b1ea",
   "metadata": {},
   "source": [
    "#### Target column is imbalanced, henced undersampled and fed to model"
   ]
  },
  {
   "cell_type": "code",
   "execution_count": 39,
   "id": "a79fe2dc",
   "metadata": {},
   "outputs": [
    {
     "data": {
      "image/png": "[encoded data removed]",
      "text/plain": [
       "<Figure size 432x288 with 1 Axes>"
      ]
     },
     "metadata": {
      "needs_background": "light"
     },
     "output_type": "display_data"
    },
    {
     "name": "stdout",
     "output_type": "stream",
     "text": [
      "2    6342\n",
      "1    1519\n",
      "Name: FlightDelayStatus, dtype: int64\n"
     ]
    }
   ],
   "source": [
    "# Plotting the percentage of observations that fall under each class\n",
    "ax = df[\"FlightDelayStatus\"].value_counts().sort_values().plot(kind=\"barh\", color=[\"r\", \"g\"])\n",
    "ax.set_axisbelow(True)\n",
    "ax.grid()\n",
    "totals= []\n",
    "for i in ax.patches:\n",
    "    totals.append(i.get_width())\n",
    "total = sum(totals)\n",
    "for i in ax.patches:\n",
    "     ax.text(i.get_width()+.3, i.get_y()+.20, \n",
    "     str(round((i.get_width()/total)*100, 2))+'%', \n",
    "     fontsize=10, color='black')\n",
    "plt.title(\"FlightDelayStatus\", fontsize=20)\n",
    "plt.xlabel(\"Count\", fontsize=14)\n",
    "plt.ylabel(\"Class\", fontsize=14)\n",
    "plt.show()\n",
    "print(df[\"FlightDelayStatus\"].value_counts())\n",
    "fig = ax.get_figure()\n",
    "fig.savefig(\"Img/06_01_Dataset_ArrDel15_Class_Imbalance.png\")"
   ]
  },
  {
   "cell_type": "markdown",
   "id": "ed2f09ff",
   "metadata": {},
   "source": [
    "### Random Undersampling"
   ]
  },
  {
   "cell_type": "code",
   "execution_count": 40,
   "id": "38655c57",
   "metadata": {},
   "outputs": [],
   "source": [
    "# Imbalanced dataset helpers\n",
    "from imblearn.under_sampling import RandomUnderSampler"
   ]
  },
  {
   "cell_type": "code",
   "execution_count": 41,
   "id": "0b9d42a0",
   "metadata": {},
   "outputs": [],
   "source": [
    "rus = RandomUnderSampler(random_state=42)\n",
    "features_train, labels_train = rus.fit_resample(features_train, labels_train)"
   ]
  },
  {
   "cell_type": "code",
   "execution_count": 42,
   "id": "45c3befa",
   "metadata": {},
   "outputs": [
    {
     "data": {
      "image/png": "[encoded data removed]",
      "text/plain": [
       "<Figure size 432x288 with 1 Axes>"
      ]
     },
     "metadata": {
      "needs_background": "light"
     },
     "output_type": "display_data"
    },
    {
     "name": "stdout",
     "output_type": "stream",
     "text": [
      "1    1194\n",
      "2    1194\n",
      "dtype: int64\n"
     ]
    }
   ],
   "source": [
    "# Plotting the percentage of observations that fall under each class\n",
    "ax = pd.DataFrame(labels_train).value_counts().sort_values().plot(kind=\"barh\", color=[\"r\", \"g\"])\n",
    "ax.set_axisbelow(True)\n",
    "ax.grid()\n",
    "totals= []\n",
    "for i in ax.patches:\n",
    "    totals.append(i.get_width())\n",
    "total = sum(totals)\n",
    "for i in ax.patches:\n",
    "     ax.text(i.get_width()+.3, i.get_y()+.20, \n",
    "     str(round((i.get_width()/total)*100, 2))+'%', \n",
    "     fontsize=10, color='black')\n",
    "plt.title(\"FlightDelayStatus\", fontsize=20)\n",
    "plt.xlabel(\"Count\", fontsize=14)\n",
    "plt.ylabel(\"Class\", fontsize=14)\n",
    "plt.show()\n",
    "print(pd.DataFrame(labels_train).value_counts())\n",
    "fig = ax.get_figure()\n",
    "fig.savefig(\"Img/07_03_RandomUnderSampling_Training_FlightDelayStatus_Class.png\")"
   ]
  },
  {
   "cell_type": "markdown",
   "id": "803cf75b",
   "metadata": {},
   "source": [
    "#### Model building"
   ]
  },
  {
   "cell_type": "code",
   "execution_count": 43,
   "id": "13cbb275",
   "metadata": {},
   "outputs": [
    {
     "name": "stdout",
     "output_type": "stream",
     "text": [
      "              precision    recall  f1-score   support\n",
      "\n",
      "           1       0.27      0.57      0.36       325\n",
      "           2       0.84      0.59      0.69      1248\n",
      "\n",
      "    accuracy                           0.59      1573\n",
      "   macro avg       0.55      0.58      0.53      1573\n",
      "weighted avg       0.72      0.59      0.62      1573\n",
      "\n",
      "<sklearn.metrics._plot.confusion_matrix.ConfusionMatrixDisplay object at 0x000001AA48475D30>\n"
     ]
    },
    {
     "name": "stderr",
     "output_type": "stream",
     "text": [
      "C:\\Users\\vidya\\anaconda3\\lib\\site-packages\\sklearn\\utils\\deprecation.py:87: FutureWarning: Function plot_confusion_matrix is deprecated; Function `plot_confusion_matrix` is deprecated in 1.0 and will be removed in 1.2. Use one of the class methods: ConfusionMatrixDisplay.from_predictions or ConfusionMatrixDisplay.from_estimator.\n",
      "  warnings.warn(msg, category=FutureWarning)\n"
     ]
    },
    {
     "data": {
      "image/png": "[encoded data removed]",
      "text/plain": [
       "<Figure size 432x288 with 2 Axes>"
      ]
     },
     "metadata": {
      "needs_background": "light"
     },
     "output_type": "display_data"
    }
   ],
   "source": [
    "model = LogisticRegression(n_jobs=-1)\n",
    "model.fit(features_train, labels_train)\n",
    "#joblib.dump(model, \"./RandomUnderSampling/LogisticRegression.joblib\")\n",
    "#model = joblib.load(\"./RandomUnderSampling/LogisticRegression.joblib\")\n",
    "model_pred = model.predict(features_test)\n",
    "# print(confusion_matrix(labels_test, model_pred))\n",
    "print(classification_report(labels_test, model_pred))\n",
    "conf_mat_plot = plot_confusion_matrix(model, features_test, labels_test)\n",
    "plt.title(\"Logistic Regression\")\n",
    "print(conf_mat_plot)\n",
    "plt.savefig(\"Img/07_04_RandomUnderSampling_LR_Confusion_Matrix\")\n",
    "del model\n",
    "del model_pred"
   ]
  },
  {
   "cell_type": "code",
   "execution_count": 44,
   "id": "bd80289a",
   "metadata": {},
   "outputs": [
    {
     "name": "stdout",
     "output_type": "stream",
     "text": [
      "[[197 128]\n",
      " [536 712]]\n",
      "              precision    recall  f1-score   support\n",
      "\n",
      "           1       0.27      0.61      0.37       325\n",
      "           2       0.85      0.57      0.68      1248\n",
      "\n",
      "    accuracy                           0.58      1573\n",
      "   macro avg       0.56      0.59      0.53      1573\n",
      "weighted avg       0.73      0.58      0.62      1573\n",
      "\n",
      "<sklearn.metrics._plot.confusion_matrix.ConfusionMatrixDisplay object at 0x000001AA4895DD30>\n"
     ]
    },
    {
     "name": "stderr",
     "output_type": "stream",
     "text": [
      "C:\\Users\\vidya\\anaconda3\\lib\\site-packages\\sklearn\\utils\\deprecation.py:87: FutureWarning: Function plot_confusion_matrix is deprecated; Function `plot_confusion_matrix` is deprecated in 1.0 and will be removed in 1.2. Use one of the class methods: ConfusionMatrixDisplay.from_predictions or ConfusionMatrixDisplay.from_estimator.\n",
      "  warnings.warn(msg, category=FutureWarning)\n"
     ]
    },
    {
     "data": {
      "image/png": "[encoded data removed]",
      "text/plain": [
       "<Figure size 432x288 with 2 Axes>"
      ]
     },
     "metadata": {
      "needs_background": "light"
     },
     "output_type": "display_data"
    }
   ],
   "source": [
    "model = DecisionTreeClassifier()\n",
    "model.fit(features_train, labels_train)\n",
    "# joblib.dump(model, \"./RandomUnderSampling/DecisionTreeClassifier.joblib\")\n",
    "#model = joblib.load(\"./RandomUnderSampling/DecisionTreeClassifier.joblib\")\n",
    "model_pred = model.predict(features_test)\n",
    "print(confusion_matrix(labels_test, model_pred))\n",
    "print(classification_report(labels_test, model_pred))\n",
    "conf_mat_plot = plot_confusion_matrix(model, features_test, labels_test)\n",
    "plt.title(\"Decision Tree Classifier\")\n",
    "print(conf_mat_plot)\n",
    "plt.savefig(\"Img/07_05_RandomUnderSampling_DTC_Confusion_Matrix\")\n",
    "del model\n",
    "del model_pred"
   ]
  },
  {
   "cell_type": "code",
   "execution_count": 45,
   "id": "c83aca60",
   "metadata": {},
   "outputs": [
    {
     "name": "stdout",
     "output_type": "stream",
     "text": [
      "[[211 114]\n",
      " [478 770]]\n",
      "              precision    recall  f1-score   support\n",
      "\n",
      "           1       0.31      0.65      0.42       325\n",
      "           2       0.87      0.62      0.72      1248\n",
      "\n",
      "    accuracy                           0.62      1573\n",
      "   macro avg       0.59      0.63      0.57      1573\n",
      "weighted avg       0.75      0.62      0.66      1573\n",
      "\n",
      "<sklearn.metrics._plot.confusion_matrix.ConfusionMatrixDisplay object at 0x000001AA4854D580>\n"
     ]
    },
    {
     "name": "stderr",
     "output_type": "stream",
     "text": [
      "C:\\Users\\vidya\\anaconda3\\lib\\site-packages\\sklearn\\utils\\deprecation.py:87: FutureWarning: Function plot_confusion_matrix is deprecated; Function `plot_confusion_matrix` is deprecated in 1.0 and will be removed in 1.2. Use one of the class methods: ConfusionMatrixDisplay.from_predictions or ConfusionMatrixDisplay.from_estimator.\n",
      "  warnings.warn(msg, category=FutureWarning)\n"
     ]
    },
    {
     "data": {
      "image/png": "[encoded data removed]",
      "text/plain": [
       "<Figure size 432x288 with 2 Axes>"
      ]
     },
     "metadata": {
      "needs_background": "light"
     },
     "output_type": "display_data"
    }
   ],
   "source": [
    "model = RandomForestClassifier(n_jobs=-1)\n",
    "model.fit(features_train, labels_train)\n",
    "# joblib.dump(model, \"./RandomUnderSampling/RandomForestClassifier.joblib\")\n",
    "#model = joblib.load(\"./RandomUnderSampling/RandomForestClassifier.joblib\")\n",
    "model_pred = model.predict(features_test)\n",
    "print(confusion_matrix(labels_test, model_pred))\n",
    "print(classification_report(labels_test, model_pred))\n",
    "conf_mat_plot = plot_confusion_matrix(model, features_test, labels_test)\n",
    "plt.title(\"Random Forest Classifier\")\n",
    "print(conf_mat_plot)\n",
    "plt.savefig(\"Img/07_07_RandomUnderSampling_RFC_Confusion_Matrix\")\n",
    "del model\n",
    "del model_pred"
   ]
  },
  {
   "cell_type": "markdown",
   "id": "9291a530",
   "metadata": {},
   "source": [
    "#### Random sampling did not increase the accuracy and f1 hence trying other methods to handle imbalance"
   ]
  },
  {
   "cell_type": "markdown",
   "id": "ea233283",
   "metadata": {},
   "source": [
    "# Random Over Sampling to Handle Imbalance"
   ]
  },
  {
   "cell_type": "code",
   "execution_count": 46,
   "id": "50d678c8",
   "metadata": {},
   "outputs": [
    {
     "data": {
      "image/png": "[encoded data removed]",
      "text/plain": [
       "<Figure size 432x288 with 1 Axes>"
      ]
     },
     "metadata": {
      "needs_background": "light"
     },
     "output_type": "display_data"
    },
    {
     "name": "stdout",
     "output_type": "stream",
     "text": [
      "1    1194\n",
      "2    1194\n",
      "dtype: int64\n"
     ]
    }
   ],
   "source": [
    "# Plotting the percentage of observations that fall under each class\n",
    "ax = pd.DataFrame(labels_train).value_counts().sort_values().plot(kind=\"barh\", color=[\"r\", \"g\"])\n",
    "ax.set_axisbelow(True)\n",
    "ax.grid()\n",
    "totals= []\n",
    "for i in ax.patches:\n",
    "    totals.append(i.get_width())\n",
    "total = sum(totals)\n",
    "for i in ax.patches:\n",
    "     ax.text(i.get_width()+.3, i.get_y()+.20, \n",
    "     str(round((i.get_width()/total)*100, 2))+'%', \n",
    "     fontsize=10, color='black')\n",
    "plt.title(\"FlightDelayStatus\", fontsize=20)\n",
    "plt.xlabel(\"Count\", fontsize=14)\n",
    "plt.ylabel(\"Class\", fontsize=14)\n",
    "plt.show()\n",
    "print(pd.DataFrame(labels_train).value_counts())\n",
    "fig = ax.get_figure()\n",
    "fig.savefig(\"Img/08_02_Training_ArrDel15_Class_Imbalance.png\")"
   ]
  },
  {
   "cell_type": "code",
   "execution_count": 47,
   "id": "e6022857",
   "metadata": {},
   "outputs": [],
   "source": [
    "# Imbalanced dataset helpers\n",
    "from imblearn.over_sampling import RandomOverSampler\n",
    "ros = RandomOverSampler(random_state=42)\n",
    "features_train, labels_train = ros.fit_resample(features_train, labels_train)"
   ]
  },
  {
   "cell_type": "code",
   "execution_count": 48,
   "id": "b4a644de",
   "metadata": {},
   "outputs": [
    {
     "data": {
      "image/png": "[encoded data removed]",
      "text/plain": [
       "<Figure size 432x288 with 1 Axes>"
      ]
     },
     "metadata": {
      "needs_background": "light"
     },
     "output_type": "display_data"
    },
    {
     "name": "stdout",
     "output_type": "stream",
     "text": [
      "1    1194\n",
      "2    1194\n",
      "dtype: int64\n"
     ]
    }
   ],
   "source": [
    "# Plotting the percentage of observations that fall under each class\n",
    "ax = pd.DataFrame(labels_train).value_counts().sort_values().plot(kind=\"barh\", color=[\"r\", \"g\"])\n",
    "ax.set_axisbelow(True)\n",
    "ax.grid()\n",
    "totals= []\n",
    "for i in ax.patches:\n",
    "    totals.append(i.get_width())\n",
    "total = sum(totals)\n",
    "for i in ax.patches:\n",
    "     ax.text(i.get_width()+.3, i.get_y()+.20, \n",
    "     str(round((i.get_width()/total)*100, 2))+'%', \n",
    "     fontsize=10, color='black')\n",
    "plt.title(\"FlightDelayStatus\", fontsize=20)\n",
    "plt.xlabel(\"Count\", fontsize=14)\n",
    "plt.ylabel(\"Class\", fontsize=14)\n",
    "plt.show()\n",
    "print(pd.DataFrame(labels_train).value_counts())\n",
    "fig = ax.get_figure()\n",
    "fig.savefig(\"Img/08_03_RandomOverSampling_Training_ArrDel15_Class.png\")"
   ]
  },
  {
   "cell_type": "code",
   "execution_count": null,
   "id": "d7b84acc",
   "metadata": {},
   "outputs": [],
   "source": []
  },
  {
   "cell_type": "markdown",
   "id": "6f3e1736",
   "metadata": {},
   "source": [
    "### Building model for prediction"
   ]
  },
  {
   "cell_type": "code",
   "execution_count": 49,
   "id": "eb262fff",
   "metadata": {},
   "outputs": [
    {
     "name": "stdout",
     "output_type": "stream",
     "text": [
      "[[186 139]\n",
      " [513 735]]\n",
      "              precision    recall  f1-score   support\n",
      "\n",
      "           1       0.27      0.57      0.36       325\n",
      "           2       0.84      0.59      0.69      1248\n",
      "\n",
      "    accuracy                           0.59      1573\n",
      "   macro avg       0.55      0.58      0.53      1573\n",
      "weighted avg       0.72      0.59      0.62      1573\n",
      "\n",
      "<sklearn.metrics._plot.confusion_matrix.ConfusionMatrixDisplay object at 0x000001AA48825B50>\n"
     ]
    },
    {
     "name": "stderr",
     "output_type": "stream",
     "text": [
      "C:\\Users\\vidya\\anaconda3\\lib\\site-packages\\sklearn\\utils\\deprecation.py:87: FutureWarning: Function plot_confusion_matrix is deprecated; Function `plot_confusion_matrix` is deprecated in 1.0 and will be removed in 1.2. Use one of the class methods: ConfusionMatrixDisplay.from_predictions or ConfusionMatrixDisplay.from_estimator.\n",
      "  warnings.warn(msg, category=FutureWarning)\n"
     ]
    },
    {
     "data": {
      "image/png": "[encoded data removed]",
      "text/plain": [
       "<Figure size 432x288 with 2 Axes>"
      ]
     },
     "metadata": {
      "needs_background": "light"
     },
     "output_type": "display_data"
    }
   ],
   "source": [
    "model = LogisticRegression(n_jobs=-1)\n",
    "model.fit(features_train, labels_train)\n",
    "# joblib.dump(model, \"./RandomOverSampling/LogisticRegression.joblib\")\n",
    "#model = joblib.load(\"./RandomOverSampling/LogisticRegression.joblib\")\n",
    "model_pred = model.predict(features_test)\n",
    "print(confusion_matrix(labels_test, model_pred))\n",
    "print(classification_report(labels_test, model_pred))\n",
    "conf_mat_plot = plot_confusion_matrix(model, features_test, labels_test)\n",
    "plt.title(\"Logistic Regression\")\n",
    "print(conf_mat_plot)\n",
    "plt.savefig(\"Img/08_04_RandomOverSampling_LR_Confusion_Matrix\")\n",
    "del model\n",
    "del model_pred"
   ]
  },
  {
   "cell_type": "code",
   "execution_count": 50,
   "id": "53aa57b0",
   "metadata": {},
   "outputs": [
    {
     "name": "stdout",
     "output_type": "stream",
     "text": [
      "[[203 122]\n",
      " [546 702]]\n",
      "              precision    recall  f1-score   support\n",
      "\n",
      "           1       0.27      0.62      0.38       325\n",
      "           2       0.85      0.56      0.68      1248\n",
      "\n",
      "    accuracy                           0.58      1573\n",
      "   macro avg       0.56      0.59      0.53      1573\n",
      "weighted avg       0.73      0.58      0.62      1573\n",
      "\n",
      "<sklearn.metrics._plot.confusion_matrix.ConfusionMatrixDisplay object at 0x000001AA48475CA0>\n"
     ]
    },
    {
     "name": "stderr",
     "output_type": "stream",
     "text": [
      "C:\\Users\\vidya\\anaconda3\\lib\\site-packages\\sklearn\\utils\\deprecation.py:87: FutureWarning: Function plot_confusion_matrix is deprecated; Function `plot_confusion_matrix` is deprecated in 1.0 and will be removed in 1.2. Use one of the class methods: ConfusionMatrixDisplay.from_predictions or ConfusionMatrixDisplay.from_estimator.\n",
      "  warnings.warn(msg, category=FutureWarning)\n"
     ]
    },
    {
     "data": {
      "image/png": "[encoded data removed]",
      "text/plain": [
       "<Figure size 432x288 with 2 Axes>"
      ]
     },
     "metadata": {
      "needs_background": "light"
     },
     "output_type": "display_data"
    }
   ],
   "source": [
    "model = DecisionTreeClassifier()\n",
    "model.fit(features_train, labels_train)\n",
    "# joblib.dump(model, \"./RandomOverSampling/DecisionTreeClassifier.joblib\")\n",
    "#model = joblib.load(\"./RandomOverSampling/DecisionTreeClassifier.joblib\")\n",
    "model_pred = model.predict(features_test)\n",
    "print(confusion_matrix(labels_test, model_pred))\n",
    "print(classification_report(labels_test, model_pred))\n",
    "conf_mat_plot = plot_confusion_matrix(model, features_test, labels_test)\n",
    "plt.title(\"Decision Tree Classifier\")\n",
    "print(conf_mat_plot)\n",
    "plt.savefig(\"Img/08_05_RandomOverSampling_DTC_Confusion_Matrix\")\n",
    "del model\n",
    "del model_pred"
   ]
  },
  {
   "cell_type": "code",
   "execution_count": 51,
   "id": "fb3f72b1",
   "metadata": {},
   "outputs": [
    {
     "name": "stdout",
     "output_type": "stream",
     "text": [
      "              precision    recall  f1-score   support\n",
      "\n",
      "           1       0.30      0.64      0.41       325\n",
      "           2       0.87      0.61      0.72      1248\n",
      "\n",
      "    accuracy                           0.62      1573\n",
      "   macro avg       0.58      0.62      0.56      1573\n",
      "weighted avg       0.75      0.62      0.65      1573\n",
      "\n",
      "<sklearn.metrics._plot.confusion_matrix.ConfusionMatrixDisplay object at 0x000001AA48F55970>\n"
     ]
    },
    {
     "name": "stderr",
     "output_type": "stream",
     "text": [
      "C:\\Users\\vidya\\anaconda3\\lib\\site-packages\\sklearn\\utils\\deprecation.py:87: FutureWarning: Function plot_confusion_matrix is deprecated; Function `plot_confusion_matrix` is deprecated in 1.0 and will be removed in 1.2. Use one of the class methods: ConfusionMatrixDisplay.from_predictions or ConfusionMatrixDisplay.from_estimator.\n",
      "  warnings.warn(msg, category=FutureWarning)\n"
     ]
    },
    {
     "data": {
      "text/plain": [
       "array([2, 1, 2, ..., 2, 2, 2], dtype=int64)"
      ]
     },
     "execution_count": 51,
     "metadata": {},
     "output_type": "execute_result"
    },
    {
     "data": {
      "image/png": "[encoded data removed]",
      "text/plain": [
       "<Figure size 432x288 with 2 Axes>"
      ]
     },
     "metadata": {
      "needs_background": "light"
     },
     "output_type": "display_data"
    }
   ],
   "source": [
    "model = RandomForestClassifier(n_jobs=-1)\n",
    "model.fit(features_train, labels_train)\n",
    "# joblib.dump(model, \"./RandomOverSampling/RandomForestClassifier.joblib\")\n",
    "#model = joblib.load(\"./RandomOverSampling/RandomForestClassifier.joblib\")\n",
    "model_pred = model.predict(features_test)\n",
    "# print(confusion_matrix(labels_test, model_pred))\n",
    "print(classification_report(labels_test, model_pred))\n",
    "conf_mat_plot = plot_confusion_matrix(model, features_test, labels_test)\n",
    "plt.title(\"Random Forest Classifier\")\n",
    "print(conf_mat_plot)\n",
    "plt.savefig(\"Img/08_07_RandomOverSampling_RFC_Confusion_Matrix\")\n",
    "model\n",
    "model_pred"
   ]
  },
  {
   "cell_type": "markdown",
   "id": "f9504177",
   "metadata": {},
   "source": [
    "### RandomForestClassifier has highest accuracy and hence is chosen for prediction on test data"
   ]
  },
  {
   "cell_type": "code",
   "execution_count": 52,
   "id": "7555b3a7",
   "metadata": {},
   "outputs": [
    {
     "data": {
      "text/html": [
       "<style>#sk-container-id-1 {color: black;background-color: white;}#sk-container-id-1 pre{padding: 0;}#sk-container-id-1 div.sk-toggleable {background-color: white;}#sk-container-id-1 label.sk-toggleable__label {cursor: pointer;display: block;width: 100%;margin-bottom: 0;padding: 0.3em;box-sizing: border-box;text-align: center;}#sk-container-id-1 label.sk-toggleable__label-arrow:before {content: \"▸\";float: left;margin-right: 0.25em;color: #696969;}#sk-container-id-1 label.sk-toggleable__label-arrow:hover:before {color: black;}#sk-container-id-1 div.sk-estimator:hover label.sk-toggleable__label-arrow:before {color: black;}#sk-container-id-1 div.sk-toggleable__content {max-height: 0;max-width: 0;overflow: hidden;text-align: left;background-color: #f0f8ff;}#sk-container-id-1 div.sk-toggleable__content pre {margin: 0.2em;color: black;border-radius: 0.25em;background-color: #f0f8ff;}#sk-container-id-1 input.sk-toggleable__control:checked~div.sk-toggleable__content {max-height: 200px;max-width: 100%;overflow: auto;}#sk-container-id-1 input.sk-toggleable__control:checked~label.sk-toggleable__label-arrow:before {content: \"▾\";}#sk-container-id-1 div.sk-estimator input.sk-toggleable__control:checked~label.sk-toggleable__label {background-color: #d4ebff;}#sk-container-id-1 div.sk-label input.sk-toggleable__control:checked~label.sk-toggleable__label {background-color: #d4ebff;}#sk-container-id-1 input.sk-hidden--visually {border: 0;clip: rect(1px 1px 1px 1px);clip: rect(1px, 1px, 1px, 1px);height: 1px;margin: -1px;overflow: hidden;padding: 0;position: absolute;width: 1px;}#sk-container-id-1 div.sk-estimator {font-family: monospace;background-color: #f0f8ff;border: 1px dotted black;border-radius: 0.25em;box-sizing: border-box;margin-bottom: 0.5em;}#sk-container-id-1 div.sk-estimator:hover {background-color: #d4ebff;}#sk-container-id-1 div.sk-parallel-item::after {content: \"\";width: 100%;border-bottom: 1px solid gray;flex-grow: 1;}#sk-container-id-1 div.sk-label:hover label.sk-toggleable__label {background-color: #d4ebff;}#sk-container-id-1 div.sk-serial::before {content: \"\";position: absolute;border-left: 1px solid gray;box-sizing: border-box;top: 0;bottom: 0;left: 50%;z-index: 0;}#sk-container-id-1 div.sk-serial {display: flex;flex-direction: column;align-items: center;background-color: white;padding-right: 0.2em;padding-left: 0.2em;position: relative;}#sk-container-id-1 div.sk-item {position: relative;z-index: 1;}#sk-container-id-1 div.sk-parallel {display: flex;align-items: stretch;justify-content: center;background-color: white;position: relative;}#sk-container-id-1 div.sk-item::before, #sk-container-id-1 div.sk-parallel-item::before {content: \"\";position: absolute;border-left: 1px solid gray;box-sizing: border-box;top: 0;bottom: 0;left: 50%;z-index: -1;}#sk-container-id-1 div.sk-parallel-item {display: flex;flex-direction: column;z-index: 1;position: relative;background-color: white;}#sk-container-id-1 div.sk-parallel-item:first-child::after {align-self: flex-end;width: 50%;}#sk-container-id-1 div.sk-parallel-item:last-child::after {align-self: flex-start;width: 50%;}#sk-container-id-1 div.sk-parallel-item:only-child::after {width: 0;}#sk-container-id-1 div.sk-dashed-wrapped {border: 1px dashed gray;margin: 0 0.4em 0.5em 0.4em;box-sizing: border-box;padding-bottom: 0.4em;background-color: white;}#sk-container-id-1 div.sk-label label {font-family: monospace;font-weight: bold;display: inline-block;line-height: 1.2em;}#sk-container-id-1 div.sk-label-container {text-align: center;}#sk-container-id-1 div.sk-container {/* jupyter's `normalize.less` sets `[hidden] { display: none; }` but bootstrap.min.css set `[hidden] { display: none !important; }` so we also need the `!important` here to be able to override the default hidden behavior on the sphinx rendered scikit-learn.org. See: https://github.com/scikit-learn/scikit-learn/issues/21755 */display: inline-block !important;position: relative;}#sk-container-id-1 div.sk-text-repr-fallback {display: none;}</style><div id=\"sk-container-id-1\" class=\"sk-top-container\"><div class=\"sk-text-repr-fallback\"><pre>RandomForestClassifier(n_jobs=-1)</pre><b>In a Jupyter environment, please rerun this cell to show the HTML representation or trust the notebook. <br />On GitHub, the HTML representation is unable to render, please try loading this page with nbviewer.org.</b></div><div class=\"sk-container\" hidden><div class=\"sk-item\"><div class=\"sk-estimator sk-toggleable\"><input class=\"sk-toggleable__control sk-hidden--visually\" id=\"sk-estimator-id-1\" type=\"checkbox\" checked><label for=\"sk-estimator-id-1\" class=\"sk-toggleable__label sk-toggleable__label-arrow\">RandomForestClassifier</label><div class=\"sk-toggleable__content\"><pre>RandomForestClassifier(n_jobs=-1)</pre></div></div></div></div></div>"
      ],
      "text/plain": [
       "RandomForestClassifier(n_jobs=-1)"
      ]
     },
     "execution_count": 52,
     "metadata": {},
     "output_type": "execute_result"
    }
   ],
   "source": [
    "model"
   ]
  },
  {
   "cell_type": "code",
   "execution_count": 53,
   "id": "72828996",
   "metadata": {},
   "outputs": [],
   "source": [
    "test_data=pd.read_csv('test_data_comp.csv')"
   ]
  },
  {
   "cell_type": "code",
   "execution_count": 54,
   "id": "fa4c9531",
   "metadata": {},
   "outputs": [
    {
     "data": {
      "text/plain": [
       "Index(['Unnamed: 0', 'FlightNumber', 'Year', 'Month', 'DayofMonth',\n",
       "       'DayOfWeek', 'ScheduledDepTime', 'ScheduledArrTime',\n",
       "       'ScheduledTravelTime', 'Origin', 'Destination', 'Distance',\n",
       "       'GroundHeight', 'StationHeight', 'BarometerHeight', 'Latitude',\n",
       "       'Longitude', 'TimeZone', 'Time', 'SkyConditions', 'Visibility', 'DBT',\n",
       "       'RelativeHumidityPercent', 'WindSpeed', 'WindDirection',\n",
       "       'WindGustValue', 'StationPressure', 'HourlyPrecip'],\n",
       "      dtype='object')"
      ]
     },
     "execution_count": 54,
     "metadata": {},
     "output_type": "execute_result"
    }
   ],
   "source": [
    "test_data.columns"
   ]
  },
  {
   "cell_type": "code",
   "execution_count": 55,
   "id": "55d17ef6",
   "metadata": {},
   "outputs": [],
   "source": [
    "testdata1=test_data.drop('FlightNumber',axis=1)"
   ]
  },
  {
   "cell_type": "code",
   "execution_count": 56,
   "id": "590f5113",
   "metadata": {},
   "outputs": [
    {
     "data": {
      "text/plain": [
       "Unnamed: 0                 0\n",
       "Year                       0\n",
       "Month                      0\n",
       "DayofMonth                 0\n",
       "DayOfWeek                  0\n",
       "ScheduledDepTime           0\n",
       "ScheduledArrTime           0\n",
       "ScheduledTravelTime        0\n",
       "Origin                     0\n",
       "Destination                0\n",
       "Distance                   0\n",
       "GroundHeight               0\n",
       "StationHeight              0\n",
       "BarometerHeight            0\n",
       "Latitude                   0\n",
       "Longitude                  0\n",
       "TimeZone                   0\n",
       "Time                       0\n",
       "SkyConditions              0\n",
       "Visibility                 0\n",
       "DBT                        0\n",
       "RelativeHumidityPercent    0\n",
       "WindSpeed                  0\n",
       "WindDirection              0\n",
       "WindGustValue              0\n",
       "StationPressure            0\n",
       "HourlyPrecip               0\n",
       "dtype: int64"
      ]
     },
     "execution_count": 56,
     "metadata": {},
     "output_type": "execute_result"
    }
   ],
   "source": [
    "testdata1.isnull().sum()"
   ]
  },
  {
   "cell_type": "code",
   "execution_count": 57,
   "id": "ee8e1a43",
   "metadata": {},
   "outputs": [],
   "source": [
    "testdata1=testdata1.drop('Unnamed: 0',axis=1)"
   ]
  },
  {
   "cell_type": "code",
   "execution_count": 58,
   "id": "0feb01bc",
   "metadata": {},
   "outputs": [
    {
     "name": "stdout",
     "output_type": "stream",
     "text": [
      "<class 'pandas.core.frame.DataFrame'>\n",
      "RangeIndex: 6566 entries, 0 to 6565\n",
      "Data columns (total 26 columns):\n",
      " #   Column                   Non-Null Count  Dtype  \n",
      "---  ------                   --------------  -----  \n",
      " 0   Year                     6566 non-null   int64  \n",
      " 1   Month                    6566 non-null   int64  \n",
      " 2   DayofMonth               6566 non-null   int64  \n",
      " 3   DayOfWeek                6566 non-null   int64  \n",
      " 4   ScheduledDepTime         6566 non-null   int64  \n",
      " 5   ScheduledArrTime         6566 non-null   int64  \n",
      " 6   ScheduledTravelTime      6566 non-null   int64  \n",
      " 7   Origin                   6566 non-null   int64  \n",
      " 8   Destination              6566 non-null   int64  \n",
      " 9   Distance                 6566 non-null   int64  \n",
      " 10  GroundHeight             6566 non-null   int64  \n",
      " 11  StationHeight            6566 non-null   int64  \n",
      " 12  BarometerHeight          6566 non-null   int64  \n",
      " 13  Latitude                 6566 non-null   float64\n",
      " 14  Longitude                6566 non-null   float64\n",
      " 15  TimeZone                 6566 non-null   int64  \n",
      " 16  Time                     6566 non-null   int64  \n",
      " 17  SkyConditions            6566 non-null   int64  \n",
      " 18  Visibility               6566 non-null   int64  \n",
      " 19  DBT                      6566 non-null   float64\n",
      " 20  RelativeHumidityPercent  6566 non-null   float64\n",
      " 21  WindSpeed                6566 non-null   float64\n",
      " 22  WindDirection            6566 non-null   int64  \n",
      " 23  WindGustValue            6566 non-null   float64\n",
      " 24  StationPressure          6566 non-null   float64\n",
      " 25  HourlyPrecip             6566 non-null   float64\n",
      "dtypes: float64(8), int64(18)\n",
      "memory usage: 1.3 MB\n"
     ]
    }
   ],
   "source": [
    "testdata1.info()"
   ]
  },
  {
   "cell_type": "code",
   "execution_count": 59,
   "id": "2bd6989a",
   "metadata": {},
   "outputs": [
    {
     "name": "stdout",
     "output_type": "stream",
     "text": [
      "<class 'pandas.core.frame.DataFrame'>\n",
      "RangeIndex: 2388 entries, 0 to 2387\n",
      "Data columns (total 26 columns):\n",
      " #   Column                   Non-Null Count  Dtype  \n",
      "---  ------                   --------------  -----  \n",
      " 0   Year                     2388 non-null   int64  \n",
      " 1   Month                    2388 non-null   int64  \n",
      " 2   DayofMonth               2388 non-null   int64  \n",
      " 3   DayOfWeek                2388 non-null   int64  \n",
      " 4   ScheduledDepTime         2388 non-null   int64  \n",
      " 5   ScheduledArrTime         2388 non-null   int64  \n",
      " 6   ScheduledTravelTime      2388 non-null   int64  \n",
      " 7   Origin                   2388 non-null   int64  \n",
      " 8   Destination              2388 non-null   int64  \n",
      " 9   Distance                 2388 non-null   int64  \n",
      " 10  GroundHeight             2388 non-null   int64  \n",
      " 11  StationHeight            2388 non-null   int64  \n",
      " 12  BarometerHeight          2388 non-null   int64  \n",
      " 13  Latitude                 2388 non-null   float64\n",
      " 14  Longitude                2388 non-null   float64\n",
      " 15  TimeZone                 2388 non-null   int64  \n",
      " 16  Time                     2388 non-null   int64  \n",
      " 17  SkyConditions            2388 non-null   int32  \n",
      " 18  Visibility               2388 non-null   int32  \n",
      " 19  DBT                      2388 non-null   float64\n",
      " 20  RelativeHumidityPercent  2388 non-null   float64\n",
      " 21  WindSpeed                2388 non-null   float64\n",
      " 22  WindDirection            2388 non-null   int64  \n",
      " 23  WindGustValue            2388 non-null   float64\n",
      " 24  StationPressure          2388 non-null   float64\n",
      " 25  HourlyPrecip             2388 non-null   float64\n",
      "dtypes: float64(8), int32(2), int64(16)\n",
      "memory usage: 466.5 KB\n"
     ]
    }
   ],
   "source": [
    "features_train.info()"
   ]
  },
  {
   "cell_type": "code",
   "execution_count": 60,
   "id": "f98a97b4",
   "metadata": {},
   "outputs": [
    {
     "data": {
      "text/html": [
       "<style>#sk-container-id-2 {color: black;background-color: white;}#sk-container-id-2 pre{padding: 0;}#sk-container-id-2 div.sk-toggleable {background-color: white;}#sk-container-id-2 label.sk-toggleable__label {cursor: pointer;display: block;width: 100%;margin-bottom: 0;padding: 0.3em;box-sizing: border-box;text-align: center;}#sk-container-id-2 label.sk-toggleable__label-arrow:before {content: \"▸\";float: left;margin-right: 0.25em;color: #696969;}#sk-container-id-2 label.sk-toggleable__label-arrow:hover:before {color: black;}#sk-container-id-2 div.sk-estimator:hover label.sk-toggleable__label-arrow:before {color: black;}#sk-container-id-2 div.sk-toggleable__content {max-height: 0;max-width: 0;overflow: hidden;text-align: left;background-color: #f0f8ff;}#sk-container-id-2 div.sk-toggleable__content pre {margin: 0.2em;color: black;border-radius: 0.25em;background-color: #f0f8ff;}#sk-container-id-2 input.sk-toggleable__control:checked~div.sk-toggleable__content {max-height: 200px;max-width: 100%;overflow: auto;}#sk-container-id-2 input.sk-toggleable__control:checked~label.sk-toggleable__label-arrow:before {content: \"▾\";}#sk-container-id-2 div.sk-estimator input.sk-toggleable__control:checked~label.sk-toggleable__label {background-color: #d4ebff;}#sk-container-id-2 div.sk-label input.sk-toggleable__control:checked~label.sk-toggleable__label {background-color: #d4ebff;}#sk-container-id-2 input.sk-hidden--visually {border: 0;clip: rect(1px 1px 1px 1px);clip: rect(1px, 1px, 1px, 1px);height: 1px;margin: -1px;overflow: hidden;padding: 0;position: absolute;width: 1px;}#sk-container-id-2 div.sk-estimator {font-family: monospace;background-color: #f0f8ff;border: 1px dotted black;border-radius: 0.25em;box-sizing: border-box;margin-bottom: 0.5em;}#sk-container-id-2 div.sk-estimator:hover {background-color: #d4ebff;}#sk-container-id-2 div.sk-parallel-item::after {content: \"\";width: 100%;border-bottom: 1px solid gray;flex-grow: 1;}#sk-container-id-2 div.sk-label:hover label.sk-toggleable__label {background-color: #d4ebff;}#sk-container-id-2 div.sk-serial::before {content: \"\";position: absolute;border-left: 1px solid gray;box-sizing: border-box;top: 0;bottom: 0;left: 50%;z-index: 0;}#sk-container-id-2 div.sk-serial {display: flex;flex-direction: column;align-items: center;background-color: white;padding-right: 0.2em;padding-left: 0.2em;position: relative;}#sk-container-id-2 div.sk-item {position: relative;z-index: 1;}#sk-container-id-2 div.sk-parallel {display: flex;align-items: stretch;justify-content: center;background-color: white;position: relative;}#sk-container-id-2 div.sk-item::before, #sk-container-id-2 div.sk-parallel-item::before {content: \"\";position: absolute;border-left: 1px solid gray;box-sizing: border-box;top: 0;bottom: 0;left: 50%;z-index: -1;}#sk-container-id-2 div.sk-parallel-item {display: flex;flex-direction: column;z-index: 1;position: relative;background-color: white;}#sk-container-id-2 div.sk-parallel-item:first-child::after {align-self: flex-end;width: 50%;}#sk-container-id-2 div.sk-parallel-item:last-child::after {align-self: flex-start;width: 50%;}#sk-container-id-2 div.sk-parallel-item:only-child::after {width: 0;}#sk-container-id-2 div.sk-dashed-wrapped {border: 1px dashed gray;margin: 0 0.4em 0.5em 0.4em;box-sizing: border-box;padding-bottom: 0.4em;background-color: white;}#sk-container-id-2 div.sk-label label {font-family: monospace;font-weight: bold;display: inline-block;line-height: 1.2em;}#sk-container-id-2 div.sk-label-container {text-align: center;}#sk-container-id-2 div.sk-container {/* jupyter's `normalize.less` sets `[hidden] { display: none; }` but bootstrap.min.css set `[hidden] { display: none !important; }` so we also need the `!important` here to be able to override the default hidden behavior on the sphinx rendered scikit-learn.org. See: https://github.com/scikit-learn/scikit-learn/issues/21755 */display: inline-block !important;position: relative;}#sk-container-id-2 div.sk-text-repr-fallback {display: none;}</style><div id=\"sk-container-id-2\" class=\"sk-top-container\"><div class=\"sk-text-repr-fallback\"><pre>RandomForestClassifier(n_jobs=-1)</pre><b>In a Jupyter environment, please rerun this cell to show the HTML representation or trust the notebook. <br />On GitHub, the HTML representation is unable to render, please try loading this page with nbviewer.org.</b></div><div class=\"sk-container\" hidden><div class=\"sk-item\"><div class=\"sk-estimator sk-toggleable\"><input class=\"sk-toggleable__control sk-hidden--visually\" id=\"sk-estimator-id-2\" type=\"checkbox\" checked><label for=\"sk-estimator-id-2\" class=\"sk-toggleable__label sk-toggleable__label-arrow\">RandomForestClassifier</label><div class=\"sk-toggleable__content\"><pre>RandomForestClassifier(n_jobs=-1)</pre></div></div></div></div></div>"
      ],
      "text/plain": [
       "RandomForestClassifier(n_jobs=-1)"
      ]
     },
     "execution_count": 60,
     "metadata": {},
     "output_type": "execute_result"
    }
   ],
   "source": [
    "model"
   ]
  },
  {
   "cell_type": "code",
   "execution_count": 61,
   "id": "68a945c6",
   "metadata": {
    "scrolled": true
   },
   "outputs": [
    {
     "data": {
      "text/html": [
       "<div>\n",
       "<style scoped>\n",
       "    .dataframe tbody tr th:only-of-type {\n",
       "        vertical-align: middle;\n",
       "    }\n",
       "\n",
       "    .dataframe tbody tr th {\n",
       "        vertical-align: top;\n",
       "    }\n",
       "\n",
       "    .dataframe thead th {\n",
       "        text-align: right;\n",
       "    }\n",
       "</style>\n",
       "<table border=\"1\" class=\"dataframe\">\n",
       "  <thead>\n",
       "    <tr style=\"text-align: right;\">\n",
       "      <th></th>\n",
       "      <th>Year</th>\n",
       "      <th>Month</th>\n",
       "      <th>DayofMonth</th>\n",
       "      <th>DayOfWeek</th>\n",
       "      <th>ScheduledDepTime</th>\n",
       "      <th>ScheduledArrTime</th>\n",
       "      <th>ScheduledTravelTime</th>\n",
       "      <th>Origin</th>\n",
       "      <th>Destination</th>\n",
       "      <th>Distance</th>\n",
       "      <th>...</th>\n",
       "      <th>Time</th>\n",
       "      <th>SkyConditions</th>\n",
       "      <th>Visibility</th>\n",
       "      <th>DBT</th>\n",
       "      <th>RelativeHumidityPercent</th>\n",
       "      <th>WindSpeed</th>\n",
       "      <th>WindDirection</th>\n",
       "      <th>WindGustValue</th>\n",
       "      <th>StationPressure</th>\n",
       "      <th>HourlyPrecip</th>\n",
       "    </tr>\n",
       "  </thead>\n",
       "  <tbody>\n",
       "    <tr>\n",
       "      <th>0</th>\n",
       "      <td>2005</td>\n",
       "      <td>9</td>\n",
       "      <td>12</td>\n",
       "      <td>1</td>\n",
       "      <td>1516</td>\n",
       "      <td>1756</td>\n",
       "      <td>100</td>\n",
       "      <td>57</td>\n",
       "      <td>205</td>\n",
       "      <td>616</td>\n",
       "      <td>...</td>\n",
       "      <td>1049</td>\n",
       "      <td>782</td>\n",
       "      <td>6</td>\n",
       "      <td>30.0</td>\n",
       "      <td>64.0</td>\n",
       "      <td>8.0</td>\n",
       "      <td>270</td>\n",
       "      <td>0.0</td>\n",
       "      <td>30.06</td>\n",
       "      <td>0.0</td>\n",
       "    </tr>\n",
       "    <tr>\n",
       "      <th>1</th>\n",
       "      <td>2005</td>\n",
       "      <td>11</td>\n",
       "      <td>14</td>\n",
       "      <td>1</td>\n",
       "      <td>1300</td>\n",
       "      <td>1415</td>\n",
       "      <td>75</td>\n",
       "      <td>174</td>\n",
       "      <td>63</td>\n",
       "      <td>278</td>\n",
       "      <td>...</td>\n",
       "      <td>1149</td>\n",
       "      <td>151</td>\n",
       "      <td>6</td>\n",
       "      <td>34.0</td>\n",
       "      <td>59.0</td>\n",
       "      <td>0.0</td>\n",
       "      <td>0</td>\n",
       "      <td>0.0</td>\n",
       "      <td>30.05</td>\n",
       "      <td>0.0</td>\n",
       "    </tr>\n",
       "    <tr>\n",
       "      <th>2</th>\n",
       "      <td>2005</td>\n",
       "      <td>9</td>\n",
       "      <td>28</td>\n",
       "      <td>3</td>\n",
       "      <td>1040</td>\n",
       "      <td>1144</td>\n",
       "      <td>64</td>\n",
       "      <td>97</td>\n",
       "      <td>83</td>\n",
       "      <td>239</td>\n",
       "      <td>...</td>\n",
       "      <td>1249</td>\n",
       "      <td>546</td>\n",
       "      <td>6</td>\n",
       "      <td>34.0</td>\n",
       "      <td>54.0</td>\n",
       "      <td>8.0</td>\n",
       "      <td>260</td>\n",
       "      <td>0.0</td>\n",
       "      <td>30.02</td>\n",
       "      <td>0.0</td>\n",
       "    </tr>\n",
       "    <tr>\n",
       "      <th>3</th>\n",
       "      <td>2005</td>\n",
       "      <td>11</td>\n",
       "      <td>18</td>\n",
       "      <td>5</td>\n",
       "      <td>1120</td>\n",
       "      <td>1302</td>\n",
       "      <td>102</td>\n",
       "      <td>181</td>\n",
       "      <td>48</td>\n",
       "      <td>515</td>\n",
       "      <td>...</td>\n",
       "      <td>1349</td>\n",
       "      <td>1027</td>\n",
       "      <td>15</td>\n",
       "      <td>32.0</td>\n",
       "      <td>69.0</td>\n",
       "      <td>10.0</td>\n",
       "      <td>260</td>\n",
       "      <td>0.0</td>\n",
       "      <td>30.02</td>\n",
       "      <td>0.0</td>\n",
       "    </tr>\n",
       "    <tr>\n",
       "      <th>4</th>\n",
       "      <td>2005</td>\n",
       "      <td>7</td>\n",
       "      <td>5</td>\n",
       "      <td>2</td>\n",
       "      <td>630</td>\n",
       "      <td>733</td>\n",
       "      <td>63</td>\n",
       "      <td>184</td>\n",
       "      <td>109</td>\n",
       "      <td>155</td>\n",
       "      <td>...</td>\n",
       "      <td>1449</td>\n",
       "      <td>408</td>\n",
       "      <td>6</td>\n",
       "      <td>28.0</td>\n",
       "      <td>56.0</td>\n",
       "      <td>6.0</td>\n",
       "      <td>0</td>\n",
       "      <td>0.0</td>\n",
       "      <td>30.01</td>\n",
       "      <td>0.0</td>\n",
       "    </tr>\n",
       "  </tbody>\n",
       "</table>\n",
       "<p>5 rows × 26 columns</p>\n",
       "</div>"
      ],
      "text/plain": [
       "   Year  Month  DayofMonth  DayOfWeek  ScheduledDepTime  ScheduledArrTime  \\\n",
       "0  2005      9          12          1              1516              1756   \n",
       "1  2005     11          14          1              1300              1415   \n",
       "2  2005      9          28          3              1040              1144   \n",
       "3  2005     11          18          5              1120              1302   \n",
       "4  2005      7           5          2               630               733   \n",
       "\n",
       "   ScheduledTravelTime  Origin  Destination  Distance  ...  Time  \\\n",
       "0                  100      57          205       616  ...  1049   \n",
       "1                   75     174           63       278  ...  1149   \n",
       "2                   64      97           83       239  ...  1249   \n",
       "3                  102     181           48       515  ...  1349   \n",
       "4                   63     184          109       155  ...  1449   \n",
       "\n",
       "   SkyConditions  Visibility   DBT  RelativeHumidityPercent  WindSpeed  \\\n",
       "0            782           6  30.0                     64.0        8.0   \n",
       "1            151           6  34.0                     59.0        0.0   \n",
       "2            546           6  34.0                     54.0        8.0   \n",
       "3           1027          15  32.0                     69.0       10.0   \n",
       "4            408           6  28.0                     56.0        6.0   \n",
       "\n",
       "   WindDirection  WindGustValue  StationPressure  HourlyPrecip  \n",
       "0            270            0.0            30.06           0.0  \n",
       "1              0            0.0            30.05           0.0  \n",
       "2            260            0.0            30.02           0.0  \n",
       "3            260            0.0            30.02           0.0  \n",
       "4              0            0.0            30.01           0.0  \n",
       "\n",
       "[5 rows x 26 columns]"
      ]
     },
     "execution_count": 61,
     "metadata": {},
     "output_type": "execute_result"
    }
   ],
   "source": [
    "testdata1.head()"
   ]
  },
  {
   "cell_type": "code",
   "execution_count": 62,
   "id": "2820112e",
   "metadata": {},
   "outputs": [],
   "source": [
    "FlightDelayStatus=model.predict(testdata1)"
   ]
  },
  {
   "cell_type": "code",
   "execution_count": 63,
   "id": "85271ad4",
   "metadata": {},
   "outputs": [
    {
     "data": {
      "text/plain": [
       "array([1, 1, 2, ..., 2, 2, 2], dtype=int64)"
      ]
     },
     "execution_count": 63,
     "metadata": {},
     "output_type": "execute_result"
    }
   ],
   "source": [
    "FlightDelayStatus"
   ]
  },
  {
   "cell_type": "code",
   "execution_count": 64,
   "id": "5ec10282",
   "metadata": {},
   "outputs": [
    {
     "name": "stdout",
     "output_type": "stream",
     "text": [
      "[1 2]\n"
     ]
    }
   ],
   "source": [
    "def unique(FlightDelayStatus):\n",
    "    x = np.array(FlightDelayStatus)\n",
    "    print(np.unique(x))\n",
    "unique(FlightDelayStatus)"
   ]
  },
  {
   "cell_type": "code",
   "execution_count": 65,
   "id": "1bfa5801",
   "metadata": {},
   "outputs": [],
   "source": [
    "final1= pd.DataFrame({'FlightNumber': test_data['FlightNumber'], 'FlightDelayStatus': FlightDelayStatus})"
   ]
  },
  {
   "cell_type": "code",
   "execution_count": 66,
   "id": "62e7cf82",
   "metadata": {},
   "outputs": [],
   "source": [
    "final1.to_csv('Vidyashree_v(2).csv',index=False)"
   ]
  }
 ],
 "metadata": {
  "kernelspec": {
   "display_name": "Python 3 (ipykernel)",
   "language": "python",
   "name": "python3"
  },
  "language_info": {
   "codemirror_mode": {
    "name": "ipython",
    "version": 3
   },
   "file_extension": ".py",
   "mimetype": "text/x-python",
   "name": "python",
   "nbconvert_exporter": "python",
   "pygments_lexer": "ipython3",
   "version": "3.9.7"
  }
 },
 "nbformat": 4,
 "nbformat_minor": 5
}
