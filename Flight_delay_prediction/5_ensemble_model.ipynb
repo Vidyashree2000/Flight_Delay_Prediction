{
 "cells": [
  {
   "cell_type": "markdown",
   "id": "909b9958",
   "metadata": {},
   "source": [
    "## Flight delay prediction\n",
    "\n",
    "### Problem statement\n",
    "\n",
    "### Prediction model"
   ]
  },
  {
   "cell_type": "markdown",
   "id": "b11e51c7",
   "metadata": {},
   "source": [
    "#### Importing required libraries"
   ]
  },
  {
   "cell_type": "code",
   "execution_count": 125,
   "id": "3b9b3014",
   "metadata": {},
   "outputs": [],
   "source": [
    "# Pre-requisites\n",
    "import pandas as pd\n",
    "import numpy as np\n",
    "import matplotlib\n",
    "import matplotlib.pyplot as plt\n",
    "import seaborn as sns\n",
    "\n",
    "\n",
    "# Preprocessing\n",
    "from sklearn.preprocessing import LabelEncoder\n",
    "from sklearn.model_selection import train_test_split\n",
    "\n",
    "# Classifiers from scikit-learn\n",
    "from sklearn.tree import DecisionTreeClassifier\n",
    "from sklearn.ensemble import GradientBoostingClassifier\n",
    "from sklearn.ensemble import RandomForestClassifier\n",
    "from sklearn.ensemble import ExtraTreesClassifier\n",
    "\n",
    "# Performance metrics\n",
    "from sklearn.metrics import accuracy_score\n",
    "from sklearn.metrics import f1_score\n",
    "from sklearn.metrics import precision_score\n",
    "from sklearn.metrics import recall_score\n",
    "from sklearn.metrics import classification_report\n",
    "from sklearn.metrics import confusion_matrix\n",
    "from sklearn.metrics import plot_confusion_matrix\n"
   ]
  },
  {
   "cell_type": "code",
   "execution_count": 126,
   "id": "20a008fa",
   "metadata": {},
   "outputs": [],
   "source": [
    "df=pd.read_csv('final1_train.csv')"
   ]
  },
  {
   "cell_type": "code",
   "execution_count": 127,
   "id": "247e8c2b",
   "metadata": {},
   "outputs": [
    {
     "data": {
      "text/plain": [
       "Unnamed: 0                 0\n",
       "FlightNumber               0\n",
       "Year                       0\n",
       "Month                      0\n",
       "DayofMonth                 0\n",
       "DayOfWeek                  0\n",
       "ScheduledDepTime           0\n",
       "ScheduledArrTime           0\n",
       "ScheduledTravelTime        0\n",
       "Origin                     0\n",
       "Destination                0\n",
       "Distance                   0\n",
       "ActualArrivalTimeStamp     0\n",
       "YearMonthDay_x             0\n",
       "WeatherStationID           0\n",
       "AirportID                  0\n",
       "GroundHeight               0\n",
       "StationHeight              0\n",
       "BarometerHeight            0\n",
       "Latitude                   0\n",
       "Longitude                  0\n",
       "TimeZone                   0\n",
       "YearMonthDay_y             0\n",
       "Time                       0\n",
       "SkyConditions              0\n",
       "Visibility                 0\n",
       "DBT                        0\n",
       "RelativeHumidityPercent    0\n",
       "WindSpeed                  0\n",
       "WindDirection              0\n",
       "WindGustValue              0\n",
       "StationPressure            0\n",
       "HourlyPrecip               0\n",
       "scheduled_arr_d_t          0\n",
       "Arrdelay                   0\n",
       "dtype: int64"
      ]
     },
     "execution_count": 127,
     "metadata": {},
     "output_type": "execute_result"
    }
   ],
   "source": [
    "df.isnull().sum()"
   ]
  },
  {
   "cell_type": "code",
   "execution_count": 128,
   "id": "04fbece6",
   "metadata": {},
   "outputs": [
    {
     "data": {
      "text/html": [
       "<div>\n",
       "<style scoped>\n",
       "    .dataframe tbody tr th:only-of-type {\n",
       "        vertical-align: middle;\n",
       "    }\n",
       "\n",
       "    .dataframe tbody tr th {\n",
       "        vertical-align: top;\n",
       "    }\n",
       "\n",
       "    .dataframe thead th {\n",
       "        text-align: right;\n",
       "    }\n",
       "</style>\n",
       "<table border=\"1\" class=\"dataframe\">\n",
       "  <thead>\n",
       "    <tr style=\"text-align: right;\">\n",
       "      <th></th>\n",
       "      <th>Unnamed: 0</th>\n",
       "      <th>FlightNumber</th>\n",
       "      <th>Year</th>\n",
       "      <th>Month</th>\n",
       "      <th>DayofMonth</th>\n",
       "      <th>DayOfWeek</th>\n",
       "      <th>ScheduledDepTime</th>\n",
       "      <th>ScheduledArrTime</th>\n",
       "      <th>ScheduledTravelTime</th>\n",
       "      <th>Origin</th>\n",
       "      <th>...</th>\n",
       "      <th>Visibility</th>\n",
       "      <th>DBT</th>\n",
       "      <th>RelativeHumidityPercent</th>\n",
       "      <th>WindSpeed</th>\n",
       "      <th>WindDirection</th>\n",
       "      <th>WindGustValue</th>\n",
       "      <th>StationPressure</th>\n",
       "      <th>HourlyPrecip</th>\n",
       "      <th>scheduled_arr_d_t</th>\n",
       "      <th>Arrdelay</th>\n",
       "    </tr>\n",
       "  </thead>\n",
       "  <tbody>\n",
       "    <tr>\n",
       "      <th>0</th>\n",
       "      <td>0</td>\n",
       "      <td>BOS_CLE_29089</td>\n",
       "      <td>2004</td>\n",
       "      <td>9</td>\n",
       "      <td>20</td>\n",
       "      <td>1</td>\n",
       "      <td>1000</td>\n",
       "      <td>1154</td>\n",
       "      <td>114</td>\n",
       "      <td>BOS</td>\n",
       "      <td>...</td>\n",
       "      <td>10SM</td>\n",
       "      <td>32.0</td>\n",
       "      <td>40.0</td>\n",
       "      <td>15.0</td>\n",
       "      <td>160</td>\n",
       "      <td>0.0</td>\n",
       "      <td>30.05</td>\n",
       "      <td>0.0</td>\n",
       "      <td>2004-09-20 11:54:00</td>\n",
       "      <td>0.0</td>\n",
       "    </tr>\n",
       "    <tr>\n",
       "      <th>1</th>\n",
       "      <td>1</td>\n",
       "      <td>CLE_ATL_44346</td>\n",
       "      <td>2004</td>\n",
       "      <td>11</td>\n",
       "      <td>19</td>\n",
       "      <td>5</td>\n",
       "      <td>1440</td>\n",
       "      <td>1634</td>\n",
       "      <td>114</td>\n",
       "      <td>CLE</td>\n",
       "      <td>...</td>\n",
       "      <td>10SM</td>\n",
       "      <td>21.0</td>\n",
       "      <td>74.0</td>\n",
       "      <td>5.0</td>\n",
       "      <td>0</td>\n",
       "      <td>0.0</td>\n",
       "      <td>30.06</td>\n",
       "      <td>0.0</td>\n",
       "      <td>2004-11-19 16:34:00</td>\n",
       "      <td>141.0</td>\n",
       "    </tr>\n",
       "    <tr>\n",
       "      <th>2</th>\n",
       "      <td>2</td>\n",
       "      <td>SNA_LAS_44378</td>\n",
       "      <td>2004</td>\n",
       "      <td>5</td>\n",
       "      <td>4</td>\n",
       "      <td>2</td>\n",
       "      <td>1800</td>\n",
       "      <td>1902</td>\n",
       "      <td>62</td>\n",
       "      <td>SNA</td>\n",
       "      <td>...</td>\n",
       "      <td>9SM</td>\n",
       "      <td>25.0</td>\n",
       "      <td>75.0</td>\n",
       "      <td>4.0</td>\n",
       "      <td>0</td>\n",
       "      <td>0.0</td>\n",
       "      <td>30.06</td>\n",
       "      <td>0.0</td>\n",
       "      <td>2004-05-04 19:02:00</td>\n",
       "      <td>0.0</td>\n",
       "    </tr>\n",
       "    <tr>\n",
       "      <th>3</th>\n",
       "      <td>3</td>\n",
       "      <td>CLT_TPA_51502</td>\n",
       "      <td>2004</td>\n",
       "      <td>7</td>\n",
       "      <td>6</td>\n",
       "      <td>2</td>\n",
       "      <td>1400</td>\n",
       "      <td>1533</td>\n",
       "      <td>93</td>\n",
       "      <td>CLT</td>\n",
       "      <td>...</td>\n",
       "      <td>4SM</td>\n",
       "      <td>25.0</td>\n",
       "      <td>92.0</td>\n",
       "      <td>0.0</td>\n",
       "      <td>0</td>\n",
       "      <td>0.0</td>\n",
       "      <td>29.98</td>\n",
       "      <td>0.0</td>\n",
       "      <td>2004-07-06 15:33:00</td>\n",
       "      <td>0.0</td>\n",
       "    </tr>\n",
       "    <tr>\n",
       "      <th>4</th>\n",
       "      <td>4</td>\n",
       "      <td>MSP_ORD_44884</td>\n",
       "      <td>2004</td>\n",
       "      <td>9</td>\n",
       "      <td>23</td>\n",
       "      <td>4</td>\n",
       "      <td>830</td>\n",
       "      <td>946</td>\n",
       "      <td>76</td>\n",
       "      <td>MSP</td>\n",
       "      <td>...</td>\n",
       "      <td>1.75SM</td>\n",
       "      <td>27.0</td>\n",
       "      <td>85.0</td>\n",
       "      <td>0.0</td>\n",
       "      <td>0</td>\n",
       "      <td>0.0</td>\n",
       "      <td>29.99</td>\n",
       "      <td>0.0</td>\n",
       "      <td>2004-09-23 09:46:00</td>\n",
       "      <td>0.0</td>\n",
       "    </tr>\n",
       "  </tbody>\n",
       "</table>\n",
       "<p>5 rows × 35 columns</p>\n",
       "</div>"
      ],
      "text/plain": [
       "   Unnamed: 0   FlightNumber  Year  Month  DayofMonth  DayOfWeek  \\\n",
       "0           0  BOS_CLE_29089  2004      9          20          1   \n",
       "1           1  CLE_ATL_44346  2004     11          19          5   \n",
       "2           2  SNA_LAS_44378  2004      5           4          2   \n",
       "3           3  CLT_TPA_51502  2004      7           6          2   \n",
       "4           4  MSP_ORD_44884  2004      9          23          4   \n",
       "\n",
       "   ScheduledDepTime  ScheduledArrTime  ScheduledTravelTime Origin  ...  \\\n",
       "0              1000              1154                  114    BOS  ...   \n",
       "1              1440              1634                  114    CLE  ...   \n",
       "2              1800              1902                   62    SNA  ...   \n",
       "3              1400              1533                   93    CLT  ...   \n",
       "4               830               946                   76    MSP  ...   \n",
       "\n",
       "  Visibility   DBT RelativeHumidityPercent WindSpeed  WindDirection  \\\n",
       "0       10SM  32.0                    40.0      15.0            160   \n",
       "1       10SM  21.0                    74.0       5.0              0   \n",
       "2        9SM  25.0                    75.0       4.0              0   \n",
       "3        4SM  25.0                    92.0       0.0              0   \n",
       "4     1.75SM  27.0                    85.0       0.0              0   \n",
       "\n",
       "  WindGustValue  StationPressure  HourlyPrecip    scheduled_arr_d_t  Arrdelay  \n",
       "0           0.0            30.05           0.0  2004-09-20 11:54:00       0.0  \n",
       "1           0.0            30.06           0.0  2004-11-19 16:34:00     141.0  \n",
       "2           0.0            30.06           0.0  2004-05-04 19:02:00       0.0  \n",
       "3           0.0            29.98           0.0  2004-07-06 15:33:00       0.0  \n",
       "4           0.0            29.99           0.0  2004-09-23 09:46:00       0.0  \n",
       "\n",
       "[5 rows x 35 columns]"
      ]
     },
     "execution_count": 128,
     "metadata": {},
     "output_type": "execute_result"
    }
   ],
   "source": [
    "df.head()"
   ]
  },
  {
   "cell_type": "code",
   "execution_count": 129,
   "id": "3ddaae68",
   "metadata": {},
   "outputs": [],
   "source": [
    "df=df.drop(['Unnamed: 0'],axis=1)"
   ]
  },
  {
   "cell_type": "code",
   "execution_count": 130,
   "id": "573f02b0",
   "metadata": {},
   "outputs": [],
   "source": [
    "df=df.drop(['FlightNumber','AirportID','WeatherStationID','scheduled_arr_d_t','ActualArrivalTimeStamp'],axis=1)"
   ]
  },
  {
   "cell_type": "code",
   "execution_count": 131,
   "id": "1b43da89",
   "metadata": {},
   "outputs": [
    {
     "data": {
      "text/html": [
       "<div>\n",
       "<style scoped>\n",
       "    .dataframe tbody tr th:only-of-type {\n",
       "        vertical-align: middle;\n",
       "    }\n",
       "\n",
       "    .dataframe tbody tr th {\n",
       "        vertical-align: top;\n",
       "    }\n",
       "\n",
       "    .dataframe thead th {\n",
       "        text-align: right;\n",
       "    }\n",
       "</style>\n",
       "<table border=\"1\" class=\"dataframe\">\n",
       "  <thead>\n",
       "    <tr style=\"text-align: right;\">\n",
       "      <th></th>\n",
       "      <th>Year</th>\n",
       "      <th>Month</th>\n",
       "      <th>DayofMonth</th>\n",
       "      <th>DayOfWeek</th>\n",
       "      <th>ScheduledDepTime</th>\n",
       "      <th>ScheduledArrTime</th>\n",
       "      <th>ScheduledTravelTime</th>\n",
       "      <th>Origin</th>\n",
       "      <th>Destination</th>\n",
       "      <th>Distance</th>\n",
       "      <th>...</th>\n",
       "      <th>SkyConditions</th>\n",
       "      <th>Visibility</th>\n",
       "      <th>DBT</th>\n",
       "      <th>RelativeHumidityPercent</th>\n",
       "      <th>WindSpeed</th>\n",
       "      <th>WindDirection</th>\n",
       "      <th>WindGustValue</th>\n",
       "      <th>StationPressure</th>\n",
       "      <th>HourlyPrecip</th>\n",
       "      <th>Arrdelay</th>\n",
       "    </tr>\n",
       "  </thead>\n",
       "  <tbody>\n",
       "    <tr>\n",
       "      <th>0</th>\n",
       "      <td>2004</td>\n",
       "      <td>9</td>\n",
       "      <td>20</td>\n",
       "      <td>1</td>\n",
       "      <td>1000</td>\n",
       "      <td>1154</td>\n",
       "      <td>114</td>\n",
       "      <td>BOS</td>\n",
       "      <td>CLE</td>\n",
       "      <td>563</td>\n",
       "      <td>...</td>\n",
       "      <td>FEW075 BKN090</td>\n",
       "      <td>10SM</td>\n",
       "      <td>32.0</td>\n",
       "      <td>40.0</td>\n",
       "      <td>15.0</td>\n",
       "      <td>160</td>\n",
       "      <td>0.0</td>\n",
       "      <td>30.05</td>\n",
       "      <td>0.0</td>\n",
       "      <td>0.0</td>\n",
       "    </tr>\n",
       "    <tr>\n",
       "      <th>1</th>\n",
       "      <td>2004</td>\n",
       "      <td>11</td>\n",
       "      <td>19</td>\n",
       "      <td>5</td>\n",
       "      <td>1440</td>\n",
       "      <td>1634</td>\n",
       "      <td>114</td>\n",
       "      <td>CLE</td>\n",
       "      <td>ATL</td>\n",
       "      <td>554</td>\n",
       "      <td>...</td>\n",
       "      <td>BKN028 OVC033</td>\n",
       "      <td>10SM</td>\n",
       "      <td>21.0</td>\n",
       "      <td>74.0</td>\n",
       "      <td>5.0</td>\n",
       "      <td>0</td>\n",
       "      <td>0.0</td>\n",
       "      <td>30.06</td>\n",
       "      <td>0.0</td>\n",
       "      <td>141.0</td>\n",
       "    </tr>\n",
       "    <tr>\n",
       "      <th>2</th>\n",
       "      <td>2004</td>\n",
       "      <td>5</td>\n",
       "      <td>4</td>\n",
       "      <td>2</td>\n",
       "      <td>1800</td>\n",
       "      <td>1902</td>\n",
       "      <td>62</td>\n",
       "      <td>SNA</td>\n",
       "      <td>LAS</td>\n",
       "      <td>226</td>\n",
       "      <td>...</td>\n",
       "      <td>FEW025 OVC032</td>\n",
       "      <td>9SM</td>\n",
       "      <td>25.0</td>\n",
       "      <td>75.0</td>\n",
       "      <td>4.0</td>\n",
       "      <td>0</td>\n",
       "      <td>0.0</td>\n",
       "      <td>30.06</td>\n",
       "      <td>0.0</td>\n",
       "      <td>0.0</td>\n",
       "    </tr>\n",
       "    <tr>\n",
       "      <th>3</th>\n",
       "      <td>2004</td>\n",
       "      <td>7</td>\n",
       "      <td>6</td>\n",
       "      <td>2</td>\n",
       "      <td>1400</td>\n",
       "      <td>1533</td>\n",
       "      <td>93</td>\n",
       "      <td>CLT</td>\n",
       "      <td>TPA</td>\n",
       "      <td>508</td>\n",
       "      <td>...</td>\n",
       "      <td>SCT015 BKN020 OVC028</td>\n",
       "      <td>4SM</td>\n",
       "      <td>25.0</td>\n",
       "      <td>92.0</td>\n",
       "      <td>0.0</td>\n",
       "      <td>0</td>\n",
       "      <td>0.0</td>\n",
       "      <td>29.98</td>\n",
       "      <td>0.0</td>\n",
       "      <td>0.0</td>\n",
       "    </tr>\n",
       "    <tr>\n",
       "      <th>4</th>\n",
       "      <td>2004</td>\n",
       "      <td>9</td>\n",
       "      <td>23</td>\n",
       "      <td>4</td>\n",
       "      <td>830</td>\n",
       "      <td>946</td>\n",
       "      <td>76</td>\n",
       "      <td>MSP</td>\n",
       "      <td>ORD</td>\n",
       "      <td>334</td>\n",
       "      <td>...</td>\n",
       "      <td>BKN013 OVC021</td>\n",
       "      <td>1.75SM</td>\n",
       "      <td>27.0</td>\n",
       "      <td>85.0</td>\n",
       "      <td>0.0</td>\n",
       "      <td>0</td>\n",
       "      <td>0.0</td>\n",
       "      <td>29.99</td>\n",
       "      <td>0.0</td>\n",
       "      <td>0.0</td>\n",
       "    </tr>\n",
       "  </tbody>\n",
       "</table>\n",
       "<p>5 rows × 29 columns</p>\n",
       "</div>"
      ],
      "text/plain": [
       "   Year  Month  DayofMonth  DayOfWeek  ScheduledDepTime  ScheduledArrTime  \\\n",
       "0  2004      9          20          1              1000              1154   \n",
       "1  2004     11          19          5              1440              1634   \n",
       "2  2004      5           4          2              1800              1902   \n",
       "3  2004      7           6          2              1400              1533   \n",
       "4  2004      9          23          4               830               946   \n",
       "\n",
       "   ScheduledTravelTime Origin Destination  Distance  ...  \\\n",
       "0                  114    BOS         CLE       563  ...   \n",
       "1                  114    CLE         ATL       554  ...   \n",
       "2                   62    SNA         LAS       226  ...   \n",
       "3                   93    CLT         TPA       508  ...   \n",
       "4                   76    MSP         ORD       334  ...   \n",
       "\n",
       "          SkyConditions  Visibility   DBT  RelativeHumidityPercent  WindSpeed  \\\n",
       "0         FEW075 BKN090        10SM  32.0                     40.0       15.0   \n",
       "1         BKN028 OVC033        10SM  21.0                     74.0        5.0   \n",
       "2         FEW025 OVC032         9SM  25.0                     75.0        4.0   \n",
       "3  SCT015 BKN020 OVC028         4SM  25.0                     92.0        0.0   \n",
       "4         BKN013 OVC021      1.75SM  27.0                     85.0        0.0   \n",
       "\n",
       "   WindDirection  WindGustValue StationPressure  HourlyPrecip Arrdelay  \n",
       "0            160            0.0           30.05           0.0      0.0  \n",
       "1              0            0.0           30.06           0.0    141.0  \n",
       "2              0            0.0           30.06           0.0      0.0  \n",
       "3              0            0.0           29.98           0.0      0.0  \n",
       "4              0            0.0           29.99           0.0      0.0  \n",
       "\n",
       "[5 rows x 29 columns]"
      ]
     },
     "execution_count": 131,
     "metadata": {},
     "output_type": "execute_result"
    }
   ],
   "source": [
    "df.head()"
   ]
  },
  {
   "cell_type": "code",
   "execution_count": 132,
   "id": "d2cbcc71",
   "metadata": {},
   "outputs": [
    {
     "data": {
      "text/plain": [
       "Index(['Year', 'Month', 'DayofMonth', 'DayOfWeek', 'ScheduledDepTime',\n",
       "       'ScheduledArrTime', 'ScheduledTravelTime', 'Origin', 'Destination',\n",
       "       'Distance', 'YearMonthDay_x', 'GroundHeight', 'StationHeight',\n",
       "       'BarometerHeight', 'Latitude', 'Longitude', 'TimeZone',\n",
       "       'YearMonthDay_y', 'Time', 'SkyConditions', 'Visibility', 'DBT',\n",
       "       'RelativeHumidityPercent', 'WindSpeed', 'WindDirection',\n",
       "       'WindGustValue', 'StationPressure', 'HourlyPrecip', 'Arrdelay'],\n",
       "      dtype='object')"
      ]
     },
     "execution_count": 132,
     "metadata": {},
     "output_type": "execute_result"
    }
   ],
   "source": [
    "df.columns"
   ]
  },
  {
   "cell_type": "code",
   "execution_count": 133,
   "id": "0856656d",
   "metadata": {
    "scrolled": false
   },
   "outputs": [
    {
     "name": "stdout",
     "output_type": "stream",
     "text": [
      "<class 'pandas.core.frame.DataFrame'>\n",
      "RangeIndex: 7861 entries, 0 to 7860\n",
      "Data columns (total 29 columns):\n",
      " #   Column                   Non-Null Count  Dtype  \n",
      "---  ------                   --------------  -----  \n",
      " 0   Year                     7861 non-null   int64  \n",
      " 1   Month                    7861 non-null   int64  \n",
      " 2   DayofMonth               7861 non-null   int64  \n",
      " 3   DayOfWeek                7861 non-null   int64  \n",
      " 4   ScheduledDepTime         7861 non-null   int64  \n",
      " 5   ScheduledArrTime         7861 non-null   int64  \n",
      " 6   ScheduledTravelTime      7861 non-null   int64  \n",
      " 7   Origin                   7861 non-null   object \n",
      " 8   Destination              7861 non-null   object \n",
      " 9   Distance                 7861 non-null   int64  \n",
      " 10  YearMonthDay_x           7861 non-null   object \n",
      " 11  GroundHeight             7861 non-null   int64  \n",
      " 12  StationHeight            7861 non-null   int64  \n",
      " 13  BarometerHeight          7861 non-null   int64  \n",
      " 14  Latitude                 7861 non-null   float64\n",
      " 15  Longitude                7861 non-null   float64\n",
      " 16  TimeZone                 7861 non-null   int64  \n",
      " 17  YearMonthDay_y           7861 non-null   object \n",
      " 18  Time                     7861 non-null   int64  \n",
      " 19  SkyConditions            7861 non-null   object \n",
      " 20  Visibility               7861 non-null   object \n",
      " 21  DBT                      7861 non-null   float64\n",
      " 22  RelativeHumidityPercent  7861 non-null   float64\n",
      " 23  WindSpeed                7861 non-null   float64\n",
      " 24  WindDirection            7861 non-null   int64  \n",
      " 25  WindGustValue            7861 non-null   float64\n",
      " 26  StationPressure          7861 non-null   float64\n",
      " 27  HourlyPrecip             7861 non-null   float64\n",
      " 28  Arrdelay                 7861 non-null   float64\n",
      "dtypes: float64(9), int64(14), object(6)\n",
      "memory usage: 1.7+ MB\n"
     ]
    }
   ],
   "source": [
    "df.info()"
   ]
  },
  {
   "cell_type": "markdown",
   "id": "16fe7c20",
   "metadata": {},
   "source": [
    "Defining target column"
   ]
  },
  {
   "cell_type": "code",
   "execution_count": null,
   "id": "edef1b9b",
   "metadata": {},
   "outputs": [],
   "source": [
    "status = []\n",
    "\n",
    "for value in df['Arrdelay']:\n",
    "    if value > 15:\n",
    "        status.append(1)\n",
    "    else:\n",
    "        status.append(2)\n",
    "df['FlightDelayStatus'] = status \n",
    "    "
   ]
  },
  {
   "cell_type": "code",
   "execution_count": 135,
   "id": "b54f7c1d",
   "metadata": {},
   "outputs": [],
   "source": [
    "df=df.drop(['Arrdelay'],axis=1)"
   ]
  },
  {
   "cell_type": "code",
   "execution_count": 136,
   "id": "3d52570c",
   "metadata": {},
   "outputs": [
    {
     "data": {
      "text/plain": [
       "Index(['Year', 'Month', 'DayofMonth', 'DayOfWeek', 'ScheduledDepTime',\n",
       "       'ScheduledArrTime', 'ScheduledTravelTime', 'Origin', 'Destination',\n",
       "       'Distance', 'YearMonthDay_x', 'GroundHeight', 'StationHeight',\n",
       "       'BarometerHeight', 'Latitude', 'Longitude', 'TimeZone',\n",
       "       'YearMonthDay_y', 'Time', 'SkyConditions', 'Visibility', 'DBT',\n",
       "       'RelativeHumidityPercent', 'WindSpeed', 'WindDirection',\n",
       "       'WindGustValue', 'StationPressure', 'HourlyPrecip',\n",
       "       'FlightDelayStatus'],\n",
       "      dtype='object')"
      ]
     },
     "execution_count": 136,
     "metadata": {},
     "output_type": "execute_result"
    }
   ],
   "source": [
    "df.columns"
   ]
  },
  {
   "cell_type": "code",
   "execution_count": 137,
   "id": "034a5e09",
   "metadata": {},
   "outputs": [
    {
     "data": {
      "image/png": "[encoded data removed]",
      "text/plain": [
       "<Figure size 432x288 with 1 Axes>"
      ]
     },
     "metadata": {
      "needs_background": "light"
     },
     "output_type": "display_data"
    },
    {
     "name": "stdout",
     "output_type": "stream",
     "text": [
      "2    6342\n",
      "1    1519\n",
      "Name: FlightDelayStatus, dtype: int64\n"
     ]
    }
   ],
   "source": [
    "# Plotting the percentage of observations that fall under each class\n",
    "ax = df[\"FlightDelayStatus\"].value_counts().sort_values().plot(kind=\"barh\", color=[\"r\", \"g\"])\n",
    "totals= []\n",
    "for i in ax.patches:\n",
    "    totals.append(i.get_width())\n",
    "total = sum(totals)\n",
    "for i in ax.patches:\n",
    "     ax.text(i.get_width()+.3, i.get_y()+.20, \n",
    "     str(round((i.get_width()/total)*100, 2))+'%', \n",
    "     fontsize=10, color='black')\n",
    "plt.title(\"FlightDelayStatus\", fontsize=20)\n",
    "plt.xlabel(\"Count\", fontsize=14)\n",
    "plt.ylabel(\"Class\", fontsize=14)\n",
    "plt.show()\n",
    "print(df[\"FlightDelayStatus\"].value_counts())\n",
    "fig = ax.get_figure()\n",
    "fig.savefig(\"Img/05_01_ArrDel15_Class_Imbalance.png\")"
   ]
  },
  {
   "cell_type": "code",
   "execution_count": 138,
   "id": "449b8afd",
   "metadata": {},
   "outputs": [
    {
     "data": {
      "text/plain": [
       "(7861, 29)"
      ]
     },
     "execution_count": 138,
     "metadata": {},
     "output_type": "execute_result"
    }
   ],
   "source": [
    "df.shape"
   ]
  },
  {
   "cell_type": "code",
   "execution_count": 139,
   "id": "e5a7ef7e",
   "metadata": {},
   "outputs": [
    {
     "data": {
      "text/plain": [
       "Index(['Year', 'Month', 'DayofMonth', 'DayOfWeek', 'ScheduledDepTime',\n",
       "       'ScheduledArrTime', 'ScheduledTravelTime', 'Origin', 'Destination',\n",
       "       'Distance', 'YearMonthDay_x', 'GroundHeight', 'StationHeight',\n",
       "       'BarometerHeight', 'Latitude', 'Longitude', 'TimeZone',\n",
       "       'YearMonthDay_y', 'Time', 'SkyConditions', 'Visibility', 'DBT',\n",
       "       'RelativeHumidityPercent', 'WindSpeed', 'WindDirection',\n",
       "       'WindGustValue', 'StationPressure', 'HourlyPrecip',\n",
       "       'FlightDelayStatus'],\n",
       "      dtype='object')"
      ]
     },
     "execution_count": 139,
     "metadata": {},
     "output_type": "execute_result"
    }
   ],
   "source": [
    "df.columns"
   ]
  },
  {
   "cell_type": "code",
   "execution_count": 140,
   "id": "0a429d59",
   "metadata": {},
   "outputs": [
    {
     "data": {
      "text/plain": [
       "array([15.,  5.,  4.,  0.,  6., 16.,  8., 11., 12., 14.,  7., 17.,  9.,\n",
       "        3., 13., 10., 18., 20., 21., 19., 24., 23., 22., 27., 28., 30.,\n",
       "       25., 26., 33., 29.])"
      ]
     },
     "execution_count": 140,
     "metadata": {},
     "output_type": "execute_result"
    }
   ],
   "source": [
    "df.WindSpeed.unique()"
   ]
  },
  {
   "cell_type": "code",
   "execution_count": 141,
   "id": "d824b289",
   "metadata": {},
   "outputs": [
    {
     "data": {
      "text/html": [
       "<div>\n",
       "<style scoped>\n",
       "    .dataframe tbody tr th:only-of-type {\n",
       "        vertical-align: middle;\n",
       "    }\n",
       "\n",
       "    .dataframe tbody tr th {\n",
       "        vertical-align: top;\n",
       "    }\n",
       "\n",
       "    .dataframe thead th {\n",
       "        text-align: right;\n",
       "    }\n",
       "</style>\n",
       "<table border=\"1\" class=\"dataframe\">\n",
       "  <thead>\n",
       "    <tr style=\"text-align: right;\">\n",
       "      <th></th>\n",
       "      <th>Origin</th>\n",
       "      <th>Destination</th>\n",
       "      <th>YearMonthDay_x</th>\n",
       "      <th>YearMonthDay_y</th>\n",
       "      <th>SkyConditions</th>\n",
       "      <th>Visibility</th>\n",
       "    </tr>\n",
       "  </thead>\n",
       "  <tbody>\n",
       "    <tr>\n",
       "      <th>0</th>\n",
       "      <td>BOS</td>\n",
       "      <td>CLE</td>\n",
       "      <td>2004-09-20</td>\n",
       "      <td>2004-01-01</td>\n",
       "      <td>FEW075 BKN090</td>\n",
       "      <td>10SM</td>\n",
       "    </tr>\n",
       "    <tr>\n",
       "      <th>1</th>\n",
       "      <td>CLE</td>\n",
       "      <td>ATL</td>\n",
       "      <td>2004-11-19</td>\n",
       "      <td>2004-01-01</td>\n",
       "      <td>BKN028 OVC033</td>\n",
       "      <td>10SM</td>\n",
       "    </tr>\n",
       "    <tr>\n",
       "      <th>2</th>\n",
       "      <td>SNA</td>\n",
       "      <td>LAS</td>\n",
       "      <td>2004-05-04</td>\n",
       "      <td>2004-01-01</td>\n",
       "      <td>FEW025 OVC032</td>\n",
       "      <td>9SM</td>\n",
       "    </tr>\n",
       "    <tr>\n",
       "      <th>3</th>\n",
       "      <td>CLT</td>\n",
       "      <td>TPA</td>\n",
       "      <td>2004-07-06</td>\n",
       "      <td>2004-01-02</td>\n",
       "      <td>SCT015 BKN020 OVC028</td>\n",
       "      <td>4SM</td>\n",
       "    </tr>\n",
       "    <tr>\n",
       "      <th>4</th>\n",
       "      <td>MSP</td>\n",
       "      <td>ORD</td>\n",
       "      <td>2004-09-23</td>\n",
       "      <td>2004-01-02</td>\n",
       "      <td>BKN013 OVC021</td>\n",
       "      <td>1.75SM</td>\n",
       "    </tr>\n",
       "    <tr>\n",
       "      <th>...</th>\n",
       "      <td>...</td>\n",
       "      <td>...</td>\n",
       "      <td>...</td>\n",
       "      <td>...</td>\n",
       "      <td>...</td>\n",
       "      <td>...</td>\n",
       "    </tr>\n",
       "    <tr>\n",
       "      <th>7856</th>\n",
       "      <td>IAH</td>\n",
       "      <td>DEN</td>\n",
       "      <td>2004-05-27</td>\n",
       "      <td>2004-03-28</td>\n",
       "      <td>BKN070 OVC095</td>\n",
       "      <td>10SM</td>\n",
       "    </tr>\n",
       "    <tr>\n",
       "      <th>7857</th>\n",
       "      <td>EWR</td>\n",
       "      <td>MEM</td>\n",
       "      <td>2004-11-29</td>\n",
       "      <td>2004-03-28</td>\n",
       "      <td>CLR</td>\n",
       "      <td>10SM</td>\n",
       "    </tr>\n",
       "    <tr>\n",
       "      <th>7858</th>\n",
       "      <td>IAD</td>\n",
       "      <td>GSO</td>\n",
       "      <td>2004-05-11</td>\n",
       "      <td>2004-03-28</td>\n",
       "      <td>CLR</td>\n",
       "      <td>10SM</td>\n",
       "    </tr>\n",
       "    <tr>\n",
       "      <th>7859</th>\n",
       "      <td>SLC</td>\n",
       "      <td>GEG</td>\n",
       "      <td>2004-01-04</td>\n",
       "      <td>2004-03-28</td>\n",
       "      <td>BKN090</td>\n",
       "      <td>10SM</td>\n",
       "    </tr>\n",
       "    <tr>\n",
       "      <th>7860</th>\n",
       "      <td>FLL</td>\n",
       "      <td>CLE</td>\n",
       "      <td>2004-11-06</td>\n",
       "      <td>2004-03-28</td>\n",
       "      <td>BKN095</td>\n",
       "      <td>10SM</td>\n",
       "    </tr>\n",
       "  </tbody>\n",
       "</table>\n",
       "<p>7861 rows × 6 columns</p>\n",
       "</div>"
      ],
      "text/plain": [
       "     Origin Destination YearMonthDay_x YearMonthDay_y         SkyConditions  \\\n",
       "0       BOS         CLE     2004-09-20     2004-01-01         FEW075 BKN090   \n",
       "1       CLE         ATL     2004-11-19     2004-01-01         BKN028 OVC033   \n",
       "2       SNA         LAS     2004-05-04     2004-01-01         FEW025 OVC032   \n",
       "3       CLT         TPA     2004-07-06     2004-01-02  SCT015 BKN020 OVC028   \n",
       "4       MSP         ORD     2004-09-23     2004-01-02         BKN013 OVC021   \n",
       "...     ...         ...            ...            ...                   ...   \n",
       "7856    IAH         DEN     2004-05-27     2004-03-28         BKN070 OVC095   \n",
       "7857    EWR         MEM     2004-11-29     2004-03-28                   CLR   \n",
       "7858    IAD         GSO     2004-05-11     2004-03-28                   CLR   \n",
       "7859    SLC         GEG     2004-01-04     2004-03-28                BKN090   \n",
       "7860    FLL         CLE     2004-11-06     2004-03-28                BKN095   \n",
       "\n",
       "     Visibility  \n",
       "0          10SM  \n",
       "1          10SM  \n",
       "2           9SM  \n",
       "3           4SM  \n",
       "4        1.75SM  \n",
       "...         ...  \n",
       "7856       10SM  \n",
       "7857       10SM  \n",
       "7858       10SM  \n",
       "7859       10SM  \n",
       "7860       10SM  \n",
       "\n",
       "[7861 rows x 6 columns]"
      ]
     },
     "execution_count": 141,
     "metadata": {},
     "output_type": "execute_result"
    }
   ],
   "source": [
    "df.select_dtypes(include=['object'])\n"
   ]
  },
  {
   "cell_type": "code",
   "execution_count": 142,
   "id": "93bd8bcb",
   "metadata": {},
   "outputs": [],
   "source": [
    "df=df.drop(['YearMonthDay_x','YearMonthDay_y'],axis=1)"
   ]
  },
  {
   "cell_type": "markdown",
   "id": "98d3af48",
   "metadata": {},
   "source": [
    "### Label encoder"
   ]
  },
  {
   "cell_type": "code",
   "execution_count": 143,
   "id": "a151d882",
   "metadata": {},
   "outputs": [
    {
     "data": {
      "text/html": [
       "<div>\n",
       "<style scoped>\n",
       "    .dataframe tbody tr th:only-of-type {\n",
       "        vertical-align: middle;\n",
       "    }\n",
       "\n",
       "    .dataframe tbody tr th {\n",
       "        vertical-align: top;\n",
       "    }\n",
       "\n",
       "    .dataframe thead th {\n",
       "        text-align: right;\n",
       "    }\n",
       "</style>\n",
       "<table border=\"1\" class=\"dataframe\">\n",
       "  <thead>\n",
       "    <tr style=\"text-align: right;\">\n",
       "      <th></th>\n",
       "      <th>Year</th>\n",
       "      <th>Month</th>\n",
       "      <th>DayofMonth</th>\n",
       "      <th>DayOfWeek</th>\n",
       "      <th>ScheduledDepTime</th>\n",
       "      <th>ScheduledArrTime</th>\n",
       "      <th>ScheduledTravelTime</th>\n",
       "      <th>Origin</th>\n",
       "      <th>Destination</th>\n",
       "      <th>Distance</th>\n",
       "      <th>...</th>\n",
       "      <th>SkyConditions</th>\n",
       "      <th>Visibility</th>\n",
       "      <th>DBT</th>\n",
       "      <th>RelativeHumidityPercent</th>\n",
       "      <th>WindSpeed</th>\n",
       "      <th>WindDirection</th>\n",
       "      <th>WindGustValue</th>\n",
       "      <th>StationPressure</th>\n",
       "      <th>HourlyPrecip</th>\n",
       "      <th>FlightDelayStatus</th>\n",
       "    </tr>\n",
       "  </thead>\n",
       "  <tbody>\n",
       "    <tr>\n",
       "      <th>0</th>\n",
       "      <td>2004</td>\n",
       "      <td>9</td>\n",
       "      <td>20</td>\n",
       "      <td>1</td>\n",
       "      <td>1000</td>\n",
       "      <td>1154</td>\n",
       "      <td>114</td>\n",
       "      <td>27</td>\n",
       "      <td>43</td>\n",
       "      <td>563</td>\n",
       "      <td>...</td>\n",
       "      <td>630</td>\n",
       "      <td>6</td>\n",
       "      <td>32.0</td>\n",
       "      <td>40.0</td>\n",
       "      <td>15.0</td>\n",
       "      <td>160</td>\n",
       "      <td>0.0</td>\n",
       "      <td>30.05</td>\n",
       "      <td>0.0</td>\n",
       "      <td>2</td>\n",
       "    </tr>\n",
       "    <tr>\n",
       "      <th>1</th>\n",
       "      <td>2004</td>\n",
       "      <td>11</td>\n",
       "      <td>19</td>\n",
       "      <td>5</td>\n",
       "      <td>1440</td>\n",
       "      <td>1634</td>\n",
       "      <td>114</td>\n",
       "      <td>45</td>\n",
       "      <td>13</td>\n",
       "      <td>554</td>\n",
       "      <td>...</td>\n",
       "      <td>112</td>\n",
       "      <td>6</td>\n",
       "      <td>21.0</td>\n",
       "      <td>74.0</td>\n",
       "      <td>5.0</td>\n",
       "      <td>0</td>\n",
       "      <td>0.0</td>\n",
       "      <td>30.06</td>\n",
       "      <td>0.0</td>\n",
       "      <td>1</td>\n",
       "    </tr>\n",
       "    <tr>\n",
       "      <th>2</th>\n",
       "      <td>2004</td>\n",
       "      <td>5</td>\n",
       "      <td>4</td>\n",
       "      <td>2</td>\n",
       "      <td>1800</td>\n",
       "      <td>1902</td>\n",
       "      <td>62</td>\n",
       "      <td>205</td>\n",
       "      <td>115</td>\n",
       "      <td>226</td>\n",
       "      <td>...</td>\n",
       "      <td>399</td>\n",
       "      <td>16</td>\n",
       "      <td>25.0</td>\n",
       "      <td>75.0</td>\n",
       "      <td>4.0</td>\n",
       "      <td>0</td>\n",
       "      <td>0.0</td>\n",
       "      <td>30.06</td>\n",
       "      <td>0.0</td>\n",
       "      <td>2</td>\n",
       "    </tr>\n",
       "    <tr>\n",
       "      <th>3</th>\n",
       "      <td>2004</td>\n",
       "      <td>7</td>\n",
       "      <td>6</td>\n",
       "      <td>2</td>\n",
       "      <td>1400</td>\n",
       "      <td>1533</td>\n",
       "      <td>93</td>\n",
       "      <td>47</td>\n",
       "      <td>207</td>\n",
       "      <td>508</td>\n",
       "      <td>...</td>\n",
       "      <td>762</td>\n",
       "      <td>11</td>\n",
       "      <td>25.0</td>\n",
       "      <td>92.0</td>\n",
       "      <td>0.0</td>\n",
       "      <td>0</td>\n",
       "      <td>0.0</td>\n",
       "      <td>29.98</td>\n",
       "      <td>0.0</td>\n",
       "      <td>2</td>\n",
       "    </tr>\n",
       "    <tr>\n",
       "      <th>4</th>\n",
       "      <td>2004</td>\n",
       "      <td>9</td>\n",
       "      <td>23</td>\n",
       "      <td>4</td>\n",
       "      <td>830</td>\n",
       "      <td>946</td>\n",
       "      <td>76</td>\n",
       "      <td>153</td>\n",
       "      <td>155</td>\n",
       "      <td>334</td>\n",
       "      <td>...</td>\n",
       "      <td>70</td>\n",
       "      <td>5</td>\n",
       "      <td>27.0</td>\n",
       "      <td>85.0</td>\n",
       "      <td>0.0</td>\n",
       "      <td>0</td>\n",
       "      <td>0.0</td>\n",
       "      <td>29.99</td>\n",
       "      <td>0.0</td>\n",
       "      <td>2</td>\n",
       "    </tr>\n",
       "  </tbody>\n",
       "</table>\n",
       "<p>5 rows × 27 columns</p>\n",
       "</div>"
      ],
      "text/plain": [
       "   Year  Month  DayofMonth  DayOfWeek  ScheduledDepTime  ScheduledArrTime  \\\n",
       "0  2004      9          20          1              1000              1154   \n",
       "1  2004     11          19          5              1440              1634   \n",
       "2  2004      5           4          2              1800              1902   \n",
       "3  2004      7           6          2              1400              1533   \n",
       "4  2004      9          23          4               830               946   \n",
       "\n",
       "   ScheduledTravelTime  Origin  Destination  Distance  ...  SkyConditions  \\\n",
       "0                  114      27           43       563  ...            630   \n",
       "1                  114      45           13       554  ...            112   \n",
       "2                   62     205          115       226  ...            399   \n",
       "3                   93      47          207       508  ...            762   \n",
       "4                   76     153          155       334  ...             70   \n",
       "\n",
       "   Visibility   DBT  RelativeHumidityPercent  WindSpeed  WindDirection  \\\n",
       "0           6  32.0                     40.0       15.0            160   \n",
       "1           6  21.0                     74.0        5.0              0   \n",
       "2          16  25.0                     75.0        4.0              0   \n",
       "3          11  25.0                     92.0        0.0              0   \n",
       "4           5  27.0                     85.0        0.0              0   \n",
       "\n",
       "   WindGustValue  StationPressure  HourlyPrecip  FlightDelayStatus  \n",
       "0            0.0            30.05           0.0                  2  \n",
       "1            0.0            30.06           0.0                  1  \n",
       "2            0.0            30.06           0.0                  2  \n",
       "3            0.0            29.98           0.0                  2  \n",
       "4            0.0            29.99           0.0                  2  \n",
       "\n",
       "[5 rows x 27 columns]"
      ]
     },
     "execution_count": 143,
     "metadata": {},
     "output_type": "execute_result"
    }
   ],
   "source": [
    "cols = ['Origin', 'Destination', 'SkyConditions', 'Visibility']\n",
    "#\n",
    "# Encode labels of multiple columns at once\n",
    "#\n",
    "df[cols] = df[cols].apply(LabelEncoder().fit_transform)\n",
    "#\n",
    "# Print head\n",
    "#\n",
    "df.head()"
   ]
  },
  {
   "cell_type": "code",
   "execution_count": 144,
   "id": "53ca5eab",
   "metadata": {},
   "outputs": [
    {
     "name": "stdout",
     "output_type": "stream",
     "text": [
      "<class 'pandas.core.frame.DataFrame'>\n",
      "RangeIndex: 7861 entries, 0 to 7860\n",
      "Data columns (total 27 columns):\n",
      " #   Column                   Non-Null Count  Dtype  \n",
      "---  ------                   --------------  -----  \n",
      " 0   Year                     7861 non-null   int64  \n",
      " 1   Month                    7861 non-null   int64  \n",
      " 2   DayofMonth               7861 non-null   int64  \n",
      " 3   DayOfWeek                7861 non-null   int64  \n",
      " 4   ScheduledDepTime         7861 non-null   int64  \n",
      " 5   ScheduledArrTime         7861 non-null   int64  \n",
      " 6   ScheduledTravelTime      7861 non-null   int64  \n",
      " 7   Origin                   7861 non-null   int32  \n",
      " 8   Destination              7861 non-null   int32  \n",
      " 9   Distance                 7861 non-null   int64  \n",
      " 10  GroundHeight             7861 non-null   int64  \n",
      " 11  StationHeight            7861 non-null   int64  \n",
      " 12  BarometerHeight          7861 non-null   int64  \n",
      " 13  Latitude                 7861 non-null   float64\n",
      " 14  Longitude                7861 non-null   float64\n",
      " 15  TimeZone                 7861 non-null   int64  \n",
      " 16  Time                     7861 non-null   int64  \n",
      " 17  SkyConditions            7861 non-null   int32  \n",
      " 18  Visibility               7861 non-null   int32  \n",
      " 19  DBT                      7861 non-null   float64\n",
      " 20  RelativeHumidityPercent  7861 non-null   float64\n",
      " 21  WindSpeed                7861 non-null   float64\n",
      " 22  WindDirection            7861 non-null   int64  \n",
      " 23  WindGustValue            7861 non-null   float64\n",
      " 24  StationPressure          7861 non-null   float64\n",
      " 25  HourlyPrecip             7861 non-null   float64\n",
      " 26  FlightDelayStatus        7861 non-null   int64  \n",
      "dtypes: float64(8), int32(4), int64(15)\n",
      "memory usage: 1.5 MB\n"
     ]
    }
   ],
   "source": [
    "df.info()"
   ]
  },
  {
   "cell_type": "code",
   "execution_count": 145,
   "id": "e151bfaf",
   "metadata": {},
   "outputs": [
    {
     "data": {
      "text/html": [
       "<div>\n",
       "<style scoped>\n",
       "    .dataframe tbody tr th:only-of-type {\n",
       "        vertical-align: middle;\n",
       "    }\n",
       "\n",
       "    .dataframe tbody tr th {\n",
       "        vertical-align: top;\n",
       "    }\n",
       "\n",
       "    .dataframe thead th {\n",
       "        text-align: right;\n",
       "    }\n",
       "</style>\n",
       "<table border=\"1\" class=\"dataframe\">\n",
       "  <thead>\n",
       "    <tr style=\"text-align: right;\">\n",
       "      <th></th>\n",
       "      <th>Year</th>\n",
       "      <th>Month</th>\n",
       "      <th>DayofMonth</th>\n",
       "      <th>DayOfWeek</th>\n",
       "      <th>ScheduledDepTime</th>\n",
       "      <th>ScheduledArrTime</th>\n",
       "      <th>ScheduledTravelTime</th>\n",
       "      <th>Origin</th>\n",
       "      <th>Destination</th>\n",
       "      <th>Distance</th>\n",
       "      <th>...</th>\n",
       "      <th>SkyConditions</th>\n",
       "      <th>Visibility</th>\n",
       "      <th>DBT</th>\n",
       "      <th>RelativeHumidityPercent</th>\n",
       "      <th>WindSpeed</th>\n",
       "      <th>WindDirection</th>\n",
       "      <th>WindGustValue</th>\n",
       "      <th>StationPressure</th>\n",
       "      <th>HourlyPrecip</th>\n",
       "      <th>FlightDelayStatus</th>\n",
       "    </tr>\n",
       "  </thead>\n",
       "  <tbody>\n",
       "    <tr>\n",
       "      <th>count</th>\n",
       "      <td>7861.0</td>\n",
       "      <td>7861.00000</td>\n",
       "      <td>7861.000000</td>\n",
       "      <td>7861.000000</td>\n",
       "      <td>7861.000000</td>\n",
       "      <td>7861.000000</td>\n",
       "      <td>7861.000000</td>\n",
       "      <td>7861.000000</td>\n",
       "      <td>7861.000000</td>\n",
       "      <td>7861.000000</td>\n",
       "      <td>...</td>\n",
       "      <td>7861.000000</td>\n",
       "      <td>7861.000000</td>\n",
       "      <td>7861.000000</td>\n",
       "      <td>7861.000000</td>\n",
       "      <td>7861.000000</td>\n",
       "      <td>7861.000000</td>\n",
       "      <td>7861.000000</td>\n",
       "      <td>7861.000000</td>\n",
       "      <td>7861.000000</td>\n",
       "      <td>7861.000000</td>\n",
       "    </tr>\n",
       "    <tr>\n",
       "      <th>mean</th>\n",
       "      <td>2004.0</td>\n",
       "      <td>7.12085</td>\n",
       "      <td>15.441292</td>\n",
       "      <td>3.960946</td>\n",
       "      <td>1198.225417</td>\n",
       "      <td>1412.232922</td>\n",
       "      <td>129.623839</td>\n",
       "      <td>110.092355</td>\n",
       "      <td>102.350464</td>\n",
       "      <td>743.764025</td>\n",
       "      <td>...</td>\n",
       "      <td>336.000763</td>\n",
       "      <td>6.151507</td>\n",
       "      <td>46.462918</td>\n",
       "      <td>43.526619</td>\n",
       "      <td>6.872281</td>\n",
       "      <td>164.722046</td>\n",
       "      <td>3.979392</td>\n",
       "      <td>29.779902</td>\n",
       "      <td>0.000069</td>\n",
       "      <td>1.806768</td>\n",
       "    </tr>\n",
       "    <tr>\n",
       "      <th>std</th>\n",
       "      <td>0.0</td>\n",
       "      <td>2.82233</td>\n",
       "      <td>9.049019</td>\n",
       "      <td>1.980921</td>\n",
       "      <td>354.923067</td>\n",
       "      <td>369.739052</td>\n",
       "      <td>63.272072</td>\n",
       "      <td>62.433381</td>\n",
       "      <td>59.912529</td>\n",
       "      <td>522.629372</td>\n",
       "      <td>...</td>\n",
       "      <td>197.845886</td>\n",
       "      <td>1.273659</td>\n",
       "      <td>15.548792</td>\n",
       "      <td>26.128947</td>\n",
       "      <td>5.100114</td>\n",
       "      <td>116.039783</td>\n",
       "      <td>8.828625</td>\n",
       "      <td>1.156824</td>\n",
       "      <td>0.002029</td>\n",
       "      <td>0.394859</td>\n",
       "    </tr>\n",
       "    <tr>\n",
       "      <th>min</th>\n",
       "      <td>2004.0</td>\n",
       "      <td>1.00000</td>\n",
       "      <td>1.000000</td>\n",
       "      <td>1.000000</td>\n",
       "      <td>215.000000</td>\n",
       "      <td>553.000000</td>\n",
       "      <td>61.000000</td>\n",
       "      <td>0.000000</td>\n",
       "      <td>0.000000</td>\n",
       "      <td>69.000000</td>\n",
       "      <td>...</td>\n",
       "      <td>0.000000</td>\n",
       "      <td>0.000000</td>\n",
       "      <td>-8.000000</td>\n",
       "      <td>3.000000</td>\n",
       "      <td>0.000000</td>\n",
       "      <td>0.000000</td>\n",
       "      <td>0.000000</td>\n",
       "      <td>25.790000</td>\n",
       "      <td>0.000000</td>\n",
       "      <td>1.000000</td>\n",
       "    </tr>\n",
       "    <tr>\n",
       "      <th>25%</th>\n",
       "      <td>2004.0</td>\n",
       "      <td>5.00000</td>\n",
       "      <td>7.000000</td>\n",
       "      <td>2.000000</td>\n",
       "      <td>900.000000</td>\n",
       "      <td>1111.000000</td>\n",
       "      <td>83.000000</td>\n",
       "      <td>58.000000</td>\n",
       "      <td>52.000000</td>\n",
       "      <td>368.000000</td>\n",
       "      <td>...</td>\n",
       "      <td>243.000000</td>\n",
       "      <td>6.000000</td>\n",
       "      <td>36.000000</td>\n",
       "      <td>21.000000</td>\n",
       "      <td>4.000000</td>\n",
       "      <td>40.000000</td>\n",
       "      <td>0.000000</td>\n",
       "      <td>30.010000</td>\n",
       "      <td>0.000000</td>\n",
       "      <td>2.000000</td>\n",
       "    </tr>\n",
       "    <tr>\n",
       "      <th>50%</th>\n",
       "      <td>2004.0</td>\n",
       "      <td>7.00000</td>\n",
       "      <td>15.000000</td>\n",
       "      <td>4.000000</td>\n",
       "      <td>1215.000000</td>\n",
       "      <td>1430.000000</td>\n",
       "      <td>112.000000</td>\n",
       "      <td>116.000000</td>\n",
       "      <td>101.000000</td>\n",
       "      <td>595.000000</td>\n",
       "      <td>...</td>\n",
       "      <td>243.000000</td>\n",
       "      <td>6.000000</td>\n",
       "      <td>46.000000</td>\n",
       "      <td>38.000000</td>\n",
       "      <td>6.000000</td>\n",
       "      <td>180.000000</td>\n",
       "      <td>0.000000</td>\n",
       "      <td>30.130000</td>\n",
       "      <td>0.000000</td>\n",
       "      <td>2.000000</td>\n",
       "    </tr>\n",
       "    <tr>\n",
       "      <th>75%</th>\n",
       "      <td>2004.0</td>\n",
       "      <td>9.00000</td>\n",
       "      <td>23.000000</td>\n",
       "      <td>6.000000</td>\n",
       "      <td>1518.000000</td>\n",
       "      <td>1728.000000</td>\n",
       "      <td>155.000000</td>\n",
       "      <td>162.000000</td>\n",
       "      <td>155.000000</td>\n",
       "      <td>951.000000</td>\n",
       "      <td>...</td>\n",
       "      <td>243.000000</td>\n",
       "      <td>6.000000</td>\n",
       "      <td>57.000000</td>\n",
       "      <td>64.000000</td>\n",
       "      <td>9.000000</td>\n",
       "      <td>260.000000</td>\n",
       "      <td>0.000000</td>\n",
       "      <td>30.240000</td>\n",
       "      <td>0.000000</td>\n",
       "      <td>2.000000</td>\n",
       "    </tr>\n",
       "    <tr>\n",
       "      <th>max</th>\n",
       "      <td>2004.0</td>\n",
       "      <td>11.00000</td>\n",
       "      <td>31.000000</td>\n",
       "      <td>7.000000</td>\n",
       "      <td>1800.000000</td>\n",
       "      <td>2300.000000</td>\n",
       "      <td>562.000000</td>\n",
       "      <td>222.000000</td>\n",
       "      <td>214.000000</td>\n",
       "      <td>4962.000000</td>\n",
       "      <td>...</td>\n",
       "      <td>923.000000</td>\n",
       "      <td>16.000000</td>\n",
       "      <td>86.000000</td>\n",
       "      <td>100.000000</td>\n",
       "      <td>33.000000</td>\n",
       "      <td>360.000000</td>\n",
       "      <td>42.000000</td>\n",
       "      <td>30.590000</td>\n",
       "      <td>0.100000</td>\n",
       "      <td>2.000000</td>\n",
       "    </tr>\n",
       "  </tbody>\n",
       "</table>\n",
       "<p>8 rows × 27 columns</p>\n",
       "</div>"
      ],
      "text/plain": [
       "         Year       Month   DayofMonth    DayOfWeek  ScheduledDepTime  \\\n",
       "count  7861.0  7861.00000  7861.000000  7861.000000       7861.000000   \n",
       "mean   2004.0     7.12085    15.441292     3.960946       1198.225417   \n",
       "std       0.0     2.82233     9.049019     1.980921        354.923067   \n",
       "min    2004.0     1.00000     1.000000     1.000000        215.000000   \n",
       "25%    2004.0     5.00000     7.000000     2.000000        900.000000   \n",
       "50%    2004.0     7.00000    15.000000     4.000000       1215.000000   \n",
       "75%    2004.0     9.00000    23.000000     6.000000       1518.000000   \n",
       "max    2004.0    11.00000    31.000000     7.000000       1800.000000   \n",
       "\n",
       "       ScheduledArrTime  ScheduledTravelTime       Origin  Destination  \\\n",
       "count       7861.000000          7861.000000  7861.000000  7861.000000   \n",
       "mean        1412.232922           129.623839   110.092355   102.350464   \n",
       "std          369.739052            63.272072    62.433381    59.912529   \n",
       "min          553.000000            61.000000     0.000000     0.000000   \n",
       "25%         1111.000000            83.000000    58.000000    52.000000   \n",
       "50%         1430.000000           112.000000   116.000000   101.000000   \n",
       "75%         1728.000000           155.000000   162.000000   155.000000   \n",
       "max         2300.000000           562.000000   222.000000   214.000000   \n",
       "\n",
       "          Distance  ...  SkyConditions   Visibility          DBT  \\\n",
       "count  7861.000000  ...    7861.000000  7861.000000  7861.000000   \n",
       "mean    743.764025  ...     336.000763     6.151507    46.462918   \n",
       "std     522.629372  ...     197.845886     1.273659    15.548792   \n",
       "min      69.000000  ...       0.000000     0.000000    -8.000000   \n",
       "25%     368.000000  ...     243.000000     6.000000    36.000000   \n",
       "50%     595.000000  ...     243.000000     6.000000    46.000000   \n",
       "75%     951.000000  ...     243.000000     6.000000    57.000000   \n",
       "max    4962.000000  ...     923.000000    16.000000    86.000000   \n",
       "\n",
       "       RelativeHumidityPercent    WindSpeed  WindDirection  WindGustValue  \\\n",
       "count              7861.000000  7861.000000    7861.000000    7861.000000   \n",
       "mean                 43.526619     6.872281     164.722046       3.979392   \n",
       "std                  26.128947     5.100114     116.039783       8.828625   \n",
       "min                   3.000000     0.000000       0.000000       0.000000   \n",
       "25%                  21.000000     4.000000      40.000000       0.000000   \n",
       "50%                  38.000000     6.000000     180.000000       0.000000   \n",
       "75%                  64.000000     9.000000     260.000000       0.000000   \n",
       "max                 100.000000    33.000000     360.000000      42.000000   \n",
       "\n",
       "       StationPressure  HourlyPrecip  FlightDelayStatus  \n",
       "count      7861.000000   7861.000000        7861.000000  \n",
       "mean         29.779902      0.000069           1.806768  \n",
       "std           1.156824      0.002029           0.394859  \n",
       "min          25.790000      0.000000           1.000000  \n",
       "25%          30.010000      0.000000           2.000000  \n",
       "50%          30.130000      0.000000           2.000000  \n",
       "75%          30.240000      0.000000           2.000000  \n",
       "max          30.590000      0.100000           2.000000  \n",
       "\n",
       "[8 rows x 27 columns]"
      ]
     },
     "execution_count": 145,
     "metadata": {},
     "output_type": "execute_result"
    }
   ],
   "source": [
    "df.describe()"
   ]
  },
  {
   "cell_type": "code",
   "execution_count": 146,
   "id": "21ae0f90",
   "metadata": {},
   "outputs": [],
   "source": [
    "df1=pd.DataFrame(df)"
   ]
  },
  {
   "cell_type": "code",
   "execution_count": 147,
   "id": "7f39b059",
   "metadata": {},
   "outputs": [
    {
     "data": {
      "text/plain": [
       "Index(['Year', 'Month', 'DayofMonth', 'DayOfWeek', 'ScheduledDepTime',\n",
       "       'ScheduledArrTime', 'ScheduledTravelTime', 'Origin', 'Destination',\n",
       "       'Distance', 'GroundHeight', 'StationHeight', 'BarometerHeight',\n",
       "       'Latitude', 'Longitude', 'TimeZone', 'Time', 'SkyConditions',\n",
       "       'Visibility', 'DBT', 'RelativeHumidityPercent', 'WindSpeed',\n",
       "       'WindDirection', 'WindGustValue', 'StationPressure', 'HourlyPrecip',\n",
       "       'FlightDelayStatus'],\n",
       "      dtype='object')"
      ]
     },
     "execution_count": 147,
     "metadata": {},
     "output_type": "execute_result"
    }
   ],
   "source": [
    "df1.columns"
   ]
  },
  {
   "cell_type": "markdown",
   "id": "b9faed43",
   "metadata": {},
   "source": [
    "### Feature preprocessing"
   ]
  },
  {
   "cell_type": "code",
   "execution_count": 148,
   "id": "bd7109ce",
   "metadata": {},
   "outputs": [
    {
     "data": {
      "text/html": [
       "<div>\n",
       "<style scoped>\n",
       "    .dataframe tbody tr th:only-of-type {\n",
       "        vertical-align: middle;\n",
       "    }\n",
       "\n",
       "    .dataframe tbody tr th {\n",
       "        vertical-align: top;\n",
       "    }\n",
       "\n",
       "    .dataframe thead th {\n",
       "        text-align: right;\n",
       "    }\n",
       "</style>\n",
       "<table border=\"1\" class=\"dataframe\">\n",
       "  <thead>\n",
       "    <tr style=\"text-align: right;\">\n",
       "      <th></th>\n",
       "      <th>Feature</th>\n",
       "      <th>CorrCoeff</th>\n",
       "      <th>pValue</th>\n",
       "    </tr>\n",
       "  </thead>\n",
       "  <tbody>\n",
       "    <tr>\n",
       "      <th>0</th>\n",
       "      <td>RelativeHumidityPercent</td>\n",
       "      <td>0.007451</td>\n",
       "      <td>5.089020e-01</td>\n",
       "    </tr>\n",
       "    <tr>\n",
       "      <th>1</th>\n",
       "      <td>StationPressure</td>\n",
       "      <td>0.002323</td>\n",
       "      <td>8.368277e-01</td>\n",
       "    </tr>\n",
       "    <tr>\n",
       "      <th>2</th>\n",
       "      <td>Longitude</td>\n",
       "      <td>-0.000932</td>\n",
       "      <td>9.341201e-01</td>\n",
       "    </tr>\n",
       "    <tr>\n",
       "      <th>3</th>\n",
       "      <td>Latitude</td>\n",
       "      <td>-0.001918</td>\n",
       "      <td>8.649583e-01</td>\n",
       "    </tr>\n",
       "    <tr>\n",
       "      <th>4</th>\n",
       "      <td>GroundHeight</td>\n",
       "      <td>-0.002032</td>\n",
       "      <td>8.570307e-01</td>\n",
       "    </tr>\n",
       "    <tr>\n",
       "      <th>5</th>\n",
       "      <td>BarometerHeight</td>\n",
       "      <td>-0.002032</td>\n",
       "      <td>8.570307e-01</td>\n",
       "    </tr>\n",
       "    <tr>\n",
       "      <th>6</th>\n",
       "      <td>StationHeight</td>\n",
       "      <td>-0.002032</td>\n",
       "      <td>8.570307e-01</td>\n",
       "    </tr>\n",
       "    <tr>\n",
       "      <th>7</th>\n",
       "      <td>WindGustValue</td>\n",
       "      <td>-0.003077</td>\n",
       "      <td>7.850478e-01</td>\n",
       "    </tr>\n",
       "    <tr>\n",
       "      <th>8</th>\n",
       "      <td>DBT</td>\n",
       "      <td>-0.016595</td>\n",
       "      <td>1.412317e-01</td>\n",
       "    </tr>\n",
       "    <tr>\n",
       "      <th>9</th>\n",
       "      <td>HourlyPrecip</td>\n",
       "      <td>-0.018365</td>\n",
       "      <td>1.034949e-01</td>\n",
       "    </tr>\n",
       "    <tr>\n",
       "      <th>10</th>\n",
       "      <td>ScheduledArrTime</td>\n",
       "      <td>-0.038174</td>\n",
       "      <td>7.110684e-04</td>\n",
       "    </tr>\n",
       "    <tr>\n",
       "      <th>11</th>\n",
       "      <td>ScheduledDepTime</td>\n",
       "      <td>-0.061573</td>\n",
       "      <td>4.668456e-08</td>\n",
       "    </tr>\n",
       "  </tbody>\n",
       "</table>\n",
       "</div>"
      ],
      "text/plain": [
       "                    Feature  CorrCoeff        pValue\n",
       "0   RelativeHumidityPercent   0.007451  5.089020e-01\n",
       "1           StationPressure   0.002323  8.368277e-01\n",
       "2                 Longitude  -0.000932  9.341201e-01\n",
       "3                  Latitude  -0.001918  8.649583e-01\n",
       "4              GroundHeight  -0.002032  8.570307e-01\n",
       "5           BarometerHeight  -0.002032  8.570307e-01\n",
       "6             StationHeight  -0.002032  8.570307e-01\n",
       "7             WindGustValue  -0.003077  7.850478e-01\n",
       "8                       DBT  -0.016595  1.412317e-01\n",
       "9              HourlyPrecip  -0.018365  1.034949e-01\n",
       "10         ScheduledArrTime  -0.038174  7.110684e-04\n",
       "11         ScheduledDepTime  -0.061573  4.668456e-08"
      ]
     },
     "execution_count": 148,
     "metadata": {},
     "output_type": "execute_result"
    }
   ],
   "source": [
    "# get continuous and dichotomous data\n",
    "categorical = [\"Year\", \"DayofMonth\", \"Month\", \"DayOfWeek\", \"WindSpeed\",\"WindDirection\",\"Origin\", \"Destination\", \"Time\", \"TimeZone\",\"FlightDelayStatus\"]\n",
    "numeric = [ \"ScheduledArrTime\",\"ScheduledDepTime\",\"DBT\", \"RelativeHumidityPercent\", \"WindGustValue\", \"StationPressure\", \"HourlyPrecip\", \"GroundHeight\", \"StationHeight\", \"BarometerHeight\",\"Latitude\",\"Longitude\"]\n",
    "target = df1[\"FlightDelayStatus\"]\n",
    "\n",
    "# pbc of first question\n",
    "pbc = list()\n",
    "for col in numeric:\n",
    "    ans = pointbiserialr(df1[col], target)\n",
    "    pbc.append([col, ans[0], ans[1]])\n",
    "    \n",
    "pbc_corr = pd.DataFrame(pbc, columns=[\"Feature\", \"CorrCoeff\", \"pValue\"]).sort_values(by=\"CorrCoeff\", ascending=False).reset_index(drop=True)\n",
    "pbc_corr"
   ]
  },
  {
   "cell_type": "code",
   "execution_count": 149,
   "id": "87b89689",
   "metadata": {},
   "outputs": [
    {
     "data": {
      "image/png": "[encoded data removed]",
      "text/plain": [
       "<Figure size 504x360 with 2 Axes>"
      ]
     },
     "metadata": {
      "needs_background": "light"
     },
     "output_type": "display_data"
    }
   ],
   "source": [
    "plt.figure(figsize=(7, 5))\n",
    "pbc_corr = pbc_corr.set_index(\"Feature\")\n",
    "heatmap = sns.heatmap(pbc_corr[[\"CorrCoeff\"]].sort_values(by=\"CorrCoeff\", ascending=False), vmin=-1, vmax=1, annot=True, cmap=\"BrBG\")\n",
    "heatmap.set_title(\"PBC with FLIGHT_DELAY\", fontdict={\"fontsize\":18}, pad=16);\n",
    "plt.savefig(\"Img/05_02_PBC_ArrDel15.png\")\n",
    "del pbc_corr"
   ]
  },
  {
   "cell_type": "code",
   "execution_count": 150,
   "id": "ed36f4c3",
   "metadata": {},
   "outputs": [
    {
     "data": {
      "image/png": "[encoded data removed]",
      "text/plain": [
       "<Figure size 504x360 with 2 Axes>"
      ]
     },
     "metadata": {
      "needs_background": "light"
     },
     "output_type": "display_data"
    }
   ],
   "source": [
    "plt.figure(figsize=(7, 5))\n",
    "heatmap = sns.heatmap(df[categorical].corr(method=\"spearman\")[[\"FlightDelayStatus\"]].sort_values(by=\"FlightDelayStatus\", ascending=False), vmin=-1, vmax=1, annot=True, cmap=\"BrBG\")\n",
    "heatmap.set_title(\"Spearman Correlations with FlightDelayStatus\", fontdict={\"fontsize\":18}, pad=16)\n",
    "plt.savefig(\"Img/05_03_Spearman_ArrDel15.png\")\n",
    "del heatmap"
   ]
  },
  {
   "cell_type": "code",
   "execution_count": 151,
   "id": "2ad90250",
   "metadata": {
    "scrolled": true
   },
   "outputs": [
    {
     "data": {
      "text/plain": [
       "array([0.        , 0.04707203, 0.07840076, 0.04073344, 0.06900353,\n",
       "       0.06932013, 0.06644611, 0.07807185, 0.06627971, 0.07096252,\n",
       "       0.00229659, 0.00217708, 0.00214073, 0.00959493, 0.00935747,\n",
       "       0.        , 0.06515355, 0.03222331, 0.00455966, 0.05370358,\n",
       "       0.05906635, 0.0422356 , 0.04971197, 0.01554424, 0.0651499 ,\n",
       "       0.00079493])"
      ]
     },
     "execution_count": 151,
     "metadata": {},
     "output_type": "execute_result"
    }
   ],
   "source": [
    "X = df1.loc[:, df1.columns != \"FlightDelayStatus\"]\n",
    "y = np.array(df1.loc[:, df1.columns == \"FlightDelayStatus\"][\"FlightDelayStatus\"])\n",
    "\n",
    "model = RandomForestClassifier(n_estimators=100,\n",
    "                       criterion=\"entropy\", random_state=42, n_jobs=-1)\n",
    "\n",
    "model.fit(X, y)\n",
    "# joblib.dump(model, \"./Data/feature_importance_model.joblib\")\n",
    "#model = joblib.load(\".feature_importance_model.joblib\")\n",
    "importances = model.feature_importances_\n",
    "importances"
   ]
  },
  {
   "cell_type": "code",
   "execution_count": 152,
   "id": "3931736a",
   "metadata": {},
   "outputs": [
    {
     "data": {
      "image/png": "[encoded data removed]",
      "text/plain": [
       "<Figure size 640x480 with 1 Axes>"
      ]
     },
     "metadata": {
      "needs_background": "light"
     },
     "output_type": "display_data"
    }
   ],
   "source": [
    "importances = pd.DataFrame({\n",
    "    \"Feature\": list(X.columns),\n",
    "    \"Importance\": model.feature_importances_\n",
    "})\n",
    "importances = importances.sort_values(by=\"Importance\", ascending=False)\n",
    "importances = importances.set_index(\"Feature\")\n",
    "importances\n",
    "plt.figure(figsize=(8, 6), dpi=80)\n",
    "plt.barh(importances.index, importances.Importance)\n",
    "plt.title(\"Feature Importance Ranking obtained from Random Forest Classifier\", fontsize=12)\n",
    "plt.xlabel(\"Importances\")\n",
    "plt.ylabel(\"Features\")\n",
    "plt.savefig(\"Img/05_04_Feature_Importances_RFC_fin.png\")\n",
    "del importances\n",
    "del model\n",
    "del X\n",
    "del y"
   ]
  },
  {
   "cell_type": "code",
   "execution_count": 153,
   "id": "fc56901a",
   "metadata": {},
   "outputs": [
    {
     "data": {
      "text/plain": [
       "Index(['Year', 'Month', 'DayofMonth', 'DayOfWeek', 'ScheduledDepTime',\n",
       "       'ScheduledArrTime', 'ScheduledTravelTime', 'Origin', 'Destination',\n",
       "       'Distance', 'GroundHeight', 'StationHeight', 'BarometerHeight',\n",
       "       'Latitude', 'Longitude', 'TimeZone', 'Time', 'SkyConditions',\n",
       "       'Visibility', 'DBT', 'RelativeHumidityPercent', 'WindSpeed',\n",
       "       'WindDirection', 'WindGustValue', 'StationPressure', 'HourlyPrecip',\n",
       "       'FlightDelayStatus'],\n",
       "      dtype='object')"
      ]
     },
     "execution_count": 153,
     "metadata": {},
     "output_type": "execute_result"
    }
   ],
   "source": [
    "df1.columns"
   ]
  },
  {
   "cell_type": "code",
   "execution_count": 154,
   "id": "5d9ce2ab",
   "metadata": {},
   "outputs": [],
   "source": [
    "df1=df1.drop(['Year','TimeZone','HourlyPrecip','BarometerHeight','StationHeight','GroundHeight','Visibility','Latitude','Longitude',\n",
    "             'WindGustValue'],axis=1)"
   ]
  },
  {
   "cell_type": "code",
   "execution_count": 155,
   "id": "3dae4bdd",
   "metadata": {},
   "outputs": [
    {
     "data": {
      "text/plain": [
       "<AxesSubplot:>"
      ]
     },
     "execution_count": 155,
     "metadata": {},
     "output_type": "execute_result"
    },
    {
     "data": {
      "image/png": "[encoded data removed]",
      "text/plain": [
       "<Figure size 648x576 with 2 Axes>"
      ]
     },
     "metadata": {
      "needs_background": "light"
     },
     "output_type": "display_data"
    }
   ],
   "source": [
    "corrmat = df1.corr()\n",
    "\n",
    "f, ax = plt.subplots(figsize =(9, 8))\n",
    "sns.heatmap(corrmat, ax = ax, cmap =\"YlGnBu\", linewidths = 0.1)\n"
   ]
  },
  {
   "cell_type": "code",
   "execution_count": 156,
   "id": "79021564",
   "metadata": {},
   "outputs": [
    {
     "data": {
      "text/plain": [
       "array([0.04799703, 0.08503623, 0.03955529, 0.07068239, 0.07238355,\n",
       "       0.06764067, 0.08212056, 0.07119052, 0.07367455, 0.06928859,\n",
       "       0.03209159, 0.05791794, 0.06235405, 0.04561001, 0.05184738,\n",
       "       0.07060966])"
      ]
     },
     "execution_count": 156,
     "metadata": {},
     "output_type": "execute_result"
    }
   ],
   "source": [
    "X = df1.loc[:, df1.columns != \"FlightDelayStatus\"]\n",
    "y = np.array(df1.loc[:, df1.columns == \"FlightDelayStatus\"][\"FlightDelayStatus\"])\n",
    "\n",
    "model = RandomForestClassifier(n_estimators=100,\n",
    "                       criterion=\"entropy\", random_state=42, n_jobs=-1)\n",
    "\n",
    "model.fit(X, y)\n",
    "# joblib.dump(model, \"./Data/feature_importance_model.joblib\")\n",
    "#model = joblib.load(\".feature_importance_model.joblib\")\n",
    "importances = model.feature_importances_\n",
    "importances"
   ]
  },
  {
   "cell_type": "code",
   "execution_count": 157,
   "id": "490d0c5a",
   "metadata": {},
   "outputs": [
    {
     "data": {
      "image/png": "[encoded data removed]",
      "text/plain": [
       "<Figure size 640x480 with 1 Axes>"
      ]
     },
     "metadata": {
      "needs_background": "light"
     },
     "output_type": "display_data"
    }
   ],
   "source": [
    "importances = pd.DataFrame({\n",
    "    \"Feature\": list(X.columns),\n",
    "    \"Importance\": model.feature_importances_\n",
    "})\n",
    "importances = importances.sort_values(by=\"Importance\", ascending=False)\n",
    "importances = importances.set_index(\"Feature\")\n",
    "importances\n",
    "plt.figure(figsize=(8, 6), dpi=80)\n",
    "plt.barh(importances.index, importances.Importance)\n",
    "plt.title(\"Feature Importance Ranking obtained from Random Forest Classifier\", fontsize=12)\n",
    "plt.xlabel(\"Importances\")\n",
    "plt.ylabel(\"Features\")\n",
    "plt.savefig(\"Img/05_04_Feature_Importances_RFC_fin.png\")\n",
    "del importances\n",
    "del model\n",
    "del X\n",
    "del y"
   ]
  },
  {
   "cell_type": "code",
   "execution_count": 158,
   "id": "faa01dc3",
   "metadata": {},
   "outputs": [
    {
     "data": {
      "text/plain": [
       "Index(['Month', 'DayofMonth', 'DayOfWeek', 'ScheduledDepTime',\n",
       "       'ScheduledArrTime', 'ScheduledTravelTime', 'Origin', 'Destination',\n",
       "       'Distance', 'Time', 'SkyConditions', 'DBT', 'RelativeHumidityPercent',\n",
       "       'WindSpeed', 'WindDirection', 'StationPressure', 'FlightDelayStatus'],\n",
       "      dtype='object')"
      ]
     },
     "execution_count": 158,
     "metadata": {},
     "output_type": "execute_result"
    }
   ],
   "source": [
    "df1.columns"
   ]
  },
  {
   "cell_type": "code",
   "execution_count": 159,
   "id": "5e17c3df",
   "metadata": {},
   "outputs": [
    {
     "name": "stdout",
     "output_type": "stream",
     "text": [
      "Index(['Month', 'DayofMonth', 'DayOfWeek', 'ScheduledDepTime',\n",
      "       'ScheduledArrTime', 'ScheduledTravelTime', 'Origin', 'Destination',\n",
      "       'Distance', 'Time', 'SkyConditions', 'DBT', 'RelativeHumidityPercent',\n",
      "       'WindSpeed', 'WindDirection', 'StationPressure'],\n",
      "      dtype='object')\n"
     ]
    }
   ],
   "source": [
    "# Encode the names of the 15 airports which are strings into a number range: 0 - 14\n",
    "labelEncoder = LabelEncoder()\n",
    "df1[\"Origin\"] = labelEncoder.fit_transform(df1[\"Origin\"])\n",
    "df1[\"Destination\"] = labelEncoder.fit_transform(df1[\"Destination\"])\n",
    "features = df1.loc[:, df1.columns != \"FlightDelayStatus\"]\n",
    "labels = np.asarray(df1[\"FlightDelayStatus\"])\n",
    "print(features.columns)"
   ]
  },
  {
   "cell_type": "code",
   "execution_count": 160,
   "id": "cbbe8633",
   "metadata": {},
   "outputs": [
    {
     "name": "stdout",
     "output_type": "stream",
     "text": [
      "\n",
      "Dataset shape: (7861, 17)\n",
      "features_train shape: (6288, 16) | features_test shape: (1573, 16)\n",
      "labels_train shape: (6288,) | labels_test shape: (1573,)\n"
     ]
    }
   ],
   "source": [
    "# Number of samples/observations/rows is greater than 100,000\n",
    "print(f\"\\nDataset shape: {df1.shape}\")\n",
    "features_train, features_test, labels_train, labels_test = train_test_split(features, labels, test_size=0.20, random_state=42)\n",
    "print(f\"features_train shape: {features_train.shape} | features_test shape: {features_test.shape}\")\n",
    "print(f\"labels_train shape: {labels_train.shape} | labels_test shape: {labels_test.shape}\")\n",
    "# print(f\"{features_train.shape[1]} Features: {features_train.columns.to_list()}\")\n",
    "# df1.to_csv(\"Data/flight_and_weather_encoded.csv\")"
   ]
  },
  {
   "cell_type": "markdown",
   "id": "3cc6716e",
   "metadata": {},
   "source": [
    "# Random Over Sampling to Handle Imbalance"
   ]
  },
  {
   "cell_type": "code",
   "execution_count": 161,
   "id": "9456caf7",
   "metadata": {},
   "outputs": [
    {
     "data": {
      "image/png": "[encoded data removed]",
      "text/plain": [
       "<Figure size 432x288 with 1 Axes>"
      ]
     },
     "metadata": {
      "needs_background": "light"
     },
     "output_type": "display_data"
    },
    {
     "name": "stdout",
     "output_type": "stream",
     "text": [
      "2    5094\n",
      "1    1194\n",
      "dtype: int64\n"
     ]
    }
   ],
   "source": [
    "# Plotting the percentage of observations that fall under each class\n",
    "ax = pd.DataFrame(labels_train).value_counts().sort_values().plot(kind=\"barh\", color=[\"r\", \"g\"])\n",
    "ax.set_axisbelow(True)\n",
    "ax.grid()\n",
    "totals= []\n",
    "for i in ax.patches:\n",
    "    totals.append(i.get_width())\n",
    "total = sum(totals)\n",
    "for i in ax.patches:\n",
    "     ax.text(i.get_width()+.3, i.get_y()+.20, \n",
    "     str(round((i.get_width()/total)*100, 2))+'%', \n",
    "     fontsize=10, color='black')\n",
    "plt.title(\"FlightDelayStatus\", fontsize=20)\n",
    "plt.xlabel(\"Count\", fontsize=14)\n",
    "plt.ylabel(\"Class\", fontsize=14)\n",
    "plt.show()\n",
    "print(pd.DataFrame(labels_train).value_counts())\n",
    "fig = ax.get_figure()\n",
    "fig.savefig(\"Img/08_02_Training_ArrDel15_Class_Imbalance.png\")"
   ]
  },
  {
   "cell_type": "code",
   "execution_count": 162,
   "id": "9130cf8b",
   "metadata": {},
   "outputs": [],
   "source": [
    "# Imbalanced dataset helpers\n",
    "from imblearn.over_sampling import RandomOverSampler\n",
    "ros = RandomOverSampler(random_state=42)\n",
    "features_train, labels_train = ros.fit_resample(features_train, labels_train)"
   ]
  },
  {
   "cell_type": "code",
   "execution_count": 163,
   "id": "510e2bc5",
   "metadata": {},
   "outputs": [
    {
     "data": {
      "image/png": "[encoded data removed]",
      "text/plain": [
       "<Figure size 432x288 with 1 Axes>"
      ]
     },
     "metadata": {
      "needs_background": "light"
     },
     "output_type": "display_data"
    },
    {
     "name": "stdout",
     "output_type": "stream",
     "text": [
      "1    5094\n",
      "2    5094\n",
      "dtype: int64\n"
     ]
    }
   ],
   "source": [
    "# Plotting the percentage of observations that fall under each class\n",
    "ax = pd.DataFrame(labels_train).value_counts().sort_values().plot(kind=\"barh\", color=[\"r\", \"g\"])\n",
    "ax.set_axisbelow(True)\n",
    "ax.grid()\n",
    "totals= []\n",
    "for i in ax.patches:\n",
    "    totals.append(i.get_width())\n",
    "total = sum(totals)\n",
    "for i in ax.patches:\n",
    "     ax.text(i.get_width()+.3, i.get_y()+.20, \n",
    "     str(round((i.get_width()/total)*100, 2))+'%', \n",
    "     fontsize=10, color='black')\n",
    "plt.title(\"FlightDelayStatus\", fontsize=20)\n",
    "plt.xlabel(\"Count\", fontsize=14)\n",
    "plt.ylabel(\"Class\", fontsize=14)\n",
    "plt.show()\n",
    "print(pd.DataFrame(labels_train).value_counts())\n",
    "fig = ax.get_figure()\n",
    "fig.savefig(\"Img/08_03_RandomOverSampling_Training_ArrDel15_Class.png\")"
   ]
  },
  {
   "cell_type": "markdown",
   "id": "544d4bbe",
   "metadata": {},
   "source": [
    "predicted after oversampling and removing less important feature"
   ]
  },
  {
   "cell_type": "raw",
   "id": "dae86099",
   "metadata": {},
   "source": [
    "cross validation"
   ]
  },
  {
   "cell_type": "code",
   "execution_count": 164,
   "id": "311b0db6",
   "metadata": {},
   "outputs": [
    {
     "data": {
      "text/html": [
       "<style>#sk-container-id-4 {color: black;background-color: white;}#sk-container-id-4 pre{padding: 0;}#sk-container-id-4 div.sk-toggleable {background-color: white;}#sk-container-id-4 label.sk-toggleable__label {cursor: pointer;display: block;width: 100%;margin-bottom: 0;padding: 0.3em;box-sizing: border-box;text-align: center;}#sk-container-id-4 label.sk-toggleable__label-arrow:before {content: \"▸\";float: left;margin-right: 0.25em;color: #696969;}#sk-container-id-4 label.sk-toggleable__label-arrow:hover:before {color: black;}#sk-container-id-4 div.sk-estimator:hover label.sk-toggleable__label-arrow:before {color: black;}#sk-container-id-4 div.sk-toggleable__content {max-height: 0;max-width: 0;overflow: hidden;text-align: left;background-color: #f0f8ff;}#sk-container-id-4 div.sk-toggleable__content pre {margin: 0.2em;color: black;border-radius: 0.25em;background-color: #f0f8ff;}#sk-container-id-4 input.sk-toggleable__control:checked~div.sk-toggleable__content {max-height: 200px;max-width: 100%;overflow: auto;}#sk-container-id-4 input.sk-toggleable__control:checked~label.sk-toggleable__label-arrow:before {content: \"▾\";}#sk-container-id-4 div.sk-estimator input.sk-toggleable__control:checked~label.sk-toggleable__label {background-color: #d4ebff;}#sk-container-id-4 div.sk-label input.sk-toggleable__control:checked~label.sk-toggleable__label {background-color: #d4ebff;}#sk-container-id-4 input.sk-hidden--visually {border: 0;clip: rect(1px 1px 1px 1px);clip: rect(1px, 1px, 1px, 1px);height: 1px;margin: -1px;overflow: hidden;padding: 0;position: absolute;width: 1px;}#sk-container-id-4 div.sk-estimator {font-family: monospace;background-color: #f0f8ff;border: 1px dotted black;border-radius: 0.25em;box-sizing: border-box;margin-bottom: 0.5em;}#sk-container-id-4 div.sk-estimator:hover {background-color: #d4ebff;}#sk-container-id-4 div.sk-parallel-item::after {content: \"\";width: 100%;border-bottom: 1px solid gray;flex-grow: 1;}#sk-container-id-4 div.sk-label:hover label.sk-toggleable__label {background-color: #d4ebff;}#sk-container-id-4 div.sk-serial::before {content: \"\";position: absolute;border-left: 1px solid gray;box-sizing: border-box;top: 0;bottom: 0;left: 50%;z-index: 0;}#sk-container-id-4 div.sk-serial {display: flex;flex-direction: column;align-items: center;background-color: white;padding-right: 0.2em;padding-left: 0.2em;position: relative;}#sk-container-id-4 div.sk-item {position: relative;z-index: 1;}#sk-container-id-4 div.sk-parallel {display: flex;align-items: stretch;justify-content: center;background-color: white;position: relative;}#sk-container-id-4 div.sk-item::before, #sk-container-id-4 div.sk-parallel-item::before {content: \"\";position: absolute;border-left: 1px solid gray;box-sizing: border-box;top: 0;bottom: 0;left: 50%;z-index: -1;}#sk-container-id-4 div.sk-parallel-item {display: flex;flex-direction: column;z-index: 1;position: relative;background-color: white;}#sk-container-id-4 div.sk-parallel-item:first-child::after {align-self: flex-end;width: 50%;}#sk-container-id-4 div.sk-parallel-item:last-child::after {align-self: flex-start;width: 50%;}#sk-container-id-4 div.sk-parallel-item:only-child::after {width: 0;}#sk-container-id-4 div.sk-dashed-wrapped {border: 1px dashed gray;margin: 0 0.4em 0.5em 0.4em;box-sizing: border-box;padding-bottom: 0.4em;background-color: white;}#sk-container-id-4 div.sk-label label {font-family: monospace;font-weight: bold;display: inline-block;line-height: 1.2em;}#sk-container-id-4 div.sk-label-container {text-align: center;}#sk-container-id-4 div.sk-container {/* jupyter's `normalize.less` sets `[hidden] { display: none; }` but bootstrap.min.css set `[hidden] { display: none !important; }` so we also need the `!important` here to be able to override the default hidden behavior on the sphinx rendered scikit-learn.org. See: https://github.com/scikit-learn/scikit-learn/issues/21755 */display: inline-block !important;position: relative;}#sk-container-id-4 div.sk-text-repr-fallback {display: none;}</style><div id=\"sk-container-id-4\" class=\"sk-top-container\"><div class=\"sk-text-repr-fallback\"><pre>SVC(random_state=0)</pre><b>In a Jupyter environment, please rerun this cell to show the HTML representation or trust the notebook. <br />On GitHub, the HTML representation is unable to render, please try loading this page with nbviewer.org.</b></div><div class=\"sk-container\" hidden><div class=\"sk-item\"><div class=\"sk-estimator sk-toggleable\"><input class=\"sk-toggleable__control sk-hidden--visually\" id=\"sk-estimator-id-4\" type=\"checkbox\" checked><label for=\"sk-estimator-id-4\" class=\"sk-toggleable__label sk-toggleable__label-arrow\">SVC</label><div class=\"sk-toggleable__content\"><pre>SVC(random_state=0)</pre></div></div></div></div></div>"
      ],
      "text/plain": [
       "SVC(random_state=0)"
      ]
     },
     "execution_count": 164,
     "metadata": {},
     "output_type": "execute_result"
    }
   ],
   "source": [
    "# Fitting Kernel SVM to the Training set\n",
    "from sklearn.svm import SVC\n",
    "classi= SVC(kernel = 'rbf', random_state = 0)\n",
    "classi.fit(features_train, labels_train)\n"
   ]
  },
  {
   "cell_type": "code",
   "execution_count": 165,
   "id": "57546b14",
   "metadata": {},
   "outputs": [],
   "source": [
    "# Applying k-Fold Cross Validation\n",
    "from sklearn.model_selection import cross_val_score\n",
    "accuracies = cross_val_score( classi, features_train,labels_train, cv = 10)"
   ]
  },
  {
   "cell_type": "code",
   "execution_count": 166,
   "id": "9046a12f",
   "metadata": {},
   "outputs": [
    {
     "data": {
      "text/plain": [
       "0.5902962571649466"
      ]
     },
     "execution_count": 166,
     "metadata": {},
     "output_type": "execute_result"
    }
   ],
   "source": [
    "# Calculating the mean  and Standard Deviation of the 'Accuracy' Metric\n",
    "accuracies.mean()\n",
    "#accuracies.std()"
   ]
  },
  {
   "cell_type": "code",
   "execution_count": 167,
   "id": "a8c41646",
   "metadata": {},
   "outputs": [
    {
     "data": {
      "text/plain": [
       "0.023395954074753485"
      ]
     },
     "execution_count": 167,
     "metadata": {},
     "output_type": "execute_result"
    }
   ],
   "source": [
    "accuracies.std()"
   ]
  },
  {
   "cell_type": "markdown",
   "id": "c7a6873c",
   "metadata": {},
   "source": [
    "### Ensemble ML algorithms"
   ]
  },
  {
   "cell_type": "code",
   "execution_count": 168,
   "id": "40e98da8",
   "metadata": {},
   "outputs": [
    {
     "data": {
      "text/plain": [
       "(7861, 17)"
      ]
     },
     "execution_count": 168,
     "metadata": {},
     "output_type": "execute_result"
    }
   ],
   "source": [
    "df1.shape"
   ]
  },
  {
   "cell_type": "code",
   "execution_count": 169,
   "id": "5a3c5631",
   "metadata": {},
   "outputs": [],
   "source": [
    "from sklearn.metrics import confusion_matrix, accuracy_score, classification_report\n",
    "import seaborn as sns\n",
    "\n",
    "def evaluate(model, features_train, features_test, labels_train, labels_test):\n",
    "    labels_test_pred = model.predict(features_test)\n",
    "    labels_train_pred = model.predict(features_train)\n",
    "\n",
    "    print(\"TRAINIG RESULTS: \\n===============================\")\n",
    "    clf_report = pd.DataFrame(classification_report(labels_train, labels_train_pred, output_dict=True))\n",
    "    print(f\"CONFUSION MATRIX:\\n{confusion_matrix(labels_train, labels_train_pred)}\")   \n",
    "    print(f\"ACCURACY SCORE:\\n{accuracy_score(labels_train, labels_train_pred):.4f}\")\n",
    "    print(f\"CLASSIFICATION REPORT:\\n{clf_report}\")\n",
    "\n",
    "    \n",
    "    print(\"TESTING RESULTS: \\n===============================\")\n",
    "    clf_report = pd.DataFrame(classification_report(labels_test, labels_test_pred, output_dict=True))\n",
    "    print(f\"CONFUSION MATRIX:\\n{confusion_matrix(labels_test, labels_test_pred)}\")\n",
    "    print(f\"ACCURACY SCORE:\\n{accuracy_score(labels_test, labels_test_pred):.4f}\")\n",
    "    print(f\"CLASSIFICATION REPORT:\\n{clf_report}\")\n",
    "    \n"
   ]
  },
  {
   "cell_type": "markdown",
   "id": "ffb98e06",
   "metadata": {},
   "source": [
    "### Bagging classifier"
   ]
  },
  {
   "cell_type": "code",
   "execution_count": 170,
   "id": "aa1521e6",
   "metadata": {},
   "outputs": [
    {
     "name": "stdout",
     "output_type": "stream",
     "text": [
      "TRAINIG RESULTS: \n",
      "===============================\n",
      "CONFUSION MATRIX:\n",
      "[[5094    0]\n",
      " [   0 5094]]\n",
      "ACCURACY SCORE:\n",
      "1.0000\n",
      "CLASSIFICATION REPORT:\n",
      "                1       2  accuracy  macro avg  weighted avg\n",
      "precision     1.0     1.0       1.0        1.0           1.0\n",
      "recall        1.0     1.0       1.0        1.0           1.0\n",
      "f1-score      1.0     1.0       1.0        1.0           1.0\n",
      "support    5094.0  5094.0       1.0    10188.0       10188.0\n",
      "TESTING RESULTS: \n",
      "===============================\n",
      "CONFUSION MATRIX:\n",
      "[[  71  254]\n",
      " [  69 1179]]\n",
      "ACCURACY SCORE:\n",
      "0.7947\n",
      "CLASSIFICATION REPORT:\n",
      "                    1            2  accuracy    macro avg  weighted avg\n",
      "precision    0.507143     0.822749   0.79466     0.664946      0.757541\n",
      "recall       0.218462     0.944712   0.79466     0.581587      0.794660\n",
      "f1-score     0.305376     0.879523   0.79466     0.592449      0.760897\n",
      "support    325.000000  1248.000000   0.79466  1573.000000   1573.000000\n"
     ]
    }
   ],
   "source": [
    "from sklearn.ensemble import BaggingClassifier\n",
    "from sklearn.tree import DecisionTreeClassifier\n",
    "\n",
    "tree = DecisionTreeClassifier()\n",
    "bagging_clf = BaggingClassifier(base_estimator=tree, n_estimators=400, random_state=42)\n",
    "bagging_clf.fit(features_train, labels_train)\n",
    "\n",
    "# Applying k-Fold Cross Validation\n",
    "from sklearn.model_selection import cross_val_score\n",
    "accuracies = cross_val_score(estimator = bagging_clf, X = features_train, y = labels_train, cv = 10)\n",
    "accuracies.mean()\n",
    "accuracies.std()\n",
    "\n",
    "evaluate(bagging_clf, features_train, features_test, labels_train, labels_test)"
   ]
  },
  {
   "cell_type": "code",
   "execution_count": 171,
   "id": "a9506671",
   "metadata": {},
   "outputs": [
    {
     "data": {
      "text/plain": [
       "0.9638793184889843"
      ]
     },
     "execution_count": 171,
     "metadata": {},
     "output_type": "execute_result"
    }
   ],
   "source": [
    "accuracies.mean()\n"
   ]
  },
  {
   "cell_type": "code",
   "execution_count": 172,
   "id": "17fc213e",
   "metadata": {},
   "outputs": [
    {
     "data": {
      "text/plain": [
       "0.008347283211336428"
      ]
     },
     "execution_count": 172,
     "metadata": {},
     "output_type": "execute_result"
    }
   ],
   "source": [
    "accuracies.std()\n"
   ]
  },
  {
   "cell_type": "code",
   "execution_count": 173,
   "id": "9db8fe9c",
   "metadata": {},
   "outputs": [],
   "source": [
    "scores = {\n",
    "    'Bagging Classifier': {\n",
    "        'Train': accuracy_score(labels_train, bagging_clf.predict(features_train)),\n",
    "        'Test': accuracy_score(labels_test, bagging_clf.predict(features_test)),\n",
    "    },\n",
    "}"
   ]
  },
  {
   "cell_type": "markdown",
   "id": "f50f602d",
   "metadata": {},
   "source": [
    "### RandomForest classifier"
   ]
  },
  {
   "cell_type": "code",
   "execution_count": 174,
   "id": "72317463",
   "metadata": {},
   "outputs": [
    {
     "name": "stdout",
     "output_type": "stream",
     "text": [
      "TRAINIG RESULTS: \n",
      "===============================\n",
      "CONFUSION MATRIX:\n",
      "[[5094    0]\n",
      " [   0 5094]]\n",
      "ACCURACY SCORE:\n",
      "1.0000\n",
      "CLASSIFICATION REPORT:\n",
      "                1       2  accuracy  macro avg  weighted avg\n",
      "precision     1.0     1.0       1.0        1.0           1.0\n",
      "recall        1.0     1.0       1.0        1.0           1.0\n",
      "f1-score      1.0     1.0       1.0        1.0           1.0\n",
      "support    5094.0  5094.0       1.0    10188.0       10188.0\n",
      "TESTING RESULTS: \n",
      "===============================\n",
      "CONFUSION MATRIX:\n",
      "[[  45  280]\n",
      " [  36 1212]]\n",
      "ACCURACY SCORE:\n",
      "0.7991\n",
      "CLASSIFICATION REPORT:\n",
      "                    1            2  accuracy    macro avg  weighted avg\n",
      "precision    0.555556     0.812332   0.79911     0.683944      0.759279\n",
      "recall       0.138462     0.971154   0.79911     0.554808      0.799110\n",
      "f1-score     0.221675     0.884672   0.79911     0.553173      0.747689\n",
      "support    325.000000  1248.000000   0.79911  1573.000000   1573.000000\n",
      "mean=accuracies1.mean()\n",
      "std=accuracies1.std()\n"
     ]
    }
   ],
   "source": [
    "from sklearn.ensemble import RandomForestClassifier\n",
    "\n",
    "rf_clf = RandomForestClassifier(random_state=42, n_estimators=500)\n",
    "rf_clf.fit(features_train, labels_train)\n",
    "evaluate(rf_clf, features_train, features_test, labels_train, labels_test)\n",
    "\n",
    "# Applying k-Fold Cross Validation\n",
    "from sklearn.model_selection import cross_val_score\n",
    "accuracies1 = cross_val_score(estimator = rf_clf, X = features_train, y = labels_train, cv = 10)\n",
    "print('mean=accuracies1.mean()')\n",
    "print('std=accuracies1.std()')"
   ]
  },
  {
   "cell_type": "code",
   "execution_count": 175,
   "id": "2b99ee7e",
   "metadata": {},
   "outputs": [
    {
     "data": {
      "text/plain": [
       "0.9789952590370389"
      ]
     },
     "execution_count": 175,
     "metadata": {},
     "output_type": "execute_result"
    }
   ],
   "source": [
    "accuracies1.mean()"
   ]
  },
  {
   "cell_type": "code",
   "execution_count": 176,
   "id": "b4e7d825",
   "metadata": {},
   "outputs": [
    {
     "data": {
      "text/plain": [
       "0.007449610089597441"
      ]
     },
     "execution_count": 176,
     "metadata": {},
     "output_type": "execute_result"
    }
   ],
   "source": [
    "accuracies1.std()"
   ]
  },
  {
   "cell_type": "code",
   "execution_count": 177,
   "id": "2f523b11",
   "metadata": {},
   "outputs": [],
   "source": [
    "scores['Random Forest'] = {\n",
    "        'Train': accuracy_score(labels_train, rf_clf.predict(features_train)),\n",
    "        'Test': accuracy_score(labels_test, rf_clf.predict(features_test)),\n",
    "    }"
   ]
  },
  {
   "cell_type": "markdown",
   "id": "a066fa31",
   "metadata": {},
   "source": [
    "### ExtraTrees Classifier"
   ]
  },
  {
   "cell_type": "code",
   "execution_count": 178,
   "id": "6efe347f",
   "metadata": {},
   "outputs": [
    {
     "name": "stdout",
     "output_type": "stream",
     "text": [
      "TRAINIG RESULTS: \n",
      "===============================\n",
      "CONFUSION MATRIX:\n",
      "[[5094    0]\n",
      " [   0 5094]]\n",
      "ACCURACY SCORE:\n",
      "1.0000\n",
      "CLASSIFICATION REPORT:\n",
      "                1       2  accuracy  macro avg  weighted avg\n",
      "precision     1.0     1.0       1.0        1.0           1.0\n",
      "recall        1.0     1.0       1.0        1.0           1.0\n",
      "f1-score      1.0     1.0       1.0        1.0           1.0\n",
      "support    5094.0  5094.0       1.0    10188.0       10188.0\n",
      "TESTING RESULTS: \n",
      "===============================\n",
      "CONFUSION MATRIX:\n",
      "[[  29  296]\n",
      " [  11 1237]]\n",
      "ACCURACY SCORE:\n",
      "0.8048\n",
      "CLASSIFICATION REPORT:\n",
      "                    1            2  accuracy    macro avg  weighted avg\n",
      "precision    0.725000     0.806915  0.804832     0.765957      0.789990\n",
      "recall       0.089231     0.991186  0.804832     0.540208      0.804832\n",
      "f1-score     0.158904     0.889608  0.804832     0.524256      0.738636\n",
      "support    325.000000  1248.000000  0.804832  1573.000000   1573.000000\n"
     ]
    },
    {
     "data": {
      "text/plain": [
       "0.01002710473934203"
      ]
     },
     "execution_count": 178,
     "metadata": {},
     "output_type": "execute_result"
    }
   ],
   "source": [
    "from sklearn.ensemble import ExtraTreesClassifier\n",
    "\n",
    "ex_tree_clf = ExtraTreesClassifier(n_estimators=1000, max_features=7, random_state=42)\n",
    "ex_tree_clf.fit(features_train, labels_train)\n",
    "evaluate(ex_tree_clf,features_train, features_test, labels_train, labels_test)\n",
    "\n",
    "# Applying k-Fold Cross Validation\n",
    "from sklearn.model_selection import cross_val_score\n",
    "accuracy = cross_val_score(estimator = ex_tree_clf, X = features_train, y = labels_train, cv = 10)\n",
    "accuracy.mean()\n",
    "accuracy.std()"
   ]
  },
  {
   "cell_type": "code",
   "execution_count": 179,
   "id": "afb572e1",
   "metadata": {},
   "outputs": [
    {
     "data": {
      "text/plain": [
       "0.9889093471584107"
      ]
     },
     "execution_count": 179,
     "metadata": {},
     "output_type": "execute_result"
    }
   ],
   "source": [
    "accuracy.mean()"
   ]
  },
  {
   "cell_type": "code",
   "execution_count": 180,
   "id": "47835810",
   "metadata": {},
   "outputs": [
    {
     "data": {
      "text/plain": [
       "0.01002710473934203"
      ]
     },
     "execution_count": 180,
     "metadata": {},
     "output_type": "execute_result"
    }
   ],
   "source": [
    "accuracy.std()"
   ]
  },
  {
   "cell_type": "code",
   "execution_count": 181,
   "id": "27afdaad",
   "metadata": {},
   "outputs": [],
   "source": [
    "scores['Extra Tree'] = {\n",
    "        'Train': accuracy_score(labels_train, ex_tree_clf.predict(features_train)),\n",
    "        'Test': accuracy_score(labels_test, ex_tree_clf.predict(features_test)),\n",
    "    }"
   ]
  },
  {
   "cell_type": "markdown",
   "id": "afeaedd4",
   "metadata": {},
   "source": [
    "### Boosting Algorithms"
   ]
  },
  {
   "cell_type": "code",
   "execution_count": 182,
   "id": "ce06de50",
   "metadata": {},
   "outputs": [
    {
     "name": "stdout",
     "output_type": "stream",
     "text": [
      "TRAINIG RESULTS: \n",
      "===============================\n",
      "CONFUSION MATRIX:\n",
      "[[3848 1246]\n",
      " [1319 3775]]\n",
      "ACCURACY SCORE:\n",
      "0.7482\n",
      "CLASSIFICATION REPORT:\n",
      "                     1            2  accuracy     macro avg  weighted avg\n",
      "precision     0.744726     0.751842  0.748233      0.748284      0.748284\n",
      "recall        0.755399     0.741068  0.748233      0.748233      0.748233\n",
      "f1-score      0.750024     0.746416  0.748233      0.748220      0.748220\n",
      "support    5094.000000  5094.000000  0.748233  10188.000000  10188.000000\n",
      "TESTING RESULTS: \n",
      "===============================\n",
      "CONFUSION MATRIX:\n",
      "[[181 144]\n",
      " [344 904]]\n",
      "ACCURACY SCORE:\n",
      "0.6898\n",
      "CLASSIFICATION REPORT:\n",
      "                    1            2  accuracy    macro avg  weighted avg\n",
      "precision    0.344762     0.862595  0.689765     0.603679      0.755605\n",
      "recall       0.556923     0.724359  0.689765     0.640641      0.689765\n",
      "f1-score     0.425882     0.787456  0.689765     0.606669      0.712751\n",
      "support    325.000000  1248.000000  0.689765  1573.000000   1573.000000\n"
     ]
    }
   ],
   "source": [
    "from sklearn.ensemble import AdaBoostClassifier\n",
    "\n",
    "ada_boost_clf = AdaBoostClassifier(n_estimators=830)\n",
    "ada_boost_clf.fit(features_train, labels_train)\n",
    "evaluate(ada_boost_clf, features_train, features_test, labels_train, labels_test)\n",
    "\n",
    "# Applying k-Fold Cross Validation\n",
    "from sklearn.model_selection import cross_val_score\n",
    "accuracies1 = cross_val_score(estimator = ada_boost_clf, X = features_train, y = labels_train, cv = 10)\n",
    "mean=accuracies.mean()\n",
    "std=accuracies.std()\n"
   ]
  },
  {
   "cell_type": "code",
   "execution_count": 183,
   "id": "062e1ee8",
   "metadata": {},
   "outputs": [
    {
     "data": {
      "text/plain": [
       "0.7157413851940826"
      ]
     },
     "execution_count": 183,
     "metadata": {},
     "output_type": "execute_result"
    }
   ],
   "source": [
    "mean=accuracies1.mean()\n",
    "mean"
   ]
  },
  {
   "cell_type": "code",
   "execution_count": 184,
   "id": "af031589",
   "metadata": {},
   "outputs": [
    {
     "data": {
      "text/plain": [
       "0.010681160592131075"
      ]
     },
     "execution_count": 184,
     "metadata": {},
     "output_type": "execute_result"
    }
   ],
   "source": [
    "std=accuracies1.std()\n",
    "std"
   ]
  },
  {
   "cell_type": "code",
   "execution_count": 185,
   "id": "874d558b",
   "metadata": {},
   "outputs": [],
   "source": [
    "scores['AdaBoost'] = {\n",
    "        'Train': accuracy_score(labels_train, ada_boost_clf.predict(features_train)),\n",
    "        'Test': accuracy_score(labels_test, ada_boost_clf.predict(features_test)),\n",
    "    }"
   ]
  },
  {
   "cell_type": "markdown",
   "id": "06e0c3e1",
   "metadata": {},
   "source": [
    "### Gradient Boosting Classifier"
   ]
  },
  {
   "cell_type": "code",
   "execution_count": 186,
   "id": "9a959627",
   "metadata": {},
   "outputs": [
    {
     "name": "stdout",
     "output_type": "stream",
     "text": [
      "TRAINIG RESULTS: \n",
      "===============================\n",
      "CONFUSION MATRIX:\n",
      "[[3799 1295]\n",
      " [1374 3720]]\n",
      "ACCURACY SCORE:\n",
      "0.7380\n",
      "CLASSIFICATION REPORT:\n",
      "                     1            2  accuracy     macro avg  weighted avg\n",
      "precision     0.734390     0.741775  0.738025      0.738082      0.738082\n",
      "recall        0.745779     0.730271  0.738025      0.738025      0.738025\n",
      "f1-score      0.740041     0.735978  0.738025      0.738009      0.738009\n",
      "support    5094.000000  5094.000000  0.738025  10188.000000  10188.000000\n",
      "TESTING RESULTS: \n",
      "===============================\n",
      "CONFUSION MATRIX:\n",
      "[[198 127]\n",
      " [342 906]]\n",
      "ACCURACY SCORE:\n",
      "0.7018\n",
      "CLASSIFICATION REPORT:\n",
      "                    1            2  accuracy    macro avg  weighted avg\n",
      "precision    0.366667     0.877057  0.701844     0.621862      0.771605\n",
      "recall       0.609231     0.725962  0.701844     0.667596      0.701844\n",
      "f1-score     0.457803     0.794388  0.701844     0.626096      0.724846\n",
      "support    325.000000  1248.000000  0.701844  1573.000000   1573.000000\n"
     ]
    }
   ],
   "source": [
    "from sklearn.ensemble import GradientBoostingClassifier\n",
    "\n",
    "grad_boost_clf = GradientBoostingClassifier(n_estimators=100, random_state=42)\n",
    "grad_boost_clf.fit(features_train, labels_train)\n",
    "evaluate(grad_boost_clf,features_train, features_test, labels_train, labels_test)\n",
    "\n",
    "# Applying k-Fold Cross Validation\n",
    "from sklearn.model_selection import cross_val_score\n",
    "accuracies1 = cross_val_score(estimator = grad_boost_clf, X = features_train, y = labels_train, cv = 10)\n",
    "mean=accuracies.mean()\n",
    "std=accuracies.std()\n"
   ]
  },
  {
   "cell_type": "code",
   "execution_count": 187,
   "id": "f816b3cb",
   "metadata": {},
   "outputs": [],
   "source": [
    "scores['Gradient Boosting'] = {\n",
    "        'Train': accuracy_score(labels_train, grad_boost_clf.predict(features_train)),\n",
    "        'Test': accuracy_score(labels_test, grad_boost_clf.predict(features_test)),\n",
    "    }"
   ]
  },
  {
   "cell_type": "markdown",
   "id": "06bc1418",
   "metadata": {},
   "source": [
    "### Voting classifier"
   ]
  },
  {
   "cell_type": "code",
   "execution_count": 188,
   "id": "4edcba9d",
   "metadata": {},
   "outputs": [
    {
     "name": "stdout",
     "output_type": "stream",
     "text": [
      "TRAINIG RESULTS: \n",
      "===============================\n",
      "CONFUSION MATRIX:\n",
      "[[5094    0]\n",
      " [   0 5094]]\n",
      "ACCURACY SCORE:\n",
      "1.0000\n",
      "CLASSIFICATION REPORT:\n",
      "                1       2  accuracy  macro avg  weighted avg\n",
      "precision     1.0     1.0       1.0        1.0           1.0\n",
      "recall        1.0     1.0       1.0        1.0           1.0\n",
      "f1-score      1.0     1.0       1.0        1.0           1.0\n",
      "support    5094.0  5094.0       1.0    10188.0       10188.0\n",
      "TESTING RESULTS: \n",
      "===============================\n",
      "CONFUSION MATRIX:\n",
      "[[  76  249]\n",
      " [  82 1166]]\n",
      "ACCURACY SCORE:\n",
      "0.7896\n",
      "CLASSIFICATION REPORT:\n",
      "                    1            2  accuracy    macro avg  weighted avg\n",
      "precision    0.481013     0.824028  0.789574     0.652520      0.753157\n",
      "recall       0.233846     0.934295  0.789574     0.584071      0.789574\n",
      "f1-score     0.314700     0.875704  0.789574     0.595202      0.759794\n",
      "support    325.000000  1248.000000  0.789574  1573.000000   1573.000000\n"
     ]
    }
   ],
   "source": [
    "from sklearn.ensemble import VotingClassifier\n",
    "from sklearn.tree import DecisionTreeClassifier\n",
    "from sklearn.ensemble import RandomForestClassifier\n",
    "from sklearn.naive_bayes import GaussianNB\n",
    "from sklearn.ensemble import AdaBoostClassifier\n",
    "import xgboost as xgb\n",
    "\n",
    "estimators = []\n",
    "tree = DecisionTreeClassifier()\n",
    "estimators.append(('Tree', tree))\n",
    "\n",
    "rf = RandomForestClassifier()\n",
    "estimators.append(('RF', rf))\n",
    "\n",
    "gnb = GaussianNB()\n",
    "estimators.append(('GNB', rf))\n",
    "\n",
    "ab=AdaBoostClassifier(n_estimators=40)\n",
    "estimators.append(('AB', ab))\n",
    "\n",
    "xgb=xgb.XGBClassifier()\n",
    "estimators.append(('xgb', xgb))\n",
    "\n",
    "voting = VotingClassifier(estimators=estimators)\n",
    "voting.fit(features_train, labels_train)\n",
    "\n",
    "from sklearn.model_selection import cross_val_score\n",
    "accuracies1 = cross_val_score(estimator = voting, X = features_train, y = labels_train, cv = 10)\n",
    "mean=accuracies.mean()\n",
    "std=accuracies.std()\n",
    "evaluate(voting,features_train, features_test, labels_train, labels_test)"
   ]
  },
  {
   "cell_type": "code",
   "execution_count": 189,
   "id": "748ad9e0",
   "metadata": {},
   "outputs": [],
   "source": [
    "scores['Voting'] = {\n",
    "        'Train': accuracy_score(labels_train, voting.predict(features_train)),\n",
    "        'Test': accuracy_score(labels_test, voting.predict(features_test)),\n",
    "    }"
   ]
  },
  {
   "cell_type": "code",
   "execution_count": 190,
   "id": "96ef353f",
   "metadata": {},
   "outputs": [
    {
     "data": {
      "text/plain": [
       "<AxesSubplot:>"
      ]
     },
     "execution_count": 190,
     "metadata": {},
     "output_type": "execute_result"
    },
    {
     "data": {
      "image/png": "[encoded data removed]",
      "text/plain": [
       "<Figure size 1080x576 with 1 Axes>"
      ]
     },
     "metadata": {
      "needs_background": "light"
     },
     "output_type": "display_data"
    }
   ],
   "source": [
    "scores_df = pd.DataFrame(scores)\n",
    "\n",
    "scores_df.plot(kind='barh', figsize=(15, 8))"
   ]
  },
  {
   "cell_type": "code",
   "execution_count": 191,
   "id": "f5e14518",
   "metadata": {},
   "outputs": [
    {
     "data": {
      "text/plain": [
       "{'Bagging Classifier': {'Train': 1.0, 'Test': 0.7946598855689765},\n",
       " 'Random Forest': {'Train': 1.0, 'Test': 0.7991099809281628},\n",
       " 'Extra Tree': {'Train': 1.0, 'Test': 0.8048315321042594},\n",
       " 'AdaBoost': {'Train': 0.7482332155477032, 'Test': 0.6897647806738716},\n",
       " 'Gradient Boosting': {'Train': 0.7380251276010993,\n",
       "  'Test': 0.7018436109345201},\n",
       " 'Voting': {'Train': 1.0, 'Test': 0.789574062301335}}"
      ]
     },
     "execution_count": 191,
     "metadata": {},
     "output_type": "execute_result"
    }
   ],
   "source": [
    "scores"
   ]
  },
  {
   "cell_type": "code",
   "execution_count": null,
   "id": "e6581d7e",
   "metadata": {},
   "outputs": [],
   "source": []
  },
  {
   "cell_type": "markdown",
   "id": "3951facd",
   "metadata": {},
   "source": [
    "#### Adaboost and Gradient boost classifier has good accuracy wrt train and test data"
   ]
  },
  {
   "cell_type": "code",
   "execution_count": 192,
   "id": "48aa8513",
   "metadata": {},
   "outputs": [],
   "source": [
    "model=ada_boost_clf"
   ]
  },
  {
   "cell_type": "code",
   "execution_count": 193,
   "id": "193fd4d0",
   "metadata": {},
   "outputs": [
    {
     "data": {
      "text/html": [
       "<style>#sk-container-id-5 {color: black;background-color: white;}#sk-container-id-5 pre{padding: 0;}#sk-container-id-5 div.sk-toggleable {background-color: white;}#sk-container-id-5 label.sk-toggleable__label {cursor: pointer;display: block;width: 100%;margin-bottom: 0;padding: 0.3em;box-sizing: border-box;text-align: center;}#sk-container-id-5 label.sk-toggleable__label-arrow:before {content: \"▸\";float: left;margin-right: 0.25em;color: #696969;}#sk-container-id-5 label.sk-toggleable__label-arrow:hover:before {color: black;}#sk-container-id-5 div.sk-estimator:hover label.sk-toggleable__label-arrow:before {color: black;}#sk-container-id-5 div.sk-toggleable__content {max-height: 0;max-width: 0;overflow: hidden;text-align: left;background-color: #f0f8ff;}#sk-container-id-5 div.sk-toggleable__content pre {margin: 0.2em;color: black;border-radius: 0.25em;background-color: #f0f8ff;}#sk-container-id-5 input.sk-toggleable__control:checked~div.sk-toggleable__content {max-height: 200px;max-width: 100%;overflow: auto;}#sk-container-id-5 input.sk-toggleable__control:checked~label.sk-toggleable__label-arrow:before {content: \"▾\";}#sk-container-id-5 div.sk-estimator input.sk-toggleable__control:checked~label.sk-toggleable__label {background-color: #d4ebff;}#sk-container-id-5 div.sk-label input.sk-toggleable__control:checked~label.sk-toggleable__label {background-color: #d4ebff;}#sk-container-id-5 input.sk-hidden--visually {border: 0;clip: rect(1px 1px 1px 1px);clip: rect(1px, 1px, 1px, 1px);height: 1px;margin: -1px;overflow: hidden;padding: 0;position: absolute;width: 1px;}#sk-container-id-5 div.sk-estimator {font-family: monospace;background-color: #f0f8ff;border: 1px dotted black;border-radius: 0.25em;box-sizing: border-box;margin-bottom: 0.5em;}#sk-container-id-5 div.sk-estimator:hover {background-color: #d4ebff;}#sk-container-id-5 div.sk-parallel-item::after {content: \"\";width: 100%;border-bottom: 1px solid gray;flex-grow: 1;}#sk-container-id-5 div.sk-label:hover label.sk-toggleable__label {background-color: #d4ebff;}#sk-container-id-5 div.sk-serial::before {content: \"\";position: absolute;border-left: 1px solid gray;box-sizing: border-box;top: 0;bottom: 0;left: 50%;z-index: 0;}#sk-container-id-5 div.sk-serial {display: flex;flex-direction: column;align-items: center;background-color: white;padding-right: 0.2em;padding-left: 0.2em;position: relative;}#sk-container-id-5 div.sk-item {position: relative;z-index: 1;}#sk-container-id-5 div.sk-parallel {display: flex;align-items: stretch;justify-content: center;background-color: white;position: relative;}#sk-container-id-5 div.sk-item::before, #sk-container-id-5 div.sk-parallel-item::before {content: \"\";position: absolute;border-left: 1px solid gray;box-sizing: border-box;top: 0;bottom: 0;left: 50%;z-index: -1;}#sk-container-id-5 div.sk-parallel-item {display: flex;flex-direction: column;z-index: 1;position: relative;background-color: white;}#sk-container-id-5 div.sk-parallel-item:first-child::after {align-self: flex-end;width: 50%;}#sk-container-id-5 div.sk-parallel-item:last-child::after {align-self: flex-start;width: 50%;}#sk-container-id-5 div.sk-parallel-item:only-child::after {width: 0;}#sk-container-id-5 div.sk-dashed-wrapped {border: 1px dashed gray;margin: 0 0.4em 0.5em 0.4em;box-sizing: border-box;padding-bottom: 0.4em;background-color: white;}#sk-container-id-5 div.sk-label label {font-family: monospace;font-weight: bold;display: inline-block;line-height: 1.2em;}#sk-container-id-5 div.sk-label-container {text-align: center;}#sk-container-id-5 div.sk-container {/* jupyter's `normalize.less` sets `[hidden] { display: none; }` but bootstrap.min.css set `[hidden] { display: none !important; }` so we also need the `!important` here to be able to override the default hidden behavior on the sphinx rendered scikit-learn.org. See: https://github.com/scikit-learn/scikit-learn/issues/21755 */display: inline-block !important;position: relative;}#sk-container-id-5 div.sk-text-repr-fallback {display: none;}</style><div id=\"sk-container-id-5\" class=\"sk-top-container\"><div class=\"sk-text-repr-fallback\"><pre>AdaBoostClassifier(n_estimators=830)</pre><b>In a Jupyter environment, please rerun this cell to show the HTML representation or trust the notebook. <br />On GitHub, the HTML representation is unable to render, please try loading this page with nbviewer.org.</b></div><div class=\"sk-container\" hidden><div class=\"sk-item\"><div class=\"sk-estimator sk-toggleable\"><input class=\"sk-toggleable__control sk-hidden--visually\" id=\"sk-estimator-id-5\" type=\"checkbox\" checked><label for=\"sk-estimator-id-5\" class=\"sk-toggleable__label sk-toggleable__label-arrow\">AdaBoostClassifier</label><div class=\"sk-toggleable__content\"><pre>AdaBoostClassifier(n_estimators=830)</pre></div></div></div></div></div>"
      ],
      "text/plain": [
       "AdaBoostClassifier(n_estimators=830)"
      ]
     },
     "execution_count": 193,
     "metadata": {},
     "output_type": "execute_result"
    }
   ],
   "source": [
    "model"
   ]
  },
  {
   "cell_type": "code",
   "execution_count": 194,
   "id": "72828996",
   "metadata": {},
   "outputs": [],
   "source": [
    "test_data=pd.read_csv('test_data_comp.csv')"
   ]
  },
  {
   "cell_type": "code",
   "execution_count": 195,
   "id": "fa4c9531",
   "metadata": {},
   "outputs": [
    {
     "data": {
      "text/plain": [
       "Index(['Unnamed: 0', 'FlightNumber', 'Year', 'Month', 'DayofMonth',\n",
       "       'DayOfWeek', 'ScheduledDepTime', 'ScheduledArrTime',\n",
       "       'ScheduledTravelTime', 'Origin', 'Destination', 'Distance',\n",
       "       'GroundHeight', 'StationHeight', 'BarometerHeight', 'Latitude',\n",
       "       'Longitude', 'TimeZone', 'Time', 'SkyConditions', 'Visibility', 'DBT',\n",
       "       'RelativeHumidityPercent', 'WindSpeed', 'WindDirection',\n",
       "       'WindGustValue', 'StationPressure', 'HourlyPrecip'],\n",
       "      dtype='object')"
      ]
     },
     "execution_count": 195,
     "metadata": {},
     "output_type": "execute_result"
    }
   ],
   "source": [
    "test_data.columns"
   ]
  },
  {
   "cell_type": "code",
   "execution_count": 196,
   "id": "55d17ef6",
   "metadata": {},
   "outputs": [],
   "source": [
    "testdata1=test_data.drop(['FlightNumber'],axis=1)"
   ]
  },
  {
   "cell_type": "code",
   "execution_count": 197,
   "id": "ee8e1a43",
   "metadata": {},
   "outputs": [],
   "source": [
    "testdata1=testdata1.drop(['Unnamed: 0','Year','TimeZone','HourlyPrecip','BarometerHeight','StationHeight','GroundHeight','Visibility','Latitude','Longitude',\n",
    "             'WindGustValue'],axis=1)"
   ]
  },
  {
   "cell_type": "markdown",
   "id": "b531a4bd",
   "metadata": {},
   "source": [
    "### Model prediction using Adaboost model"
   ]
  },
  {
   "cell_type": "code",
   "execution_count": 198,
   "id": "2820112e",
   "metadata": {},
   "outputs": [],
   "source": [
    "FlightDelayStatus=model.predict(testdata1)"
   ]
  },
  {
   "cell_type": "code",
   "execution_count": 199,
   "id": "85271ad4",
   "metadata": {},
   "outputs": [
    {
     "data": {
      "text/plain": [
       "array([2, 1, 2, ..., 2, 2, 1], dtype=int64)"
      ]
     },
     "execution_count": 199,
     "metadata": {},
     "output_type": "execute_result"
    }
   ],
   "source": [
    "FlightDelayStatus"
   ]
  },
  {
   "cell_type": "code",
   "execution_count": 200,
   "id": "5ec10282",
   "metadata": {},
   "outputs": [
    {
     "name": "stdout",
     "output_type": "stream",
     "text": [
      "[1 2]\n"
     ]
    }
   ],
   "source": [
    "def unique(FlightDelayStatus):\n",
    "    x = np.array(FlightDelayStatus)\n",
    "    print(np.unique(x))\n",
    "unique(FlightDelayStatus)"
   ]
  },
  {
   "cell_type": "code",
   "execution_count": 201,
   "id": "1bfa5801",
   "metadata": {},
   "outputs": [],
   "source": [
    "final1= pd.DataFrame({'FlightNumber': test_data['FlightNumber'], 'FlightDelayStatus': FlightDelayStatus})"
   ]
  },
  {
   "cell_type": "code",
   "execution_count": 202,
   "id": "62e7cf82",
   "metadata": {},
   "outputs": [],
   "source": [
    "final1.to_csv('Vidyashree_v_adab.csv',index=False)"
   ]
  },
  {
   "cell_type": "markdown",
   "id": "55dad380",
   "metadata": {},
   "source": [
    "### Predicted model using Gradient Boost Classifier"
   ]
  },
  {
   "cell_type": "code",
   "execution_count": 203,
   "id": "97a02055",
   "metadata": {},
   "outputs": [],
   "source": [
    "modelgb=grad_boost_clf"
   ]
  },
  {
   "cell_type": "code",
   "execution_count": 204,
   "id": "ea6dcfee",
   "metadata": {},
   "outputs": [],
   "source": [
    "FlightDelayStatus=modelgb.predict(testdata1)"
   ]
  },
  {
   "cell_type": "code",
   "execution_count": 205,
   "id": "71089f4c",
   "metadata": {},
   "outputs": [],
   "source": [
    "final2= pd.DataFrame({'FlightNumber': test_data['FlightNumber'], 'FlightDelayStatus': FlightDelayStatus})"
   ]
  },
  {
   "cell_type": "code",
   "execution_count": 206,
   "id": "b80c2705",
   "metadata": {},
   "outputs": [],
   "source": [
    "final1.to_csv('Vidyashree_gb.csv',index=False)"
   ]
  },
  {
   "cell_type": "code",
   "execution_count": null,
   "id": "65419c2a",
   "metadata": {},
   "outputs": [],
   "source": []
  }
 ],
 "metadata": {
  "kernelspec": {
   "display_name": "Python 3 (ipykernel)",
   "language": "python",
   "name": "python3"
  },
  "language_info": {
   "codemirror_mode": {
    "name": "ipython",
    "version": 3
   },
   "file_extension": ".py",
   "mimetype": "text/x-python",
   "name": "python",
   "nbconvert_exporter": "python",
   "pygments_lexer": "ipython3",
   "version": "3.9.7"
  }
 },
 "nbformat": 4,
 "nbformat_minor": 5
}
